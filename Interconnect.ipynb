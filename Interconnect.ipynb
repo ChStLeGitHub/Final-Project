{
 "cells": [
  {
   "cell_type": "markdown",
   "metadata": {},
   "source": [
    "# Table of Contents\n",
    "\n",
    "[Initialization](#1)\n",
    "\n",
    "[Introduction](#2)\n",
    "\n",
    "[Loading & Preprocessing Data](#3)\n",
    "- [Contract Information Dataframe](#3.1)\n",
    "- [Internet Usage Dataframe](#3.2)\n",
    "- [Personal Information Dataframe](#3.3)\n",
    "- [Phone Information Dataframe](#3.4)\n",
    "\n",
    "[Features Engineering](#4)\n",
    "\n",
    "[Merging the Dataframes](#5)\n",
    "\n",
    "[EDA (Exploratory Data Analysis)](#6)\n",
    "\n",
    "[Work Plan and Questions](#7)\n",
    "\n",
    "[Solution Code](#8)\n",
    "- [Training, Validation, and Test Sets](#8.1)\n",
    "- [Upsampling & Downsampling Functions](#8.2)\n",
    "- [Dummy Classifier – Upsampled](#8.3)\n",
    "- [Dummy Classifier – Downsampled](#8.4)\n",
    "- [Logistic Regression – Upsampled](#8.5)\n",
    "- [Logistic Regression – Downsampled](#8.6)\n",
    "- [LGBMClassifier – Upsampled](#8.7)\n",
    "- [LGBMClassifier – Downsampled](#8.8)\n",
    "- [XGBClassifier – Upsampled](#8.9)\n",
    "- [XGBClassifier – Downsampled](#8.10)\n",
    "- [CatBoostClassifier – Upsampled](#8.11)\n",
    "- [CatBoostClassifier – Downsampled](#8.12)\n",
    "\n",
    "[Model Testing](#9)\n",
    "\n",
    "[Solution Report](#10)"
   ]
  },
  {
   "cell_type": "markdown",
   "metadata": {},
   "source": [
    "# Initialization <a id = 1></a>"
   ]
  },
  {
   "cell_type": "code",
   "execution_count": 1,
   "metadata": {},
   "outputs": [],
   "source": [
    "from catboost import CatBoostClassifier, Pool\n",
    "from dateutil.relativedelta import relativedelta\n",
    "from lightgbm import LGBMClassifier\n",
    "from sklearn.dummy import DummyClassifier\n",
    "from sklearn.linear_model import LogisticRegression\n",
    "from sklearn.metrics import roc_auc_score, roc_curve\n",
    "from sklearn.model_selection import GridSearchCV, train_test_split\n",
    "from sklearn.utils import shuffle\n",
    "from xgboost import XGBClassifier\n",
    "\n",
    "import matplotlib.pyplot as plt\n",
    "import numpy as np\n",
    "import pandas as pd\n",
    "import seaborn as sns\n",
    "import time"
   ]
  },
  {
   "cell_type": "markdown",
   "metadata": {},
   "source": [
    "# Introduction <a id = 2></a>"
   ]
  },
  {
   "cell_type": "markdown",
   "metadata": {},
   "source": [
    "The telecom operator Interconnect wants to forecast which of their users are planning to leave, as this kind of forecasting would allow Interconnect to offer promotional codes and special plan options to those users.\n",
    "\n",
    "My task is to build a machine learning model that can do this kind of forecasting. This is a binary classification task, as every user can be put into one of two categories: (1) Yes, this user is expected to leave Interconnect and (2) No, this user is not expected to leave Interconnect.\n",
    "\n",
    "Ideally, the model will have an AUC-ROC value of at least 0.85."
   ]
  },
  {
   "cell_type": "markdown",
   "metadata": {},
   "source": [
    "# Loading & Preprocessing Data <a id = 3></a>"
   ]
  },
  {
   "cell_type": "markdown",
   "metadata": {},
   "source": [
    "For each of the four dataframes, I will convert the column names to snake_case (as needed), drop any rows that are exact duplicates of another, change the Dtypes of the columns if appropriate, and perform feature engineering as I see fit, in that order."
   ]
  },
  {
   "cell_type": "markdown",
   "metadata": {},
   "source": [
    "**Contract Information Dataframe** <a id = 3.1></a>"
   ]
  },
  {
   "cell_type": "code",
   "execution_count": 2,
   "metadata": {},
   "outputs": [],
   "source": [
    "contract_info = pd.read_csv('/datasets/final_provider/contract.csv')"
   ]
  },
  {
   "cell_type": "code",
   "execution_count": 3,
   "metadata": {},
   "outputs": [
    {
     "data": {
      "text/html": [
       "<div>\n",
       "<style scoped>\n",
       "    .dataframe tbody tr th:only-of-type {\n",
       "        vertical-align: middle;\n",
       "    }\n",
       "\n",
       "    .dataframe tbody tr th {\n",
       "        vertical-align: top;\n",
       "    }\n",
       "\n",
       "    .dataframe thead th {\n",
       "        text-align: right;\n",
       "    }\n",
       "</style>\n",
       "<table border=\"1\" class=\"dataframe\">\n",
       "  <thead>\n",
       "    <tr style=\"text-align: right;\">\n",
       "      <th></th>\n",
       "      <th>customerID</th>\n",
       "      <th>BeginDate</th>\n",
       "      <th>EndDate</th>\n",
       "      <th>Type</th>\n",
       "      <th>PaperlessBilling</th>\n",
       "      <th>PaymentMethod</th>\n",
       "      <th>MonthlyCharges</th>\n",
       "      <th>TotalCharges</th>\n",
       "    </tr>\n",
       "  </thead>\n",
       "  <tbody>\n",
       "    <tr>\n",
       "      <th>0</th>\n",
       "      <td>7590-VHVEG</td>\n",
       "      <td>2020-01-01</td>\n",
       "      <td>No</td>\n",
       "      <td>Month-to-month</td>\n",
       "      <td>Yes</td>\n",
       "      <td>Electronic check</td>\n",
       "      <td>29.85</td>\n",
       "      <td>29.85</td>\n",
       "    </tr>\n",
       "    <tr>\n",
       "      <th>1</th>\n",
       "      <td>5575-GNVDE</td>\n",
       "      <td>2017-04-01</td>\n",
       "      <td>No</td>\n",
       "      <td>One year</td>\n",
       "      <td>No</td>\n",
       "      <td>Mailed check</td>\n",
       "      <td>56.95</td>\n",
       "      <td>1889.5</td>\n",
       "    </tr>\n",
       "    <tr>\n",
       "      <th>2</th>\n",
       "      <td>3668-QPYBK</td>\n",
       "      <td>2019-10-01</td>\n",
       "      <td>2019-12-01 00:00:00</td>\n",
       "      <td>Month-to-month</td>\n",
       "      <td>Yes</td>\n",
       "      <td>Mailed check</td>\n",
       "      <td>53.85</td>\n",
       "      <td>108.15</td>\n",
       "    </tr>\n",
       "    <tr>\n",
       "      <th>3</th>\n",
       "      <td>7795-CFOCW</td>\n",
       "      <td>2016-05-01</td>\n",
       "      <td>No</td>\n",
       "      <td>One year</td>\n",
       "      <td>No</td>\n",
       "      <td>Bank transfer (automatic)</td>\n",
       "      <td>42.30</td>\n",
       "      <td>1840.75</td>\n",
       "    </tr>\n",
       "    <tr>\n",
       "      <th>4</th>\n",
       "      <td>9237-HQITU</td>\n",
       "      <td>2019-09-01</td>\n",
       "      <td>2019-11-01 00:00:00</td>\n",
       "      <td>Month-to-month</td>\n",
       "      <td>Yes</td>\n",
       "      <td>Electronic check</td>\n",
       "      <td>70.70</td>\n",
       "      <td>151.65</td>\n",
       "    </tr>\n",
       "    <tr>\n",
       "      <th>5</th>\n",
       "      <td>9305-CDSKC</td>\n",
       "      <td>2019-03-01</td>\n",
       "      <td>2019-11-01 00:00:00</td>\n",
       "      <td>Month-to-month</td>\n",
       "      <td>Yes</td>\n",
       "      <td>Electronic check</td>\n",
       "      <td>99.65</td>\n",
       "      <td>820.5</td>\n",
       "    </tr>\n",
       "    <tr>\n",
       "      <th>6</th>\n",
       "      <td>1452-KIOVK</td>\n",
       "      <td>2018-04-01</td>\n",
       "      <td>No</td>\n",
       "      <td>Month-to-month</td>\n",
       "      <td>Yes</td>\n",
       "      <td>Credit card (automatic)</td>\n",
       "      <td>89.10</td>\n",
       "      <td>1949.4</td>\n",
       "    </tr>\n",
       "    <tr>\n",
       "      <th>7</th>\n",
       "      <td>6713-OKOMC</td>\n",
       "      <td>2019-04-01</td>\n",
       "      <td>No</td>\n",
       "      <td>Month-to-month</td>\n",
       "      <td>No</td>\n",
       "      <td>Mailed check</td>\n",
       "      <td>29.75</td>\n",
       "      <td>301.9</td>\n",
       "    </tr>\n",
       "    <tr>\n",
       "      <th>8</th>\n",
       "      <td>7892-POOKP</td>\n",
       "      <td>2017-07-01</td>\n",
       "      <td>2019-11-01 00:00:00</td>\n",
       "      <td>Month-to-month</td>\n",
       "      <td>Yes</td>\n",
       "      <td>Electronic check</td>\n",
       "      <td>104.80</td>\n",
       "      <td>3046.05</td>\n",
       "    </tr>\n",
       "    <tr>\n",
       "      <th>9</th>\n",
       "      <td>6388-TABGU</td>\n",
       "      <td>2014-12-01</td>\n",
       "      <td>No</td>\n",
       "      <td>One year</td>\n",
       "      <td>No</td>\n",
       "      <td>Bank transfer (automatic)</td>\n",
       "      <td>56.15</td>\n",
       "      <td>3487.95</td>\n",
       "    </tr>\n",
       "  </tbody>\n",
       "</table>\n",
       "</div>"
      ],
      "text/plain": [
       "   customerID   BeginDate              EndDate            Type  \\\n",
       "0  7590-VHVEG  2020-01-01                   No  Month-to-month   \n",
       "1  5575-GNVDE  2017-04-01                   No        One year   \n",
       "2  3668-QPYBK  2019-10-01  2019-12-01 00:00:00  Month-to-month   \n",
       "3  7795-CFOCW  2016-05-01                   No        One year   \n",
       "4  9237-HQITU  2019-09-01  2019-11-01 00:00:00  Month-to-month   \n",
       "5  9305-CDSKC  2019-03-01  2019-11-01 00:00:00  Month-to-month   \n",
       "6  1452-KIOVK  2018-04-01                   No  Month-to-month   \n",
       "7  6713-OKOMC  2019-04-01                   No  Month-to-month   \n",
       "8  7892-POOKP  2017-07-01  2019-11-01 00:00:00  Month-to-month   \n",
       "9  6388-TABGU  2014-12-01                   No        One year   \n",
       "\n",
       "  PaperlessBilling              PaymentMethod  MonthlyCharges TotalCharges  \n",
       "0              Yes           Electronic check           29.85        29.85  \n",
       "1               No               Mailed check           56.95       1889.5  \n",
       "2              Yes               Mailed check           53.85       108.15  \n",
       "3               No  Bank transfer (automatic)           42.30      1840.75  \n",
       "4              Yes           Electronic check           70.70       151.65  \n",
       "5              Yes           Electronic check           99.65        820.5  \n",
       "6              Yes    Credit card (automatic)           89.10       1949.4  \n",
       "7               No               Mailed check           29.75        301.9  \n",
       "8              Yes           Electronic check          104.80      3046.05  \n",
       "9               No  Bank transfer (automatic)           56.15      3487.95  "
      ]
     },
     "execution_count": 3,
     "metadata": {},
     "output_type": "execute_result"
    }
   ],
   "source": [
    "contract_info.head(10)"
   ]
  },
  {
   "cell_type": "code",
   "execution_count": 4,
   "metadata": {},
   "outputs": [],
   "source": [
    "contract_info.columns = contract_info.columns.str.lower()\n",
    "\n",
    "contract_info = contract_info.rename(columns = {'customerid': 'customer_id', 'begindate': 'begin_date', \n",
    "                                                'enddate': 'end_date', 'paperlessbilling': 'paperless_billing',\n",
    "                                                'paymentmethod': 'payment_method', 'monthlycharges': 'monthly_charges',\n",
    "                                                'totalcharges': 'total_charges'})"
   ]
  },
  {
   "cell_type": "code",
   "execution_count": 5,
   "metadata": {},
   "outputs": [
    {
     "data": {
      "text/plain": [
       "0"
      ]
     },
     "execution_count": 5,
     "metadata": {},
     "output_type": "execute_result"
    }
   ],
   "source": [
    "contract_info.duplicated().sum()"
   ]
  },
  {
   "cell_type": "markdown",
   "metadata": {},
   "source": [
    "The line of code above implies that this dataframe does not have any rows which are exact duplicates of another, which is great!\n",
    "\n",
    "However, I wonder if any of the **customer_id** values are duplicates."
   ]
  },
  {
   "cell_type": "code",
   "execution_count": 6,
   "metadata": {},
   "outputs": [
    {
     "data": {
      "text/html": [
       "<div>\n",
       "<style scoped>\n",
       "    .dataframe tbody tr th:only-of-type {\n",
       "        vertical-align: middle;\n",
       "    }\n",
       "\n",
       "    .dataframe tbody tr th {\n",
       "        vertical-align: top;\n",
       "    }\n",
       "\n",
       "    .dataframe thead th {\n",
       "        text-align: right;\n",
       "    }\n",
       "</style>\n",
       "<table border=\"1\" class=\"dataframe\">\n",
       "  <thead>\n",
       "    <tr style=\"text-align: right;\">\n",
       "      <th></th>\n",
       "      <th>customer_id</th>\n",
       "      <th>begin_date</th>\n",
       "      <th>end_date</th>\n",
       "      <th>type</th>\n",
       "      <th>paperless_billing</th>\n",
       "      <th>payment_method</th>\n",
       "      <th>monthly_charges</th>\n",
       "      <th>total_charges</th>\n",
       "    </tr>\n",
       "  </thead>\n",
       "  <tbody>\n",
       "  </tbody>\n",
       "</table>\n",
       "</div>"
      ],
      "text/plain": [
       "Empty DataFrame\n",
       "Columns: [customer_id, begin_date, end_date, type, paperless_billing, payment_method, monthly_charges, total_charges]\n",
       "Index: []"
      ]
     },
     "metadata": {},
     "output_type": "display_data"
    }
   ],
   "source": [
    "display(contract_info[contract_info['customer_id'].duplicated()])"
   ]
  },
  {
   "cell_type": "markdown",
   "metadata": {},
   "source": [
    "Great! The above line proves that there are no implicit duplicates of the kind where the same **customer_id** appears in two or more rows."
   ]
  },
  {
   "cell_type": "code",
   "execution_count": 7,
   "metadata": {},
   "outputs": [
    {
     "name": "stdout",
     "output_type": "stream",
     "text": [
      "<class 'pandas.core.frame.DataFrame'>\n",
      "RangeIndex: 7043 entries, 0 to 7042\n",
      "Data columns (total 8 columns):\n",
      " #   Column             Non-Null Count  Dtype  \n",
      "---  ------             --------------  -----  \n",
      " 0   customer_id        7043 non-null   object \n",
      " 1   begin_date         7043 non-null   object \n",
      " 2   end_date           7043 non-null   object \n",
      " 3   type               7043 non-null   object \n",
      " 4   paperless_billing  7043 non-null   object \n",
      " 5   payment_method     7043 non-null   object \n",
      " 6   monthly_charges    7043 non-null   float64\n",
      " 7   total_charges      7043 non-null   object \n",
      "dtypes: float64(1), object(7)\n",
      "memory usage: 440.3+ KB\n"
     ]
    }
   ],
   "source": [
    "contract_info.info()"
   ]
  },
  {
   "cell_type": "markdown",
   "metadata": {},
   "source": [
    "Thankfully, there are no null values. That said, some of the Dtypes should be changed."
   ]
  },
  {
   "cell_type": "markdown",
   "metadata": {},
   "source": [
    "It makes sense for the **begin_date** column to be coverted to datetime format."
   ]
  },
  {
   "cell_type": "code",
   "execution_count": 8,
   "metadata": {},
   "outputs": [],
   "source": [
    "contract_info['begin_date'] = pd.to_datetime(contract_info['begin_date'])"
   ]
  },
  {
   "cell_type": "markdown",
   "metadata": {},
   "source": [
    "Unlike the **begin_date** values which only have the date, the **end_date** values also have the time. However, I have a feeling that all of the time values are 00:00:00. Is my feeling correct?"
   ]
  },
  {
   "cell_type": "code",
   "execution_count": 9,
   "metadata": {},
   "outputs": [
    {
     "data": {
      "text/plain": [
       "No                     5174\n",
       "2019-11-01 00:00:00     485\n",
       "2019-12-01 00:00:00     466\n",
       "2020-01-01 00:00:00     460\n",
       "2019-10-01 00:00:00     458\n",
       "Name: end_date, dtype: int64"
      ]
     },
     "execution_count": 9,
     "metadata": {},
     "output_type": "execute_result"
    }
   ],
   "source": [
    "contract_info['end_date'].value_counts()"
   ]
  },
  {
   "cell_type": "markdown",
   "metadata": {},
   "source": [
    "Yes, my feeling is correct. I think it is pointless to keep the time if it will always be 00:00:00. Furthermore, I see no point in keeping the day of the month for both **begin_date** and **end_date** since it is always the first day anyways. \n",
    "\n",
    "Clearly, contracts always begin and end on the first day of the corresponding months. The next two lines of code remove the day and time values.\n",
    "\n",
    "Additionally, for customers who have not left Interconnect, I think it makes more sense to use \"**N/A**\" as their **end_date** value instead of \"**No**\"."
   ]
  },
  {
   "cell_type": "code",
   "execution_count": 10,
   "metadata": {},
   "outputs": [],
   "source": [
    "contract_info['begin_date'] = contract_info['begin_date'].dt.strftime('%Y-%m')"
   ]
  },
  {
   "cell_type": "code",
   "execution_count": 11,
   "metadata": {},
   "outputs": [],
   "source": [
    "contract_info['end_date'] = contract_info['end_date'].replace('No', pd.NaT)\n",
    "\n",
    "contract_info['end_date'] = pd.to_datetime(contract_info['end_date'])\n",
    "contract_info['end_date'] = contract_info['end_date'].dt.strftime('%Y-%m')\n",
    "\n",
    "contract_info['end_date'] = contract_info['end_date'].fillna('N/A')"
   ]
  },
  {
   "cell_type": "markdown",
   "metadata": {},
   "source": [
    "It is useful to know what the plan types. The next line displays all the **type** values and their corresponding counts."
   ]
  },
  {
   "cell_type": "code",
   "execution_count": 12,
   "metadata": {},
   "outputs": [
    {
     "data": {
      "text/plain": [
       "Month-to-month    3875\n",
       "Two year          1695\n",
       "One year          1473\n",
       "Name: type, dtype: int64"
      ]
     },
     "execution_count": 12,
     "metadata": {},
     "output_type": "execute_result"
    }
   ],
   "source": [
    "contract_info['type'].value_counts()"
   ]
  },
  {
   "cell_type": "markdown",
   "metadata": {},
   "source": [
    "Since machine learning models handle numerical values much more easily than text values, I will convert this column to Dtype int64. \n",
    "\n",
    "In order to do this conversion, I will first replace every **One year** value with **1**, every **Two year** value with **2**, and every **Month-to-month** value with **0**. \n",
    "\n",
    "(0 makes sense for Month-to-month because one month is 1/12 of a year, and 1/12 is much closer to 0 than to any other integer)."
   ]
  },
  {
   "cell_type": "code",
   "execution_count": 13,
   "metadata": {},
   "outputs": [],
   "source": [
    "contract_info['type'] = contract_info['type'].replace('Month-to-month', '0')\n",
    "contract_info['type'] = contract_info['type'].replace('One year', '1')\n",
    "contract_info['type'] = contract_info['type'].replace('Two year', '2')\n",
    "\n",
    "contract_info['type'] = contract_info['type'].astype('int')"
   ]
  },
  {
   "cell_type": "markdown",
   "metadata": {},
   "source": [
    "In the next line I rename the **type** column to **contract_type** because I think this name makes it more clear what kind of information is stored in this column."
   ]
  },
  {
   "cell_type": "code",
   "execution_count": 14,
   "metadata": {},
   "outputs": [],
   "source": [
    "contract_info = contract_info.rename(columns = {'type': 'contract_type'})"
   ]
  },
  {
   "cell_type": "markdown",
   "metadata": {},
   "source": [
    "Since the number 0 means false / no and the number 1 means true / yes in computer science contexts, I will convert the **paperless_billing** column values to Dtype int64. This is a good idea because machine learning models handle numerical values much more easily than text values."
   ]
  },
  {
   "cell_type": "code",
   "execution_count": 15,
   "metadata": {},
   "outputs": [],
   "source": [
    "contract_info['paperless_billing'] = contract_info['paperless_billing'].replace('Yes', '1')\n",
    "contract_info['paperless_billing'] = contract_info['paperless_billing'].replace('No', '0')\n",
    "\n",
    "contract_info['paperless_billing'] = contract_info['paperless_billing'].astype('int')"
   ]
  },
  {
   "cell_type": "markdown",
   "metadata": {},
   "source": [
    "It is useful to know what the permissible payment methods are. The next line displays all the **payment_method** values and their corresponding counts."
   ]
  },
  {
   "cell_type": "code",
   "execution_count": 16,
   "metadata": {},
   "outputs": [
    {
     "data": {
      "text/plain": [
       "Electronic check             2365\n",
       "Mailed check                 1612\n",
       "Bank transfer (automatic)    1544\n",
       "Credit card (automatic)      1522\n",
       "Name: payment_method, dtype: int64"
      ]
     },
     "execution_count": 16,
     "metadata": {},
     "output_type": "execute_result"
    }
   ],
   "source": [
    "contract_info['payment_method'].value_counts()"
   ]
  },
  {
   "cell_type": "markdown",
   "metadata": {},
   "source": [
    "Just like what I did with the **type** and **paperless_billing** column values, I will convert the **payment_method** values to integers. Specifically, I will number them in alphabetical order starting with 0. Hence, **Bank transfer (automatic)** is **0**, **Credit card (automatic)** is **1**, **Electronic check** is **2**, and **Mailed check** is **3**."
   ]
  },
  {
   "cell_type": "code",
   "execution_count": 17,
   "metadata": {},
   "outputs": [],
   "source": [
    "contract_info['payment_method'] = contract_info['payment_method'].replace('Bank transfer (automatic)', '0')\n",
    "contract_info['payment_method'] = contract_info['payment_method'].replace('Credit card (automatic)', '1')\n",
    "contract_info['payment_method'] = contract_info['payment_method'].replace('Electronic check', '2')\n",
    "contract_info['payment_method'] = contract_info['payment_method'].replace('Mailed check', '3')\n",
    "\n",
    "contract_info['payment_method'] = contract_info['payment_method'].astype('int')"
   ]
  },
  {
   "cell_type": "markdown",
   "metadata": {},
   "source": [
    "In the next line I rename the **monthly_charges** column to **monthly_fee** because in my opinion this new name sounds better."
   ]
  },
  {
   "cell_type": "code",
   "execution_count": 18,
   "metadata": {},
   "outputs": [],
   "source": [
    "contract_info = contract_info.rename(columns = {'monthly_charges': 'monthly_fee'})"
   ]
  },
  {
   "cell_type": "markdown",
   "metadata": {},
   "source": [
    "The **total_charges** values should be floats, not objects. When I tried to convert this column to Dtype float64, I received an error. I suspect it is because some of the **total_charges** values are empty strings. Let's see if this is the case."
   ]
  },
  {
   "cell_type": "code",
   "execution_count": 19,
   "metadata": {},
   "outputs": [
    {
     "data": {
      "text/html": [
       "<div>\n",
       "<style scoped>\n",
       "    .dataframe tbody tr th:only-of-type {\n",
       "        vertical-align: middle;\n",
       "    }\n",
       "\n",
       "    .dataframe tbody tr th {\n",
       "        vertical-align: top;\n",
       "    }\n",
       "\n",
       "    .dataframe thead th {\n",
       "        text-align: right;\n",
       "    }\n",
       "</style>\n",
       "<table border=\"1\" class=\"dataframe\">\n",
       "  <thead>\n",
       "    <tr style=\"text-align: right;\">\n",
       "      <th></th>\n",
       "      <th>customer_id</th>\n",
       "      <th>begin_date</th>\n",
       "      <th>end_date</th>\n",
       "      <th>contract_type</th>\n",
       "      <th>paperless_billing</th>\n",
       "      <th>payment_method</th>\n",
       "      <th>monthly_fee</th>\n",
       "      <th>total_charges</th>\n",
       "    </tr>\n",
       "  </thead>\n",
       "  <tbody>\n",
       "    <tr>\n",
       "      <th>488</th>\n",
       "      <td>4472-LVYGI</td>\n",
       "      <td>2020-02</td>\n",
       "      <td>N/A</td>\n",
       "      <td>2</td>\n",
       "      <td>1</td>\n",
       "      <td>0</td>\n",
       "      <td>52.55</td>\n",
       "      <td></td>\n",
       "    </tr>\n",
       "    <tr>\n",
       "      <th>753</th>\n",
       "      <td>3115-CZMZD</td>\n",
       "      <td>2020-02</td>\n",
       "      <td>N/A</td>\n",
       "      <td>2</td>\n",
       "      <td>0</td>\n",
       "      <td>3</td>\n",
       "      <td>20.25</td>\n",
       "      <td></td>\n",
       "    </tr>\n",
       "    <tr>\n",
       "      <th>936</th>\n",
       "      <td>5709-LVOEQ</td>\n",
       "      <td>2020-02</td>\n",
       "      <td>N/A</td>\n",
       "      <td>2</td>\n",
       "      <td>0</td>\n",
       "      <td>3</td>\n",
       "      <td>80.85</td>\n",
       "      <td></td>\n",
       "    </tr>\n",
       "    <tr>\n",
       "      <th>1082</th>\n",
       "      <td>4367-NUYAO</td>\n",
       "      <td>2020-02</td>\n",
       "      <td>N/A</td>\n",
       "      <td>2</td>\n",
       "      <td>0</td>\n",
       "      <td>3</td>\n",
       "      <td>25.75</td>\n",
       "      <td></td>\n",
       "    </tr>\n",
       "    <tr>\n",
       "      <th>1340</th>\n",
       "      <td>1371-DWPAZ</td>\n",
       "      <td>2020-02</td>\n",
       "      <td>N/A</td>\n",
       "      <td>2</td>\n",
       "      <td>0</td>\n",
       "      <td>1</td>\n",
       "      <td>56.05</td>\n",
       "      <td></td>\n",
       "    </tr>\n",
       "    <tr>\n",
       "      <th>3331</th>\n",
       "      <td>7644-OMVMY</td>\n",
       "      <td>2020-02</td>\n",
       "      <td>N/A</td>\n",
       "      <td>2</td>\n",
       "      <td>0</td>\n",
       "      <td>3</td>\n",
       "      <td>19.85</td>\n",
       "      <td></td>\n",
       "    </tr>\n",
       "    <tr>\n",
       "      <th>3826</th>\n",
       "      <td>3213-VVOLG</td>\n",
       "      <td>2020-02</td>\n",
       "      <td>N/A</td>\n",
       "      <td>2</td>\n",
       "      <td>0</td>\n",
       "      <td>3</td>\n",
       "      <td>25.35</td>\n",
       "      <td></td>\n",
       "    </tr>\n",
       "    <tr>\n",
       "      <th>4380</th>\n",
       "      <td>2520-SGTTA</td>\n",
       "      <td>2020-02</td>\n",
       "      <td>N/A</td>\n",
       "      <td>2</td>\n",
       "      <td>0</td>\n",
       "      <td>3</td>\n",
       "      <td>20.00</td>\n",
       "      <td></td>\n",
       "    </tr>\n",
       "    <tr>\n",
       "      <th>5218</th>\n",
       "      <td>2923-ARZLG</td>\n",
       "      <td>2020-02</td>\n",
       "      <td>N/A</td>\n",
       "      <td>1</td>\n",
       "      <td>1</td>\n",
       "      <td>3</td>\n",
       "      <td>19.70</td>\n",
       "      <td></td>\n",
       "    </tr>\n",
       "    <tr>\n",
       "      <th>6670</th>\n",
       "      <td>4075-WKNIU</td>\n",
       "      <td>2020-02</td>\n",
       "      <td>N/A</td>\n",
       "      <td>2</td>\n",
       "      <td>0</td>\n",
       "      <td>3</td>\n",
       "      <td>73.35</td>\n",
       "      <td></td>\n",
       "    </tr>\n",
       "    <tr>\n",
       "      <th>6754</th>\n",
       "      <td>2775-SEFEE</td>\n",
       "      <td>2020-02</td>\n",
       "      <td>N/A</td>\n",
       "      <td>2</td>\n",
       "      <td>1</td>\n",
       "      <td>0</td>\n",
       "      <td>61.90</td>\n",
       "      <td></td>\n",
       "    </tr>\n",
       "  </tbody>\n",
       "</table>\n",
       "</div>"
      ],
      "text/plain": [
       "     customer_id begin_date end_date  contract_type  paperless_billing  \\\n",
       "488   4472-LVYGI    2020-02      N/A              2                  1   \n",
       "753   3115-CZMZD    2020-02      N/A              2                  0   \n",
       "936   5709-LVOEQ    2020-02      N/A              2                  0   \n",
       "1082  4367-NUYAO    2020-02      N/A              2                  0   \n",
       "1340  1371-DWPAZ    2020-02      N/A              2                  0   \n",
       "3331  7644-OMVMY    2020-02      N/A              2                  0   \n",
       "3826  3213-VVOLG    2020-02      N/A              2                  0   \n",
       "4380  2520-SGTTA    2020-02      N/A              2                  0   \n",
       "5218  2923-ARZLG    2020-02      N/A              1                  1   \n",
       "6670  4075-WKNIU    2020-02      N/A              2                  0   \n",
       "6754  2775-SEFEE    2020-02      N/A              2                  1   \n",
       "\n",
       "      payment_method  monthly_fee total_charges  \n",
       "488                0        52.55                \n",
       "753                3        20.25                \n",
       "936                3        80.85                \n",
       "1082               3        25.75                \n",
       "1340               1        56.05                \n",
       "3331               3        19.85                \n",
       "3826               3        25.35                \n",
       "4380               3        20.00                \n",
       "5218               3        19.70                \n",
       "6670               3        73.35                \n",
       "6754               0        61.90                "
      ]
     },
     "metadata": {},
     "output_type": "display_data"
    }
   ],
   "source": [
    "contract_info['total_charges'] = contract_info['total_charges'].astype('str')\n",
    "\n",
    "display(contract_info[contract_info['total_charges'] == ' '])"
   ]
  },
  {
   "cell_type": "markdown",
   "metadata": {},
   "source": [
    "Indeed, 11 of the **total_charges** values are empty strings. Unfortunately, none of the other dataframes tell me anything about any other charges these customers might have aside from the monthly charge. In the next line, I drop these 11 rows; doing this should not negatively effect the machine learning model because 11 is such a small number of rows (less than 0.2% of the dataframe).\n",
    "\n",
    "I will be sure to drop the rows with one of these 11 **customer_id** values from the **personal_info** and **phone_info** dataframes."
   ]
  },
  {
   "cell_type": "code",
   "execution_count": 20,
   "metadata": {},
   "outputs": [],
   "source": [
    "customer_ids_to_drop = ['4472-LVYGI', '3115-CZMZD', '5709-LVOEQ', '4367-NUYAO', '1371-DWPAZ', '7644-OMVMY',\n",
    "                        '3213-VVOLG', '2520-SGTTA', '2923-ARZLG', '4075-WKNIU', '2775-SEFEE']\n",
    "\n",
    "contract_info = contract_info[~contract_info['customer_id'].isin(customer_ids_to_drop)]\n",
    "\n",
    "contract_info = contract_info.reset_index(drop = True)\n",
    "\n",
    "contract_info['total_charges'] = contract_info['total_charges'].astype('float')"
   ]
  },
  {
   "cell_type": "code",
   "execution_count": 21,
   "metadata": {},
   "outputs": [
    {
     "data": {
      "text/html": [
       "<div>\n",
       "<style scoped>\n",
       "    .dataframe tbody tr th:only-of-type {\n",
       "        vertical-align: middle;\n",
       "    }\n",
       "\n",
       "    .dataframe tbody tr th {\n",
       "        vertical-align: top;\n",
       "    }\n",
       "\n",
       "    .dataframe thead th {\n",
       "        text-align: right;\n",
       "    }\n",
       "</style>\n",
       "<table border=\"1\" class=\"dataframe\">\n",
       "  <thead>\n",
       "    <tr style=\"text-align: right;\">\n",
       "      <th></th>\n",
       "      <th>customer_id</th>\n",
       "      <th>begin_date</th>\n",
       "      <th>end_date</th>\n",
       "      <th>contract_type</th>\n",
       "      <th>paperless_billing</th>\n",
       "      <th>payment_method</th>\n",
       "      <th>monthly_fee</th>\n",
       "      <th>total_charges</th>\n",
       "    </tr>\n",
       "  </thead>\n",
       "  <tbody>\n",
       "    <tr>\n",
       "      <th>0</th>\n",
       "      <td>7590-VHVEG</td>\n",
       "      <td>2020-01</td>\n",
       "      <td>N/A</td>\n",
       "      <td>0</td>\n",
       "      <td>1</td>\n",
       "      <td>2</td>\n",
       "      <td>29.85</td>\n",
       "      <td>29.85</td>\n",
       "    </tr>\n",
       "    <tr>\n",
       "      <th>1</th>\n",
       "      <td>5575-GNVDE</td>\n",
       "      <td>2017-04</td>\n",
       "      <td>N/A</td>\n",
       "      <td>1</td>\n",
       "      <td>0</td>\n",
       "      <td>3</td>\n",
       "      <td>56.95</td>\n",
       "      <td>1889.50</td>\n",
       "    </tr>\n",
       "    <tr>\n",
       "      <th>2</th>\n",
       "      <td>3668-QPYBK</td>\n",
       "      <td>2019-10</td>\n",
       "      <td>2019-12</td>\n",
       "      <td>0</td>\n",
       "      <td>1</td>\n",
       "      <td>3</td>\n",
       "      <td>53.85</td>\n",
       "      <td>108.15</td>\n",
       "    </tr>\n",
       "    <tr>\n",
       "      <th>3</th>\n",
       "      <td>7795-CFOCW</td>\n",
       "      <td>2016-05</td>\n",
       "      <td>N/A</td>\n",
       "      <td>1</td>\n",
       "      <td>0</td>\n",
       "      <td>0</td>\n",
       "      <td>42.30</td>\n",
       "      <td>1840.75</td>\n",
       "    </tr>\n",
       "    <tr>\n",
       "      <th>4</th>\n",
       "      <td>9237-HQITU</td>\n",
       "      <td>2019-09</td>\n",
       "      <td>2019-11</td>\n",
       "      <td>0</td>\n",
       "      <td>1</td>\n",
       "      <td>2</td>\n",
       "      <td>70.70</td>\n",
       "      <td>151.65</td>\n",
       "    </tr>\n",
       "    <tr>\n",
       "      <th>5</th>\n",
       "      <td>9305-CDSKC</td>\n",
       "      <td>2019-03</td>\n",
       "      <td>2019-11</td>\n",
       "      <td>0</td>\n",
       "      <td>1</td>\n",
       "      <td>2</td>\n",
       "      <td>99.65</td>\n",
       "      <td>820.50</td>\n",
       "    </tr>\n",
       "    <tr>\n",
       "      <th>6</th>\n",
       "      <td>1452-KIOVK</td>\n",
       "      <td>2018-04</td>\n",
       "      <td>N/A</td>\n",
       "      <td>0</td>\n",
       "      <td>1</td>\n",
       "      <td>1</td>\n",
       "      <td>89.10</td>\n",
       "      <td>1949.40</td>\n",
       "    </tr>\n",
       "    <tr>\n",
       "      <th>7</th>\n",
       "      <td>6713-OKOMC</td>\n",
       "      <td>2019-04</td>\n",
       "      <td>N/A</td>\n",
       "      <td>0</td>\n",
       "      <td>0</td>\n",
       "      <td>3</td>\n",
       "      <td>29.75</td>\n",
       "      <td>301.90</td>\n",
       "    </tr>\n",
       "    <tr>\n",
       "      <th>8</th>\n",
       "      <td>7892-POOKP</td>\n",
       "      <td>2017-07</td>\n",
       "      <td>2019-11</td>\n",
       "      <td>0</td>\n",
       "      <td>1</td>\n",
       "      <td>2</td>\n",
       "      <td>104.80</td>\n",
       "      <td>3046.05</td>\n",
       "    </tr>\n",
       "    <tr>\n",
       "      <th>9</th>\n",
       "      <td>6388-TABGU</td>\n",
       "      <td>2014-12</td>\n",
       "      <td>N/A</td>\n",
       "      <td>1</td>\n",
       "      <td>0</td>\n",
       "      <td>0</td>\n",
       "      <td>56.15</td>\n",
       "      <td>3487.95</td>\n",
       "    </tr>\n",
       "  </tbody>\n",
       "</table>\n",
       "</div>"
      ],
      "text/plain": [
       "  customer_id begin_date end_date  contract_type  paperless_billing  \\\n",
       "0  7590-VHVEG    2020-01      N/A              0                  1   \n",
       "1  5575-GNVDE    2017-04      N/A              1                  0   \n",
       "2  3668-QPYBK    2019-10  2019-12              0                  1   \n",
       "3  7795-CFOCW    2016-05      N/A              1                  0   \n",
       "4  9237-HQITU    2019-09  2019-11              0                  1   \n",
       "5  9305-CDSKC    2019-03  2019-11              0                  1   \n",
       "6  1452-KIOVK    2018-04      N/A              0                  1   \n",
       "7  6713-OKOMC    2019-04      N/A              0                  0   \n",
       "8  7892-POOKP    2017-07  2019-11              0                  1   \n",
       "9  6388-TABGU    2014-12      N/A              1                  0   \n",
       "\n",
       "   payment_method  monthly_fee  total_charges  \n",
       "0               2        29.85          29.85  \n",
       "1               3        56.95        1889.50  \n",
       "2               3        53.85         108.15  \n",
       "3               0        42.30        1840.75  \n",
       "4               2        70.70         151.65  \n",
       "5               2        99.65         820.50  \n",
       "6               1        89.10        1949.40  \n",
       "7               3        29.75         301.90  \n",
       "8               2       104.80        3046.05  \n",
       "9               0        56.15        3487.95  "
      ]
     },
     "execution_count": 21,
     "metadata": {},
     "output_type": "execute_result"
    }
   ],
   "source": [
    "contract_info.head(10)"
   ]
  },
  {
   "cell_type": "code",
   "execution_count": 22,
   "metadata": {},
   "outputs": [
    {
     "name": "stdout",
     "output_type": "stream",
     "text": [
      "<class 'pandas.core.frame.DataFrame'>\n",
      "RangeIndex: 7032 entries, 0 to 7031\n",
      "Data columns (total 8 columns):\n",
      " #   Column             Non-Null Count  Dtype  \n",
      "---  ------             --------------  -----  \n",
      " 0   customer_id        7032 non-null   object \n",
      " 1   begin_date         7032 non-null   object \n",
      " 2   end_date           7032 non-null   object \n",
      " 3   contract_type      7032 non-null   int64  \n",
      " 4   paperless_billing  7032 non-null   int64  \n",
      " 5   payment_method     7032 non-null   int64  \n",
      " 6   monthly_fee        7032 non-null   float64\n",
      " 7   total_charges      7032 non-null   float64\n",
      "dtypes: float64(2), int64(3), object(3)\n",
      "memory usage: 439.6+ KB\n"
     ]
    }
   ],
   "source": [
    "contract_info.info()"
   ]
  },
  {
   "cell_type": "markdown",
   "metadata": {},
   "source": [
    "**Internet Usage Dataframe** <a id = 3.2></a>"
   ]
  },
  {
   "cell_type": "code",
   "execution_count": 23,
   "metadata": {},
   "outputs": [],
   "source": [
    "internet_info = pd.read_csv('/datasets/final_provider/internet.csv')"
   ]
  },
  {
   "cell_type": "code",
   "execution_count": 24,
   "metadata": {},
   "outputs": [
    {
     "data": {
      "text/html": [
       "<div>\n",
       "<style scoped>\n",
       "    .dataframe tbody tr th:only-of-type {\n",
       "        vertical-align: middle;\n",
       "    }\n",
       "\n",
       "    .dataframe tbody tr th {\n",
       "        vertical-align: top;\n",
       "    }\n",
       "\n",
       "    .dataframe thead th {\n",
       "        text-align: right;\n",
       "    }\n",
       "</style>\n",
       "<table border=\"1\" class=\"dataframe\">\n",
       "  <thead>\n",
       "    <tr style=\"text-align: right;\">\n",
       "      <th></th>\n",
       "      <th>customerID</th>\n",
       "      <th>InternetService</th>\n",
       "      <th>OnlineSecurity</th>\n",
       "      <th>OnlineBackup</th>\n",
       "      <th>DeviceProtection</th>\n",
       "      <th>TechSupport</th>\n",
       "      <th>StreamingTV</th>\n",
       "      <th>StreamingMovies</th>\n",
       "    </tr>\n",
       "  </thead>\n",
       "  <tbody>\n",
       "    <tr>\n",
       "      <th>0</th>\n",
       "      <td>7590-VHVEG</td>\n",
       "      <td>DSL</td>\n",
       "      <td>No</td>\n",
       "      <td>Yes</td>\n",
       "      <td>No</td>\n",
       "      <td>No</td>\n",
       "      <td>No</td>\n",
       "      <td>No</td>\n",
       "    </tr>\n",
       "    <tr>\n",
       "      <th>1</th>\n",
       "      <td>5575-GNVDE</td>\n",
       "      <td>DSL</td>\n",
       "      <td>Yes</td>\n",
       "      <td>No</td>\n",
       "      <td>Yes</td>\n",
       "      <td>No</td>\n",
       "      <td>No</td>\n",
       "      <td>No</td>\n",
       "    </tr>\n",
       "    <tr>\n",
       "      <th>2</th>\n",
       "      <td>3668-QPYBK</td>\n",
       "      <td>DSL</td>\n",
       "      <td>Yes</td>\n",
       "      <td>Yes</td>\n",
       "      <td>No</td>\n",
       "      <td>No</td>\n",
       "      <td>No</td>\n",
       "      <td>No</td>\n",
       "    </tr>\n",
       "    <tr>\n",
       "      <th>3</th>\n",
       "      <td>7795-CFOCW</td>\n",
       "      <td>DSL</td>\n",
       "      <td>Yes</td>\n",
       "      <td>No</td>\n",
       "      <td>Yes</td>\n",
       "      <td>Yes</td>\n",
       "      <td>No</td>\n",
       "      <td>No</td>\n",
       "    </tr>\n",
       "    <tr>\n",
       "      <th>4</th>\n",
       "      <td>9237-HQITU</td>\n",
       "      <td>Fiber optic</td>\n",
       "      <td>No</td>\n",
       "      <td>No</td>\n",
       "      <td>No</td>\n",
       "      <td>No</td>\n",
       "      <td>No</td>\n",
       "      <td>No</td>\n",
       "    </tr>\n",
       "    <tr>\n",
       "      <th>5</th>\n",
       "      <td>9305-CDSKC</td>\n",
       "      <td>Fiber optic</td>\n",
       "      <td>No</td>\n",
       "      <td>No</td>\n",
       "      <td>Yes</td>\n",
       "      <td>No</td>\n",
       "      <td>Yes</td>\n",
       "      <td>Yes</td>\n",
       "    </tr>\n",
       "    <tr>\n",
       "      <th>6</th>\n",
       "      <td>1452-KIOVK</td>\n",
       "      <td>Fiber optic</td>\n",
       "      <td>No</td>\n",
       "      <td>Yes</td>\n",
       "      <td>No</td>\n",
       "      <td>No</td>\n",
       "      <td>Yes</td>\n",
       "      <td>No</td>\n",
       "    </tr>\n",
       "    <tr>\n",
       "      <th>7</th>\n",
       "      <td>6713-OKOMC</td>\n",
       "      <td>DSL</td>\n",
       "      <td>Yes</td>\n",
       "      <td>No</td>\n",
       "      <td>No</td>\n",
       "      <td>No</td>\n",
       "      <td>No</td>\n",
       "      <td>No</td>\n",
       "    </tr>\n",
       "    <tr>\n",
       "      <th>8</th>\n",
       "      <td>7892-POOKP</td>\n",
       "      <td>Fiber optic</td>\n",
       "      <td>No</td>\n",
       "      <td>No</td>\n",
       "      <td>Yes</td>\n",
       "      <td>Yes</td>\n",
       "      <td>Yes</td>\n",
       "      <td>Yes</td>\n",
       "    </tr>\n",
       "    <tr>\n",
       "      <th>9</th>\n",
       "      <td>6388-TABGU</td>\n",
       "      <td>DSL</td>\n",
       "      <td>Yes</td>\n",
       "      <td>Yes</td>\n",
       "      <td>No</td>\n",
       "      <td>No</td>\n",
       "      <td>No</td>\n",
       "      <td>No</td>\n",
       "    </tr>\n",
       "  </tbody>\n",
       "</table>\n",
       "</div>"
      ],
      "text/plain": [
       "   customerID InternetService OnlineSecurity OnlineBackup DeviceProtection  \\\n",
       "0  7590-VHVEG             DSL             No          Yes               No   \n",
       "1  5575-GNVDE             DSL            Yes           No              Yes   \n",
       "2  3668-QPYBK             DSL            Yes          Yes               No   \n",
       "3  7795-CFOCW             DSL            Yes           No              Yes   \n",
       "4  9237-HQITU     Fiber optic             No           No               No   \n",
       "5  9305-CDSKC     Fiber optic             No           No              Yes   \n",
       "6  1452-KIOVK     Fiber optic             No          Yes               No   \n",
       "7  6713-OKOMC             DSL            Yes           No               No   \n",
       "8  7892-POOKP     Fiber optic             No           No              Yes   \n",
       "9  6388-TABGU             DSL            Yes          Yes               No   \n",
       "\n",
       "  TechSupport StreamingTV StreamingMovies  \n",
       "0          No          No              No  \n",
       "1          No          No              No  \n",
       "2          No          No              No  \n",
       "3         Yes          No              No  \n",
       "4          No          No              No  \n",
       "5          No         Yes             Yes  \n",
       "6          No         Yes              No  \n",
       "7          No          No              No  \n",
       "8         Yes         Yes             Yes  \n",
       "9          No          No              No  "
      ]
     },
     "execution_count": 24,
     "metadata": {},
     "output_type": "execute_result"
    }
   ],
   "source": [
    "internet_info.head(10)"
   ]
  },
  {
   "cell_type": "code",
   "execution_count": 25,
   "metadata": {},
   "outputs": [],
   "source": [
    "internet_info.columns = internet_info.columns.str.lower()\n",
    "\n",
    "internet_info = internet_info.rename(columns = {'customerid': 'customer_id', 'internetservice': 'internet_service', \n",
    "                                                'onlinesecurity': 'online_security', 'onlinebackup': 'online_backup',\n",
    "                                                'deviceprotection': 'device_protection', 'techsupport': 'tech_support',\n",
    "                                                'streamingtv': 'streaming_tv', 'streamingmovies': 'streaming_movies'})"
   ]
  },
  {
   "cell_type": "code",
   "execution_count": 26,
   "metadata": {},
   "outputs": [
    {
     "data": {
      "text/plain": [
       "0"
      ]
     },
     "execution_count": 26,
     "metadata": {},
     "output_type": "execute_result"
    }
   ],
   "source": [
    "internet_info.duplicated().sum()"
   ]
  },
  {
   "cell_type": "markdown",
   "metadata": {},
   "source": [
    "This dataframe (also) does not have any rows which are exact duplicates of another."
   ]
  },
  {
   "cell_type": "code",
   "execution_count": 27,
   "metadata": {},
   "outputs": [
    {
     "data": {
      "text/html": [
       "<div>\n",
       "<style scoped>\n",
       "    .dataframe tbody tr th:only-of-type {\n",
       "        vertical-align: middle;\n",
       "    }\n",
       "\n",
       "    .dataframe tbody tr th {\n",
       "        vertical-align: top;\n",
       "    }\n",
       "\n",
       "    .dataframe thead th {\n",
       "        text-align: right;\n",
       "    }\n",
       "</style>\n",
       "<table border=\"1\" class=\"dataframe\">\n",
       "  <thead>\n",
       "    <tr style=\"text-align: right;\">\n",
       "      <th></th>\n",
       "      <th>customer_id</th>\n",
       "      <th>internet_service</th>\n",
       "      <th>online_security</th>\n",
       "      <th>online_backup</th>\n",
       "      <th>device_protection</th>\n",
       "      <th>tech_support</th>\n",
       "      <th>streaming_tv</th>\n",
       "      <th>streaming_movies</th>\n",
       "    </tr>\n",
       "  </thead>\n",
       "  <tbody>\n",
       "  </tbody>\n",
       "</table>\n",
       "</div>"
      ],
      "text/plain": [
       "Empty DataFrame\n",
       "Columns: [customer_id, internet_service, online_security, online_backup, device_protection, tech_support, streaming_tv, streaming_movies]\n",
       "Index: []"
      ]
     },
     "metadata": {},
     "output_type": "display_data"
    }
   ],
   "source": [
    "display(internet_info[internet_info['customer_id'].duplicated()])"
   ]
  },
  {
   "cell_type": "markdown",
   "metadata": {},
   "source": [
    "This dataframe (also) does not have any rows which are implicit duplicates with the same **customer_id** value."
   ]
  },
  {
   "cell_type": "code",
   "execution_count": 28,
   "metadata": {},
   "outputs": [
    {
     "name": "stdout",
     "output_type": "stream",
     "text": [
      "<class 'pandas.core.frame.DataFrame'>\n",
      "RangeIndex: 5517 entries, 0 to 5516\n",
      "Data columns (total 8 columns):\n",
      " #   Column             Non-Null Count  Dtype \n",
      "---  ------             --------------  ----- \n",
      " 0   customer_id        5517 non-null   object\n",
      " 1   internet_service   5517 non-null   object\n",
      " 2   online_security    5517 non-null   object\n",
      " 3   online_backup      5517 non-null   object\n",
      " 4   device_protection  5517 non-null   object\n",
      " 5   tech_support       5517 non-null   object\n",
      " 6   streaming_tv       5517 non-null   object\n",
      " 7   streaming_movies   5517 non-null   object\n",
      "dtypes: object(8)\n",
      "memory usage: 344.9+ KB\n"
     ]
    }
   ],
   "source": [
    "internet_info.info()"
   ]
  },
  {
   "cell_type": "markdown",
   "metadata": {},
   "source": [
    "I wonder what all the possible **internet_service** values are, and how prevalent each is."
   ]
  },
  {
   "cell_type": "code",
   "execution_count": 29,
   "metadata": {},
   "outputs": [
    {
     "data": {
      "text/plain": [
       "Fiber optic    3096\n",
       "DSL            2421\n",
       "Name: internet_service, dtype: int64"
      ]
     },
     "execution_count": 29,
     "metadata": {},
     "output_type": "execute_result"
    }
   ],
   "source": [
    "internet_info['internet_service'].value_counts()"
   ]
  },
  {
   "cell_type": "markdown",
   "metadata": {},
   "source": [
    "There are only two possible **internet_service** values, and **Fiber optic** is considerably more common than **DSL**."
   ]
  },
  {
   "cell_type": "markdown",
   "metadata": {},
   "source": [
    "Since machine learning models have an easier time handling numerical values than categorical values, I will convert every value in the **internet_service** dataframe to either 0 or 1. I will convert each **No** to 0, and each **Yes** to 1. Furthermore, since \"DSL\" comes before \"Fiber optic\" in the dictionary, and since 0 comes before 1 on the number line, I will change each **DSL** value to 0 and each **Fiber optic** value to 1. "
   ]
  },
  {
   "cell_type": "code",
   "execution_count": 30,
   "metadata": {},
   "outputs": [],
   "source": [
    "internet_info = internet_info.replace('No', '0')\n",
    "internet_info = internet_info.replace('Yes', '1')\n",
    "\n",
    "internet_info = internet_info.replace('DSL', '0')\n",
    "internet_info = internet_info.replace('Fiber optic', '1')\n",
    "\n",
    "for column in ['internet_service', 'online_security', 'online_backup', 'device_protection', \n",
    "               'tech_support', 'streaming_tv',  'streaming_movies']:\n",
    "    \n",
    "    internet_info[column] = internet_info[column].astype('int')"
   ]
  },
  {
   "cell_type": "code",
   "execution_count": 31,
   "metadata": {},
   "outputs": [],
   "source": [
    "internet_info = internet_info[~internet_info['customer_id'].isin(customer_ids_to_drop)]\n",
    "\n",
    "internet_info = internet_info.reset_index(drop = True)"
   ]
  },
  {
   "cell_type": "code",
   "execution_count": 32,
   "metadata": {},
   "outputs": [
    {
     "data": {
      "text/html": [
       "<div>\n",
       "<style scoped>\n",
       "    .dataframe tbody tr th:only-of-type {\n",
       "        vertical-align: middle;\n",
       "    }\n",
       "\n",
       "    .dataframe tbody tr th {\n",
       "        vertical-align: top;\n",
       "    }\n",
       "\n",
       "    .dataframe thead th {\n",
       "        text-align: right;\n",
       "    }\n",
       "</style>\n",
       "<table border=\"1\" class=\"dataframe\">\n",
       "  <thead>\n",
       "    <tr style=\"text-align: right;\">\n",
       "      <th></th>\n",
       "      <th>customer_id</th>\n",
       "      <th>internet_service</th>\n",
       "      <th>online_security</th>\n",
       "      <th>online_backup</th>\n",
       "      <th>device_protection</th>\n",
       "      <th>tech_support</th>\n",
       "      <th>streaming_tv</th>\n",
       "      <th>streaming_movies</th>\n",
       "    </tr>\n",
       "  </thead>\n",
       "  <tbody>\n",
       "    <tr>\n",
       "      <th>0</th>\n",
       "      <td>7590-VHVEG</td>\n",
       "      <td>0</td>\n",
       "      <td>0</td>\n",
       "      <td>1</td>\n",
       "      <td>0</td>\n",
       "      <td>0</td>\n",
       "      <td>0</td>\n",
       "      <td>0</td>\n",
       "    </tr>\n",
       "    <tr>\n",
       "      <th>1</th>\n",
       "      <td>5575-GNVDE</td>\n",
       "      <td>0</td>\n",
       "      <td>1</td>\n",
       "      <td>0</td>\n",
       "      <td>1</td>\n",
       "      <td>0</td>\n",
       "      <td>0</td>\n",
       "      <td>0</td>\n",
       "    </tr>\n",
       "    <tr>\n",
       "      <th>2</th>\n",
       "      <td>3668-QPYBK</td>\n",
       "      <td>0</td>\n",
       "      <td>1</td>\n",
       "      <td>1</td>\n",
       "      <td>0</td>\n",
       "      <td>0</td>\n",
       "      <td>0</td>\n",
       "      <td>0</td>\n",
       "    </tr>\n",
       "    <tr>\n",
       "      <th>3</th>\n",
       "      <td>7795-CFOCW</td>\n",
       "      <td>0</td>\n",
       "      <td>1</td>\n",
       "      <td>0</td>\n",
       "      <td>1</td>\n",
       "      <td>1</td>\n",
       "      <td>0</td>\n",
       "      <td>0</td>\n",
       "    </tr>\n",
       "    <tr>\n",
       "      <th>4</th>\n",
       "      <td>9237-HQITU</td>\n",
       "      <td>1</td>\n",
       "      <td>0</td>\n",
       "      <td>0</td>\n",
       "      <td>0</td>\n",
       "      <td>0</td>\n",
       "      <td>0</td>\n",
       "      <td>0</td>\n",
       "    </tr>\n",
       "    <tr>\n",
       "      <th>5</th>\n",
       "      <td>9305-CDSKC</td>\n",
       "      <td>1</td>\n",
       "      <td>0</td>\n",
       "      <td>0</td>\n",
       "      <td>1</td>\n",
       "      <td>0</td>\n",
       "      <td>1</td>\n",
       "      <td>1</td>\n",
       "    </tr>\n",
       "    <tr>\n",
       "      <th>6</th>\n",
       "      <td>1452-KIOVK</td>\n",
       "      <td>1</td>\n",
       "      <td>0</td>\n",
       "      <td>1</td>\n",
       "      <td>0</td>\n",
       "      <td>0</td>\n",
       "      <td>1</td>\n",
       "      <td>0</td>\n",
       "    </tr>\n",
       "    <tr>\n",
       "      <th>7</th>\n",
       "      <td>6713-OKOMC</td>\n",
       "      <td>0</td>\n",
       "      <td>1</td>\n",
       "      <td>0</td>\n",
       "      <td>0</td>\n",
       "      <td>0</td>\n",
       "      <td>0</td>\n",
       "      <td>0</td>\n",
       "    </tr>\n",
       "    <tr>\n",
       "      <th>8</th>\n",
       "      <td>7892-POOKP</td>\n",
       "      <td>1</td>\n",
       "      <td>0</td>\n",
       "      <td>0</td>\n",
       "      <td>1</td>\n",
       "      <td>1</td>\n",
       "      <td>1</td>\n",
       "      <td>1</td>\n",
       "    </tr>\n",
       "    <tr>\n",
       "      <th>9</th>\n",
       "      <td>6388-TABGU</td>\n",
       "      <td>0</td>\n",
       "      <td>1</td>\n",
       "      <td>1</td>\n",
       "      <td>0</td>\n",
       "      <td>0</td>\n",
       "      <td>0</td>\n",
       "      <td>0</td>\n",
       "    </tr>\n",
       "  </tbody>\n",
       "</table>\n",
       "</div>"
      ],
      "text/plain": [
       "  customer_id  internet_service  online_security  online_backup  \\\n",
       "0  7590-VHVEG                 0                0              1   \n",
       "1  5575-GNVDE                 0                1              0   \n",
       "2  3668-QPYBK                 0                1              1   \n",
       "3  7795-CFOCW                 0                1              0   \n",
       "4  9237-HQITU                 1                0              0   \n",
       "5  9305-CDSKC                 1                0              0   \n",
       "6  1452-KIOVK                 1                0              1   \n",
       "7  6713-OKOMC                 0                1              0   \n",
       "8  7892-POOKP                 1                0              0   \n",
       "9  6388-TABGU                 0                1              1   \n",
       "\n",
       "   device_protection  tech_support  streaming_tv  streaming_movies  \n",
       "0                  0             0             0                 0  \n",
       "1                  1             0             0                 0  \n",
       "2                  0             0             0                 0  \n",
       "3                  1             1             0                 0  \n",
       "4                  0             0             0                 0  \n",
       "5                  1             0             1                 1  \n",
       "6                  0             0             1                 0  \n",
       "7                  0             0             0                 0  \n",
       "8                  1             1             1                 1  \n",
       "9                  0             0             0                 0  "
      ]
     },
     "execution_count": 32,
     "metadata": {},
     "output_type": "execute_result"
    }
   ],
   "source": [
    "internet_info.head(10)"
   ]
  },
  {
   "cell_type": "code",
   "execution_count": 33,
   "metadata": {},
   "outputs": [
    {
     "name": "stdout",
     "output_type": "stream",
     "text": [
      "<class 'pandas.core.frame.DataFrame'>\n",
      "RangeIndex: 5512 entries, 0 to 5511\n",
      "Data columns (total 8 columns):\n",
      " #   Column             Non-Null Count  Dtype \n",
      "---  ------             --------------  ----- \n",
      " 0   customer_id        5512 non-null   object\n",
      " 1   internet_service   5512 non-null   int64 \n",
      " 2   online_security    5512 non-null   int64 \n",
      " 3   online_backup      5512 non-null   int64 \n",
      " 4   device_protection  5512 non-null   int64 \n",
      " 5   tech_support       5512 non-null   int64 \n",
      " 6   streaming_tv       5512 non-null   int64 \n",
      " 7   streaming_movies   5512 non-null   int64 \n",
      "dtypes: int64(7), object(1)\n",
      "memory usage: 344.6+ KB\n"
     ]
    }
   ],
   "source": [
    "internet_info.info()"
   ]
  },
  {
   "cell_type": "markdown",
   "metadata": {},
   "source": [
    "Notice that this dataframe has 7032 – 5512 = 1520 fewer rows than **contract_info**; this implies that not every Interconnect customer uses the company's internet services. \n",
    "\n",
    "It is good that I noticed this because when I merge the dataframes later on I will need to  handle the resulting null values. Specifically, I will fill the null values with –1 because this number will help distinguish customers who do not have any internet services from those who do."
   ]
  },
  {
   "cell_type": "markdown",
   "metadata": {},
   "source": [
    "**Personal Information Dataframe** <a id = 3.3></a>"
   ]
  },
  {
   "cell_type": "code",
   "execution_count": 34,
   "metadata": {},
   "outputs": [],
   "source": [
    "personal_info = pd.read_csv('/datasets/final_provider/personal.csv')"
   ]
  },
  {
   "cell_type": "code",
   "execution_count": 35,
   "metadata": {},
   "outputs": [
    {
     "data": {
      "text/html": [
       "<div>\n",
       "<style scoped>\n",
       "    .dataframe tbody tr th:only-of-type {\n",
       "        vertical-align: middle;\n",
       "    }\n",
       "\n",
       "    .dataframe tbody tr th {\n",
       "        vertical-align: top;\n",
       "    }\n",
       "\n",
       "    .dataframe thead th {\n",
       "        text-align: right;\n",
       "    }\n",
       "</style>\n",
       "<table border=\"1\" class=\"dataframe\">\n",
       "  <thead>\n",
       "    <tr style=\"text-align: right;\">\n",
       "      <th></th>\n",
       "      <th>customerID</th>\n",
       "      <th>gender</th>\n",
       "      <th>SeniorCitizen</th>\n",
       "      <th>Partner</th>\n",
       "      <th>Dependents</th>\n",
       "    </tr>\n",
       "  </thead>\n",
       "  <tbody>\n",
       "    <tr>\n",
       "      <th>0</th>\n",
       "      <td>7590-VHVEG</td>\n",
       "      <td>Female</td>\n",
       "      <td>0</td>\n",
       "      <td>Yes</td>\n",
       "      <td>No</td>\n",
       "    </tr>\n",
       "    <tr>\n",
       "      <th>1</th>\n",
       "      <td>5575-GNVDE</td>\n",
       "      <td>Male</td>\n",
       "      <td>0</td>\n",
       "      <td>No</td>\n",
       "      <td>No</td>\n",
       "    </tr>\n",
       "    <tr>\n",
       "      <th>2</th>\n",
       "      <td>3668-QPYBK</td>\n",
       "      <td>Male</td>\n",
       "      <td>0</td>\n",
       "      <td>No</td>\n",
       "      <td>No</td>\n",
       "    </tr>\n",
       "    <tr>\n",
       "      <th>3</th>\n",
       "      <td>7795-CFOCW</td>\n",
       "      <td>Male</td>\n",
       "      <td>0</td>\n",
       "      <td>No</td>\n",
       "      <td>No</td>\n",
       "    </tr>\n",
       "    <tr>\n",
       "      <th>4</th>\n",
       "      <td>9237-HQITU</td>\n",
       "      <td>Female</td>\n",
       "      <td>0</td>\n",
       "      <td>No</td>\n",
       "      <td>No</td>\n",
       "    </tr>\n",
       "    <tr>\n",
       "      <th>5</th>\n",
       "      <td>9305-CDSKC</td>\n",
       "      <td>Female</td>\n",
       "      <td>0</td>\n",
       "      <td>No</td>\n",
       "      <td>No</td>\n",
       "    </tr>\n",
       "    <tr>\n",
       "      <th>6</th>\n",
       "      <td>1452-KIOVK</td>\n",
       "      <td>Male</td>\n",
       "      <td>0</td>\n",
       "      <td>No</td>\n",
       "      <td>Yes</td>\n",
       "    </tr>\n",
       "    <tr>\n",
       "      <th>7</th>\n",
       "      <td>6713-OKOMC</td>\n",
       "      <td>Female</td>\n",
       "      <td>0</td>\n",
       "      <td>No</td>\n",
       "      <td>No</td>\n",
       "    </tr>\n",
       "    <tr>\n",
       "      <th>8</th>\n",
       "      <td>7892-POOKP</td>\n",
       "      <td>Female</td>\n",
       "      <td>0</td>\n",
       "      <td>Yes</td>\n",
       "      <td>No</td>\n",
       "    </tr>\n",
       "    <tr>\n",
       "      <th>9</th>\n",
       "      <td>6388-TABGU</td>\n",
       "      <td>Male</td>\n",
       "      <td>0</td>\n",
       "      <td>No</td>\n",
       "      <td>Yes</td>\n",
       "    </tr>\n",
       "  </tbody>\n",
       "</table>\n",
       "</div>"
      ],
      "text/plain": [
       "   customerID  gender  SeniorCitizen Partner Dependents\n",
       "0  7590-VHVEG  Female              0     Yes         No\n",
       "1  5575-GNVDE    Male              0      No         No\n",
       "2  3668-QPYBK    Male              0      No         No\n",
       "3  7795-CFOCW    Male              0      No         No\n",
       "4  9237-HQITU  Female              0      No         No\n",
       "5  9305-CDSKC  Female              0      No         No\n",
       "6  1452-KIOVK    Male              0      No        Yes\n",
       "7  6713-OKOMC  Female              0      No         No\n",
       "8  7892-POOKP  Female              0     Yes         No\n",
       "9  6388-TABGU    Male              0      No        Yes"
      ]
     },
     "execution_count": 35,
     "metadata": {},
     "output_type": "execute_result"
    }
   ],
   "source": [
    "personal_info.head(10)"
   ]
  },
  {
   "cell_type": "code",
   "execution_count": 36,
   "metadata": {},
   "outputs": [],
   "source": [
    "personal_info.columns = personal_info.columns.str.lower()\n",
    "\n",
    "personal_info = personal_info.rename(columns = {'customerid': 'customer_id', 'seniorcitizen': 'senior_citizen'})"
   ]
  },
  {
   "cell_type": "code",
   "execution_count": 37,
   "metadata": {},
   "outputs": [
    {
     "data": {
      "text/plain": [
       "0"
      ]
     },
     "execution_count": 37,
     "metadata": {},
     "output_type": "execute_result"
    }
   ],
   "source": [
    "personal_info.duplicated().sum()"
   ]
  },
  {
   "cell_type": "markdown",
   "metadata": {},
   "source": [
    "This dataframe (also) does not have any rows which are exact duplicates of another."
   ]
  },
  {
   "cell_type": "code",
   "execution_count": 38,
   "metadata": {},
   "outputs": [
    {
     "data": {
      "text/html": [
       "<div>\n",
       "<style scoped>\n",
       "    .dataframe tbody tr th:only-of-type {\n",
       "        vertical-align: middle;\n",
       "    }\n",
       "\n",
       "    .dataframe tbody tr th {\n",
       "        vertical-align: top;\n",
       "    }\n",
       "\n",
       "    .dataframe thead th {\n",
       "        text-align: right;\n",
       "    }\n",
       "</style>\n",
       "<table border=\"1\" class=\"dataframe\">\n",
       "  <thead>\n",
       "    <tr style=\"text-align: right;\">\n",
       "      <th></th>\n",
       "      <th>customer_id</th>\n",
       "      <th>gender</th>\n",
       "      <th>senior_citizen</th>\n",
       "      <th>partner</th>\n",
       "      <th>dependents</th>\n",
       "    </tr>\n",
       "  </thead>\n",
       "  <tbody>\n",
       "  </tbody>\n",
       "</table>\n",
       "</div>"
      ],
      "text/plain": [
       "Empty DataFrame\n",
       "Columns: [customer_id, gender, senior_citizen, partner, dependents]\n",
       "Index: []"
      ]
     },
     "metadata": {},
     "output_type": "display_data"
    }
   ],
   "source": [
    "display(personal_info[personal_info['customer_id'].duplicated()])"
   ]
  },
  {
   "cell_type": "markdown",
   "metadata": {},
   "source": [
    "This dataframe (also) does not have any rows which are implicit duplicates with the same **customer_id** value."
   ]
  },
  {
   "cell_type": "code",
   "execution_count": 39,
   "metadata": {},
   "outputs": [
    {
     "name": "stdout",
     "output_type": "stream",
     "text": [
      "<class 'pandas.core.frame.DataFrame'>\n",
      "RangeIndex: 7043 entries, 0 to 7042\n",
      "Data columns (total 5 columns):\n",
      " #   Column          Non-Null Count  Dtype \n",
      "---  ------          --------------  ----- \n",
      " 0   customer_id     7043 non-null   object\n",
      " 1   gender          7043 non-null   object\n",
      " 2   senior_citizen  7043 non-null   int64 \n",
      " 3   partner         7043 non-null   object\n",
      " 4   dependents      7043 non-null   object\n",
      "dtypes: int64(1), object(4)\n",
      "memory usage: 275.2+ KB\n"
     ]
    }
   ],
   "source": [
    "personal_info.info()"
   ]
  },
  {
   "cell_type": "markdown",
   "metadata": {},
   "source": [
    "Just like how the **senior_citizen** column uses 0 to mean false / no and the number 1 to mean true / yes, I will convert the values in the **partner** column and the **dependents** column to 0 and 1. \n",
    "\n",
    "Furthermore, I will convert the **gender** values to 0 and 1 as well. Specifically, since \"female\" comes before \"male\" in the dictionary, and since 0 comes before 1 on the number line, I will change each **Female** value to 0 and each **Male** value to 1. "
   ]
  },
  {
   "cell_type": "code",
   "execution_count": 40,
   "metadata": {},
   "outputs": [],
   "source": [
    "personal_info['dependents'] = personal_info['dependents'].replace('No', '0')\n",
    "personal_info['dependents'] = personal_info['dependents'].replace('Yes', '1')\n",
    "personal_info['dependents'] = personal_info['dependents'].astype('int')\n",
    "\n",
    "personal_info['gender'] = personal_info['gender'].replace('Female', '0')\n",
    "personal_info['gender'] = personal_info['gender'].replace('Male', '1')\n",
    "personal_info['gender'] = personal_info['gender'].astype('int')\n",
    "\n",
    "personal_info['partner'] = personal_info['partner'].replace('No', '0')\n",
    "personal_info['partner'] = personal_info['partner'].replace('Yes', '1')\n",
    "personal_info['partner'] = personal_info['partner'].astype('int')"
   ]
  },
  {
   "cell_type": "code",
   "execution_count": 41,
   "metadata": {},
   "outputs": [],
   "source": [
    "personal_info = personal_info[~personal_info['customer_id'].isin(customer_ids_to_drop)]\n",
    "\n",
    "personal_info = personal_info.reset_index(drop = True)"
   ]
  },
  {
   "cell_type": "code",
   "execution_count": 42,
   "metadata": {},
   "outputs": [
    {
     "data": {
      "text/html": [
       "<div>\n",
       "<style scoped>\n",
       "    .dataframe tbody tr th:only-of-type {\n",
       "        vertical-align: middle;\n",
       "    }\n",
       "\n",
       "    .dataframe tbody tr th {\n",
       "        vertical-align: top;\n",
       "    }\n",
       "\n",
       "    .dataframe thead th {\n",
       "        text-align: right;\n",
       "    }\n",
       "</style>\n",
       "<table border=\"1\" class=\"dataframe\">\n",
       "  <thead>\n",
       "    <tr style=\"text-align: right;\">\n",
       "      <th></th>\n",
       "      <th>customer_id</th>\n",
       "      <th>gender</th>\n",
       "      <th>senior_citizen</th>\n",
       "      <th>partner</th>\n",
       "      <th>dependents</th>\n",
       "    </tr>\n",
       "  </thead>\n",
       "  <tbody>\n",
       "    <tr>\n",
       "      <th>0</th>\n",
       "      <td>7590-VHVEG</td>\n",
       "      <td>0</td>\n",
       "      <td>0</td>\n",
       "      <td>1</td>\n",
       "      <td>0</td>\n",
       "    </tr>\n",
       "    <tr>\n",
       "      <th>1</th>\n",
       "      <td>5575-GNVDE</td>\n",
       "      <td>1</td>\n",
       "      <td>0</td>\n",
       "      <td>0</td>\n",
       "      <td>0</td>\n",
       "    </tr>\n",
       "    <tr>\n",
       "      <th>2</th>\n",
       "      <td>3668-QPYBK</td>\n",
       "      <td>1</td>\n",
       "      <td>0</td>\n",
       "      <td>0</td>\n",
       "      <td>0</td>\n",
       "    </tr>\n",
       "    <tr>\n",
       "      <th>3</th>\n",
       "      <td>7795-CFOCW</td>\n",
       "      <td>1</td>\n",
       "      <td>0</td>\n",
       "      <td>0</td>\n",
       "      <td>0</td>\n",
       "    </tr>\n",
       "    <tr>\n",
       "      <th>4</th>\n",
       "      <td>9237-HQITU</td>\n",
       "      <td>0</td>\n",
       "      <td>0</td>\n",
       "      <td>0</td>\n",
       "      <td>0</td>\n",
       "    </tr>\n",
       "    <tr>\n",
       "      <th>5</th>\n",
       "      <td>9305-CDSKC</td>\n",
       "      <td>0</td>\n",
       "      <td>0</td>\n",
       "      <td>0</td>\n",
       "      <td>0</td>\n",
       "    </tr>\n",
       "    <tr>\n",
       "      <th>6</th>\n",
       "      <td>1452-KIOVK</td>\n",
       "      <td>1</td>\n",
       "      <td>0</td>\n",
       "      <td>0</td>\n",
       "      <td>1</td>\n",
       "    </tr>\n",
       "    <tr>\n",
       "      <th>7</th>\n",
       "      <td>6713-OKOMC</td>\n",
       "      <td>0</td>\n",
       "      <td>0</td>\n",
       "      <td>0</td>\n",
       "      <td>0</td>\n",
       "    </tr>\n",
       "    <tr>\n",
       "      <th>8</th>\n",
       "      <td>7892-POOKP</td>\n",
       "      <td>0</td>\n",
       "      <td>0</td>\n",
       "      <td>1</td>\n",
       "      <td>0</td>\n",
       "    </tr>\n",
       "    <tr>\n",
       "      <th>9</th>\n",
       "      <td>6388-TABGU</td>\n",
       "      <td>1</td>\n",
       "      <td>0</td>\n",
       "      <td>0</td>\n",
       "      <td>1</td>\n",
       "    </tr>\n",
       "  </tbody>\n",
       "</table>\n",
       "</div>"
      ],
      "text/plain": [
       "  customer_id  gender  senior_citizen  partner  dependents\n",
       "0  7590-VHVEG       0               0        1           0\n",
       "1  5575-GNVDE       1               0        0           0\n",
       "2  3668-QPYBK       1               0        0           0\n",
       "3  7795-CFOCW       1               0        0           0\n",
       "4  9237-HQITU       0               0        0           0\n",
       "5  9305-CDSKC       0               0        0           0\n",
       "6  1452-KIOVK       1               0        0           1\n",
       "7  6713-OKOMC       0               0        0           0\n",
       "8  7892-POOKP       0               0        1           0\n",
       "9  6388-TABGU       1               0        0           1"
      ]
     },
     "execution_count": 42,
     "metadata": {},
     "output_type": "execute_result"
    }
   ],
   "source": [
    "personal_info.head(10)"
   ]
  },
  {
   "cell_type": "code",
   "execution_count": 43,
   "metadata": {},
   "outputs": [
    {
     "name": "stdout",
     "output_type": "stream",
     "text": [
      "<class 'pandas.core.frame.DataFrame'>\n",
      "RangeIndex: 7032 entries, 0 to 7031\n",
      "Data columns (total 5 columns):\n",
      " #   Column          Non-Null Count  Dtype \n",
      "---  ------          --------------  ----- \n",
      " 0   customer_id     7032 non-null   object\n",
      " 1   gender          7032 non-null   int64 \n",
      " 2   senior_citizen  7032 non-null   int64 \n",
      " 3   partner         7032 non-null   int64 \n",
      " 4   dependents      7032 non-null   int64 \n",
      "dtypes: int64(4), object(1)\n",
      "memory usage: 274.8+ KB\n"
     ]
    }
   ],
   "source": [
    "personal_info.info()"
   ]
  },
  {
   "cell_type": "markdown",
   "metadata": {},
   "source": [
    "**Phone Information Dataframe** <a id = 3.4></a>"
   ]
  },
  {
   "cell_type": "code",
   "execution_count": 44,
   "metadata": {},
   "outputs": [],
   "source": [
    "phone_info = pd.read_csv('/datasets/final_provider/phone.csv')"
   ]
  },
  {
   "cell_type": "code",
   "execution_count": 45,
   "metadata": {},
   "outputs": [
    {
     "data": {
      "text/html": [
       "<div>\n",
       "<style scoped>\n",
       "    .dataframe tbody tr th:only-of-type {\n",
       "        vertical-align: middle;\n",
       "    }\n",
       "\n",
       "    .dataframe tbody tr th {\n",
       "        vertical-align: top;\n",
       "    }\n",
       "\n",
       "    .dataframe thead th {\n",
       "        text-align: right;\n",
       "    }\n",
       "</style>\n",
       "<table border=\"1\" class=\"dataframe\">\n",
       "  <thead>\n",
       "    <tr style=\"text-align: right;\">\n",
       "      <th></th>\n",
       "      <th>customerID</th>\n",
       "      <th>MultipleLines</th>\n",
       "    </tr>\n",
       "  </thead>\n",
       "  <tbody>\n",
       "    <tr>\n",
       "      <th>0</th>\n",
       "      <td>5575-GNVDE</td>\n",
       "      <td>No</td>\n",
       "    </tr>\n",
       "    <tr>\n",
       "      <th>1</th>\n",
       "      <td>3668-QPYBK</td>\n",
       "      <td>No</td>\n",
       "    </tr>\n",
       "    <tr>\n",
       "      <th>2</th>\n",
       "      <td>9237-HQITU</td>\n",
       "      <td>No</td>\n",
       "    </tr>\n",
       "    <tr>\n",
       "      <th>3</th>\n",
       "      <td>9305-CDSKC</td>\n",
       "      <td>Yes</td>\n",
       "    </tr>\n",
       "    <tr>\n",
       "      <th>4</th>\n",
       "      <td>1452-KIOVK</td>\n",
       "      <td>Yes</td>\n",
       "    </tr>\n",
       "    <tr>\n",
       "      <th>5</th>\n",
       "      <td>7892-POOKP</td>\n",
       "      <td>Yes</td>\n",
       "    </tr>\n",
       "    <tr>\n",
       "      <th>6</th>\n",
       "      <td>6388-TABGU</td>\n",
       "      <td>No</td>\n",
       "    </tr>\n",
       "    <tr>\n",
       "      <th>7</th>\n",
       "      <td>9763-GRSKD</td>\n",
       "      <td>No</td>\n",
       "    </tr>\n",
       "    <tr>\n",
       "      <th>8</th>\n",
       "      <td>7469-LKBCI</td>\n",
       "      <td>No</td>\n",
       "    </tr>\n",
       "    <tr>\n",
       "      <th>9</th>\n",
       "      <td>8091-TTVAX</td>\n",
       "      <td>Yes</td>\n",
       "    </tr>\n",
       "  </tbody>\n",
       "</table>\n",
       "</div>"
      ],
      "text/plain": [
       "   customerID MultipleLines\n",
       "0  5575-GNVDE            No\n",
       "1  3668-QPYBK            No\n",
       "2  9237-HQITU            No\n",
       "3  9305-CDSKC           Yes\n",
       "4  1452-KIOVK           Yes\n",
       "5  7892-POOKP           Yes\n",
       "6  6388-TABGU            No\n",
       "7  9763-GRSKD            No\n",
       "8  7469-LKBCI            No\n",
       "9  8091-TTVAX           Yes"
      ]
     },
     "execution_count": 45,
     "metadata": {},
     "output_type": "execute_result"
    }
   ],
   "source": [
    "phone_info.head(10)"
   ]
  },
  {
   "cell_type": "code",
   "execution_count": 46,
   "metadata": {},
   "outputs": [],
   "source": [
    "phone_info.columns = phone_info.columns.str.lower()\n",
    "\n",
    "phone_info = phone_info.rename(columns = {'customerid': 'customer_id', 'multiplelines': 'multiple_lines'})"
   ]
  },
  {
   "cell_type": "code",
   "execution_count": 47,
   "metadata": {},
   "outputs": [
    {
     "data": {
      "text/plain": [
       "0"
      ]
     },
     "execution_count": 47,
     "metadata": {},
     "output_type": "execute_result"
    }
   ],
   "source": [
    "phone_info.duplicated().sum()"
   ]
  },
  {
   "cell_type": "markdown",
   "metadata": {},
   "source": [
    "This dataframe (also) does not have any rows which are exact duplicates of another."
   ]
  },
  {
   "cell_type": "code",
   "execution_count": 48,
   "metadata": {},
   "outputs": [
    {
     "data": {
      "text/html": [
       "<div>\n",
       "<style scoped>\n",
       "    .dataframe tbody tr th:only-of-type {\n",
       "        vertical-align: middle;\n",
       "    }\n",
       "\n",
       "    .dataframe tbody tr th {\n",
       "        vertical-align: top;\n",
       "    }\n",
       "\n",
       "    .dataframe thead th {\n",
       "        text-align: right;\n",
       "    }\n",
       "</style>\n",
       "<table border=\"1\" class=\"dataframe\">\n",
       "  <thead>\n",
       "    <tr style=\"text-align: right;\">\n",
       "      <th></th>\n",
       "      <th>customer_id</th>\n",
       "      <th>multiple_lines</th>\n",
       "    </tr>\n",
       "  </thead>\n",
       "  <tbody>\n",
       "  </tbody>\n",
       "</table>\n",
       "</div>"
      ],
      "text/plain": [
       "Empty DataFrame\n",
       "Columns: [customer_id, multiple_lines]\n",
       "Index: []"
      ]
     },
     "metadata": {},
     "output_type": "display_data"
    }
   ],
   "source": [
    "display(phone_info[phone_info['customer_id'].duplicated()])"
   ]
  },
  {
   "cell_type": "markdown",
   "metadata": {},
   "source": [
    "This dataframe (also) does not have any rows which are implicit duplicates with the same **customer_id** value."
   ]
  },
  {
   "cell_type": "code",
   "execution_count": 49,
   "metadata": {},
   "outputs": [
    {
     "name": "stdout",
     "output_type": "stream",
     "text": [
      "<class 'pandas.core.frame.DataFrame'>\n",
      "RangeIndex: 6361 entries, 0 to 6360\n",
      "Data columns (total 2 columns):\n",
      " #   Column          Non-Null Count  Dtype \n",
      "---  ------          --------------  ----- \n",
      " 0   customer_id     6361 non-null   object\n",
      " 1   multiple_lines  6361 non-null   object\n",
      "dtypes: object(2)\n",
      "memory usage: 99.5+ KB\n"
     ]
    }
   ],
   "source": [
    "phone_info.info()"
   ]
  },
  {
   "cell_type": "markdown",
   "metadata": {},
   "source": [
    "Just like the other columns whose values were either **No** or **Yes**, I will replace the values in **multiple_lines** column with 0 and 1, respectively."
   ]
  },
  {
   "cell_type": "code",
   "execution_count": 50,
   "metadata": {},
   "outputs": [],
   "source": [
    "phone_info['multiple_lines'] = phone_info['multiple_lines'].replace('No', '0')\n",
    "phone_info['multiple_lines'] = phone_info['multiple_lines'].replace('Yes', '1')\n",
    "\n",
    "phone_info['multiple_lines'] = phone_info['multiple_lines'].astype('int')"
   ]
  },
  {
   "cell_type": "code",
   "execution_count": 51,
   "metadata": {},
   "outputs": [],
   "source": [
    "phone_info = phone_info[~phone_info['customer_id'].isin(customer_ids_to_drop)]\n",
    "\n",
    "phone_info = phone_info.reset_index(drop = True)"
   ]
  },
  {
   "cell_type": "code",
   "execution_count": 52,
   "metadata": {},
   "outputs": [
    {
     "data": {
      "text/html": [
       "<div>\n",
       "<style scoped>\n",
       "    .dataframe tbody tr th:only-of-type {\n",
       "        vertical-align: middle;\n",
       "    }\n",
       "\n",
       "    .dataframe tbody tr th {\n",
       "        vertical-align: top;\n",
       "    }\n",
       "\n",
       "    .dataframe thead th {\n",
       "        text-align: right;\n",
       "    }\n",
       "</style>\n",
       "<table border=\"1\" class=\"dataframe\">\n",
       "  <thead>\n",
       "    <tr style=\"text-align: right;\">\n",
       "      <th></th>\n",
       "      <th>customer_id</th>\n",
       "      <th>multiple_lines</th>\n",
       "    </tr>\n",
       "  </thead>\n",
       "  <tbody>\n",
       "    <tr>\n",
       "      <th>0</th>\n",
       "      <td>5575-GNVDE</td>\n",
       "      <td>0</td>\n",
       "    </tr>\n",
       "    <tr>\n",
       "      <th>1</th>\n",
       "      <td>3668-QPYBK</td>\n",
       "      <td>0</td>\n",
       "    </tr>\n",
       "    <tr>\n",
       "      <th>2</th>\n",
       "      <td>9237-HQITU</td>\n",
       "      <td>0</td>\n",
       "    </tr>\n",
       "    <tr>\n",
       "      <th>3</th>\n",
       "      <td>9305-CDSKC</td>\n",
       "      <td>1</td>\n",
       "    </tr>\n",
       "    <tr>\n",
       "      <th>4</th>\n",
       "      <td>1452-KIOVK</td>\n",
       "      <td>1</td>\n",
       "    </tr>\n",
       "    <tr>\n",
       "      <th>5</th>\n",
       "      <td>7892-POOKP</td>\n",
       "      <td>1</td>\n",
       "    </tr>\n",
       "    <tr>\n",
       "      <th>6</th>\n",
       "      <td>6388-TABGU</td>\n",
       "      <td>0</td>\n",
       "    </tr>\n",
       "    <tr>\n",
       "      <th>7</th>\n",
       "      <td>9763-GRSKD</td>\n",
       "      <td>0</td>\n",
       "    </tr>\n",
       "    <tr>\n",
       "      <th>8</th>\n",
       "      <td>7469-LKBCI</td>\n",
       "      <td>0</td>\n",
       "    </tr>\n",
       "    <tr>\n",
       "      <th>9</th>\n",
       "      <td>8091-TTVAX</td>\n",
       "      <td>1</td>\n",
       "    </tr>\n",
       "  </tbody>\n",
       "</table>\n",
       "</div>"
      ],
      "text/plain": [
       "  customer_id  multiple_lines\n",
       "0  5575-GNVDE               0\n",
       "1  3668-QPYBK               0\n",
       "2  9237-HQITU               0\n",
       "3  9305-CDSKC               1\n",
       "4  1452-KIOVK               1\n",
       "5  7892-POOKP               1\n",
       "6  6388-TABGU               0\n",
       "7  9763-GRSKD               0\n",
       "8  7469-LKBCI               0\n",
       "9  8091-TTVAX               1"
      ]
     },
     "execution_count": 52,
     "metadata": {},
     "output_type": "execute_result"
    }
   ],
   "source": [
    "phone_info.head(10)"
   ]
  },
  {
   "cell_type": "code",
   "execution_count": 53,
   "metadata": {},
   "outputs": [
    {
     "name": "stdout",
     "output_type": "stream",
     "text": [
      "<class 'pandas.core.frame.DataFrame'>\n",
      "RangeIndex: 6352 entries, 0 to 6351\n",
      "Data columns (total 2 columns):\n",
      " #   Column          Non-Null Count  Dtype \n",
      "---  ------          --------------  ----- \n",
      " 0   customer_id     6352 non-null   object\n",
      " 1   multiple_lines  6352 non-null   int64 \n",
      "dtypes: int64(1), object(1)\n",
      "memory usage: 99.4+ KB\n"
     ]
    }
   ],
   "source": [
    "phone_info.info()"
   ]
  },
  {
   "cell_type": "markdown",
   "metadata": {},
   "source": [
    "Notice that the **phone_info** dataframe has fewer rows than both **contract_info** and **personal_info**, 6352 compared to 7032. \n",
    "\n",
    "This is likely because 7032 – 6352 = 680 customers do not have a phone plan with Interconnect at all.\n",
    "\n",
    "When I merge the dataframes together, I will fill the 680 null **multiple_lines** values with –1 because this will help distinguish the customers who do not have a phone line from those who have at least one."
   ]
  },
  {
   "cell_type": "markdown",
   "metadata": {},
   "source": [
    "# Features Engineering <a id = 4></a>"
   ]
  },
  {
   "cell_type": "markdown",
   "metadata": {},
   "source": [
    "Since **contract_info**, **internet_info**, **personal_info**, and **phone_info** all have a **customer_id** column, they can easily be merged. Before I do this, there is some feature engineering that I think is worth doing to the **contract_info** dataframe."
   ]
  },
  {
   "cell_type": "markdown",
   "metadata": {},
   "source": [
    "First, I think it is a great idea to have a **left_interconnect** column, where 0 means \"no, this customer has not left Interconnect\" and 1 means \"yes, this customer has left Interconnect\". "
   ]
  },
  {
   "cell_type": "code",
   "execution_count": 54,
   "metadata": {},
   "outputs": [],
   "source": [
    "contract_info['left_interconnect'] = None\n",
    "\n",
    "for row in range(len(contract_info)):\n",
    "    \n",
    "    if contract_info.loc[row, 'end_date'] == 'N/A':\n",
    "        contract_info.loc[row, 'left_interconnect'] = 0\n",
    "    \n",
    "    else:\n",
    "        contract_info.loc[row, 'left_interconnect'] = 1\n",
    "        \n",
    "contract_info['left_interconnect'] = contract_info['left_interconnect'].astype('int')"
   ]
  },
  {
   "cell_type": "markdown",
   "metadata": {},
   "source": [
    "I also think it is a good idea to have a **duration_months** column which states how many months a customer has been or was an Interconnect customer, no matter if the customer has stayed with or left Interconnect."
   ]
  },
  {
   "cell_type": "code",
   "execution_count": 55,
   "metadata": {},
   "outputs": [
    {
     "name": "stdout",
     "output_type": "stream",
     "text": [
      "Earliest Begin Date: 2013-10\n",
      "Latest Begin Date: 2020-01\n"
     ]
    }
   ],
   "source": [
    "print(\"Earliest Begin Date:\", contract_info['begin_date'].min())\n",
    "print(\"Latest Begin Date:\", contract_info['begin_date'].max())"
   ]
  },
  {
   "cell_type": "markdown",
   "metadata": {},
   "source": [
    "**2020-01** is both the latest **begin_date** and the latest **end_date** value (as I discovered earlier using value_counts) in the dataframe, so this is the date I will use for calculating the **duration_months** values where the customer has not left Interconnect."
   ]
  },
  {
   "cell_type": "code",
   "execution_count": 56,
   "metadata": {},
   "outputs": [],
   "source": [
    "contract_info['duration_months'] = None\n",
    "\n",
    "for row in range(len(contract_info)):\n",
    "    \n",
    "    if contract_info.loc[row, 'end_date'] == 'N/A':\n",
    "        duration = relativedelta(pd.to_datetime('2020-01'), pd.to_datetime(contract_info.loc[row, 'begin_date']))\n",
    "    \n",
    "    else:\n",
    "        duration = relativedelta(pd.to_datetime(contract_info.loc[row, 'end_date']), \n",
    "                                 pd.to_datetime(contract_info.loc[row, 'begin_date']))\n",
    "    \n",
    "    contract_info.loc[row, 'duration_months'] = duration.years * 12 + duration.months\n",
    "\n",
    "contract_info['duration_months'] = contract_info['duration_months'].astype('int')"
   ]
  },
  {
   "cell_type": "markdown",
   "metadata": {},
   "source": [
    "I noticed with some of the customers that there is a discrepancy between their **monthly_fee** value and their corresponding **total_charges** value. \n",
    "\n",
    "For example, the customer whose ID is 9237-HQITU was with Interconnect for 2 months, and though their monthly fee was 70.70 their total charges value was 151.65 instead of 70.70 × 2 = 141.40, a 151.65 – 141.40 = 10.25 discrepancy.\n",
    "\n",
    "In the next line, I add a column named **total_fines** which records charges other than the monthly fee."
   ]
  },
  {
   "cell_type": "code",
   "execution_count": 57,
   "metadata": {},
   "outputs": [],
   "source": [
    "contract_info['total_fines'] = contract_info['total_charges']-contract_info['monthly_fee']*contract_info['duration_months']"
   ]
  },
  {
   "cell_type": "markdown",
   "metadata": {},
   "source": [
    "I think the **total_fines** column is a useful one to have because I suspect that customers who pay a large amount of money in fines are more likely to leave Interconnect than customers who pay little to nothing in fines.\n",
    "\n",
    "I will now also add a **monthly_fines_avg** column which records the average amount a customer pays in fines each month."
   ]
  },
  {
   "cell_type": "code",
   "execution_count": 58,
   "metadata": {},
   "outputs": [],
   "source": [
    "contract_info['monthly_fines_avg'] = round(contract_info['total_fines'] / contract_info['duration_months'], 2)"
   ]
  },
  {
   "cell_type": "code",
   "execution_count": 59,
   "metadata": {},
   "outputs": [
    {
     "data": {
      "text/html": [
       "<div>\n",
       "<style scoped>\n",
       "    .dataframe tbody tr th:only-of-type {\n",
       "        vertical-align: middle;\n",
       "    }\n",
       "\n",
       "    .dataframe tbody tr th {\n",
       "        vertical-align: top;\n",
       "    }\n",
       "\n",
       "    .dataframe thead th {\n",
       "        text-align: right;\n",
       "    }\n",
       "</style>\n",
       "<table border=\"1\" class=\"dataframe\">\n",
       "  <thead>\n",
       "    <tr style=\"text-align: right;\">\n",
       "      <th></th>\n",
       "      <th>customer_id</th>\n",
       "      <th>begin_date</th>\n",
       "      <th>end_date</th>\n",
       "      <th>contract_type</th>\n",
       "      <th>paperless_billing</th>\n",
       "      <th>payment_method</th>\n",
       "      <th>monthly_fee</th>\n",
       "      <th>total_charges</th>\n",
       "      <th>left_interconnect</th>\n",
       "      <th>duration_months</th>\n",
       "      <th>total_fines</th>\n",
       "      <th>monthly_fines_avg</th>\n",
       "    </tr>\n",
       "  </thead>\n",
       "  <tbody>\n",
       "    <tr>\n",
       "      <th>0</th>\n",
       "      <td>7590-VHVEG</td>\n",
       "      <td>2020-01</td>\n",
       "      <td>N/A</td>\n",
       "      <td>0</td>\n",
       "      <td>1</td>\n",
       "      <td>2</td>\n",
       "      <td>29.85</td>\n",
       "      <td>29.85</td>\n",
       "      <td>0</td>\n",
       "      <td>0</td>\n",
       "      <td>29.85</td>\n",
       "      <td>inf</td>\n",
       "    </tr>\n",
       "    <tr>\n",
       "      <th>1</th>\n",
       "      <td>5575-GNVDE</td>\n",
       "      <td>2017-04</td>\n",
       "      <td>N/A</td>\n",
       "      <td>1</td>\n",
       "      <td>0</td>\n",
       "      <td>3</td>\n",
       "      <td>56.95</td>\n",
       "      <td>1889.50</td>\n",
       "      <td>0</td>\n",
       "      <td>33</td>\n",
       "      <td>10.15</td>\n",
       "      <td>0.31</td>\n",
       "    </tr>\n",
       "    <tr>\n",
       "      <th>2</th>\n",
       "      <td>3668-QPYBK</td>\n",
       "      <td>2019-10</td>\n",
       "      <td>2019-12</td>\n",
       "      <td>0</td>\n",
       "      <td>1</td>\n",
       "      <td>3</td>\n",
       "      <td>53.85</td>\n",
       "      <td>108.15</td>\n",
       "      <td>1</td>\n",
       "      <td>2</td>\n",
       "      <td>0.45</td>\n",
       "      <td>0.23</td>\n",
       "    </tr>\n",
       "    <tr>\n",
       "      <th>3</th>\n",
       "      <td>7795-CFOCW</td>\n",
       "      <td>2016-05</td>\n",
       "      <td>N/A</td>\n",
       "      <td>1</td>\n",
       "      <td>0</td>\n",
       "      <td>0</td>\n",
       "      <td>42.30</td>\n",
       "      <td>1840.75</td>\n",
       "      <td>0</td>\n",
       "      <td>44</td>\n",
       "      <td>-20.45</td>\n",
       "      <td>-0.46</td>\n",
       "    </tr>\n",
       "    <tr>\n",
       "      <th>4</th>\n",
       "      <td>9237-HQITU</td>\n",
       "      <td>2019-09</td>\n",
       "      <td>2019-11</td>\n",
       "      <td>0</td>\n",
       "      <td>1</td>\n",
       "      <td>2</td>\n",
       "      <td>70.70</td>\n",
       "      <td>151.65</td>\n",
       "      <td>1</td>\n",
       "      <td>2</td>\n",
       "      <td>10.25</td>\n",
       "      <td>5.12</td>\n",
       "    </tr>\n",
       "    <tr>\n",
       "      <th>5</th>\n",
       "      <td>9305-CDSKC</td>\n",
       "      <td>2019-03</td>\n",
       "      <td>2019-11</td>\n",
       "      <td>0</td>\n",
       "      <td>1</td>\n",
       "      <td>2</td>\n",
       "      <td>99.65</td>\n",
       "      <td>820.50</td>\n",
       "      <td>1</td>\n",
       "      <td>8</td>\n",
       "      <td>23.30</td>\n",
       "      <td>2.91</td>\n",
       "    </tr>\n",
       "    <tr>\n",
       "      <th>6</th>\n",
       "      <td>1452-KIOVK</td>\n",
       "      <td>2018-04</td>\n",
       "      <td>N/A</td>\n",
       "      <td>0</td>\n",
       "      <td>1</td>\n",
       "      <td>1</td>\n",
       "      <td>89.10</td>\n",
       "      <td>1949.40</td>\n",
       "      <td>0</td>\n",
       "      <td>21</td>\n",
       "      <td>78.30</td>\n",
       "      <td>3.73</td>\n",
       "    </tr>\n",
       "    <tr>\n",
       "      <th>7</th>\n",
       "      <td>6713-OKOMC</td>\n",
       "      <td>2019-04</td>\n",
       "      <td>N/A</td>\n",
       "      <td>0</td>\n",
       "      <td>0</td>\n",
       "      <td>3</td>\n",
       "      <td>29.75</td>\n",
       "      <td>301.90</td>\n",
       "      <td>0</td>\n",
       "      <td>9</td>\n",
       "      <td>34.15</td>\n",
       "      <td>3.79</td>\n",
       "    </tr>\n",
       "    <tr>\n",
       "      <th>8</th>\n",
       "      <td>7892-POOKP</td>\n",
       "      <td>2017-07</td>\n",
       "      <td>2019-11</td>\n",
       "      <td>0</td>\n",
       "      <td>1</td>\n",
       "      <td>2</td>\n",
       "      <td>104.80</td>\n",
       "      <td>3046.05</td>\n",
       "      <td>1</td>\n",
       "      <td>28</td>\n",
       "      <td>111.65</td>\n",
       "      <td>3.99</td>\n",
       "    </tr>\n",
       "    <tr>\n",
       "      <th>9</th>\n",
       "      <td>6388-TABGU</td>\n",
       "      <td>2014-12</td>\n",
       "      <td>N/A</td>\n",
       "      <td>1</td>\n",
       "      <td>0</td>\n",
       "      <td>0</td>\n",
       "      <td>56.15</td>\n",
       "      <td>3487.95</td>\n",
       "      <td>0</td>\n",
       "      <td>61</td>\n",
       "      <td>62.80</td>\n",
       "      <td>1.03</td>\n",
       "    </tr>\n",
       "  </tbody>\n",
       "</table>\n",
       "</div>"
      ],
      "text/plain": [
       "  customer_id begin_date end_date  contract_type  paperless_billing  \\\n",
       "0  7590-VHVEG    2020-01      N/A              0                  1   \n",
       "1  5575-GNVDE    2017-04      N/A              1                  0   \n",
       "2  3668-QPYBK    2019-10  2019-12              0                  1   \n",
       "3  7795-CFOCW    2016-05      N/A              1                  0   \n",
       "4  9237-HQITU    2019-09  2019-11              0                  1   \n",
       "5  9305-CDSKC    2019-03  2019-11              0                  1   \n",
       "6  1452-KIOVK    2018-04      N/A              0                  1   \n",
       "7  6713-OKOMC    2019-04      N/A              0                  0   \n",
       "8  7892-POOKP    2017-07  2019-11              0                  1   \n",
       "9  6388-TABGU    2014-12      N/A              1                  0   \n",
       "\n",
       "   payment_method  monthly_fee  total_charges  left_interconnect  \\\n",
       "0               2        29.85          29.85                  0   \n",
       "1               3        56.95        1889.50                  0   \n",
       "2               3        53.85         108.15                  1   \n",
       "3               0        42.30        1840.75                  0   \n",
       "4               2        70.70         151.65                  1   \n",
       "5               2        99.65         820.50                  1   \n",
       "6               1        89.10        1949.40                  0   \n",
       "7               3        29.75         301.90                  0   \n",
       "8               2       104.80        3046.05                  1   \n",
       "9               0        56.15        3487.95                  0   \n",
       "\n",
       "   duration_months  total_fines  monthly_fines_avg  \n",
       "0                0        29.85                inf  \n",
       "1               33        10.15               0.31  \n",
       "2                2         0.45               0.23  \n",
       "3               44       -20.45              -0.46  \n",
       "4                2        10.25               5.12  \n",
       "5                8        23.30               2.91  \n",
       "6               21        78.30               3.73  \n",
       "7                9        34.15               3.79  \n",
       "8               28       111.65               3.99  \n",
       "9               61        62.80               1.03  "
      ]
     },
     "execution_count": 59,
     "metadata": {},
     "output_type": "execute_result"
    }
   ],
   "source": [
    "contract_info.head(10)"
   ]
  },
  {
   "cell_type": "markdown",
   "metadata": {},
   "source": [
    "Interestingly, there is at least one customer, specifically 7795-CFOCW, whose **total_fines** value is negative. I don't think this is necessarily incorrect, however. Maybe this customer used a coupon, meaning Interconnect did not get as much money from them as they usually get from customers. Maybe this customer reported that the product(s) they received from Interconnect were faulty, and hence Interconnect gave the customer a partial or even full refund on the product(s). Whatever the reason, I will leave the negative **total_fines** and **monthly_fines_avg** values alone.\n",
    "\n",
    "There is, however, an issue with the **monthly_fines_avg** column that needs fixing. At least one customer, specifically 7590-VHVEG, is new to Interconnect, as evidenced by how their **duration_months** value is 0, which is causing their **monthly_fines_avg** value to be **inf** (an abbreviation for infinity). The next line of code fixes this issue."
   ]
  },
  {
   "cell_type": "code",
   "execution_count": 60,
   "metadata": {},
   "outputs": [],
   "source": [
    "contract_info['monthly_fines_avg'] = np.where(np.isinf(contract_info['monthly_fines_avg']), \n",
    "                                              contract_info['total_charges'] - contract_info['monthly_fee'], \n",
    "                                              contract_info['monthly_fines_avg'])"
   ]
  },
  {
   "cell_type": "markdown",
   "metadata": {},
   "source": [
    "# **Merging the Dataframes** <a id = 5></a>"
   ]
  },
  {
   "cell_type": "markdown",
   "metadata": {},
   "source": [
    "Are there any **customer_id** values that appear in **contract_info** but not **personal_info**, and/or vice versa? It would be good to know the answer to this question before merging the dataframes so that I can anticipate the rows that will have multiple null values, if any."
   ]
  },
  {
   "cell_type": "code",
   "execution_count": 61,
   "metadata": {},
   "outputs": [
    {
     "data": {
      "text/html": [
       "<div>\n",
       "<style scoped>\n",
       "    .dataframe tbody tr th:only-of-type {\n",
       "        vertical-align: middle;\n",
       "    }\n",
       "\n",
       "    .dataframe tbody tr th {\n",
       "        vertical-align: top;\n",
       "    }\n",
       "\n",
       "    .dataframe thead th {\n",
       "        text-align: right;\n",
       "    }\n",
       "</style>\n",
       "<table border=\"1\" class=\"dataframe\">\n",
       "  <thead>\n",
       "    <tr style=\"text-align: right;\">\n",
       "      <th></th>\n",
       "      <th>customer_id</th>\n",
       "      <th>begin_date</th>\n",
       "      <th>end_date</th>\n",
       "      <th>contract_type</th>\n",
       "      <th>paperless_billing</th>\n",
       "      <th>payment_method</th>\n",
       "      <th>monthly_fee</th>\n",
       "      <th>total_charges</th>\n",
       "      <th>left_interconnect</th>\n",
       "      <th>duration_months</th>\n",
       "      <th>total_fines</th>\n",
       "      <th>monthly_fines_avg</th>\n",
       "    </tr>\n",
       "  </thead>\n",
       "  <tbody>\n",
       "  </tbody>\n",
       "</table>\n",
       "</div>"
      ],
      "text/plain": [
       "Empty DataFrame\n",
       "Columns: [customer_id, begin_date, end_date, contract_type, paperless_billing, payment_method, monthly_fee, total_charges, left_interconnect, duration_months, total_fines, monthly_fines_avg]\n",
       "Index: []"
      ]
     },
     "metadata": {},
     "output_type": "display_data"
    }
   ],
   "source": [
    "display(contract_info[~contract_info['customer_id'].isin(personal_info['customer_id'])])"
   ]
  },
  {
   "cell_type": "markdown",
   "metadata": {},
   "source": [
    "Great! This means the **contract_info** dataframe does not have any **customer_id** values that are not also in **personal_info**."
   ]
  },
  {
   "cell_type": "code",
   "execution_count": 62,
   "metadata": {},
   "outputs": [
    {
     "data": {
      "text/html": [
       "<div>\n",
       "<style scoped>\n",
       "    .dataframe tbody tr th:only-of-type {\n",
       "        vertical-align: middle;\n",
       "    }\n",
       "\n",
       "    .dataframe tbody tr th {\n",
       "        vertical-align: top;\n",
       "    }\n",
       "\n",
       "    .dataframe thead th {\n",
       "        text-align: right;\n",
       "    }\n",
       "</style>\n",
       "<table border=\"1\" class=\"dataframe\">\n",
       "  <thead>\n",
       "    <tr style=\"text-align: right;\">\n",
       "      <th></th>\n",
       "      <th>customer_id</th>\n",
       "      <th>gender</th>\n",
       "      <th>senior_citizen</th>\n",
       "      <th>partner</th>\n",
       "      <th>dependents</th>\n",
       "    </tr>\n",
       "  </thead>\n",
       "  <tbody>\n",
       "  </tbody>\n",
       "</table>\n",
       "</div>"
      ],
      "text/plain": [
       "Empty DataFrame\n",
       "Columns: [customer_id, gender, senior_citizen, partner, dependents]\n",
       "Index: []"
      ]
     },
     "metadata": {},
     "output_type": "display_data"
    }
   ],
   "source": [
    "display(personal_info[~personal_info['customer_id'].isin(contract_info['customer_id'])])"
   ]
  },
  {
   "cell_type": "markdown",
   "metadata": {},
   "source": [
    "Excellent! This means the **personal_info** dataframe does not have any **customer_id** values that are not also in **contract_info**.\n",
    "\n",
    "Hence, these two dataframes can be merged without running the risk of creating new rows that have numerous null values."
   ]
  },
  {
   "cell_type": "markdown",
   "metadata": {},
   "source": [
    "I know that the **phone_info** dataframe has fewer rows than **contract_info** and **personal_info**, so I am not going to check if **contract_info** has any **customer_id** values that **phone_info** doesn't (because I already know it does), but it would be wise to check the other way around."
   ]
  },
  {
   "cell_type": "code",
   "execution_count": 63,
   "metadata": {},
   "outputs": [
    {
     "data": {
      "text/html": [
       "<div>\n",
       "<style scoped>\n",
       "    .dataframe tbody tr th:only-of-type {\n",
       "        vertical-align: middle;\n",
       "    }\n",
       "\n",
       "    .dataframe tbody tr th {\n",
       "        vertical-align: top;\n",
       "    }\n",
       "\n",
       "    .dataframe thead th {\n",
       "        text-align: right;\n",
       "    }\n",
       "</style>\n",
       "<table border=\"1\" class=\"dataframe\">\n",
       "  <thead>\n",
       "    <tr style=\"text-align: right;\">\n",
       "      <th></th>\n",
       "      <th>customer_id</th>\n",
       "      <th>multiple_lines</th>\n",
       "    </tr>\n",
       "  </thead>\n",
       "  <tbody>\n",
       "  </tbody>\n",
       "</table>\n",
       "</div>"
      ],
      "text/plain": [
       "Empty DataFrame\n",
       "Columns: [customer_id, multiple_lines]\n",
       "Index: []"
      ]
     },
     "metadata": {},
     "output_type": "display_data"
    }
   ],
   "source": [
    "display(phone_info[~phone_info['customer_id'].isin(contract_info['customer_id'])])"
   ]
  },
  {
   "cell_type": "markdown",
   "metadata": {},
   "source": [
    "Fantastic! This means that merging **phone_info** with **contract_info** and with **personal_info** will not add any rows with **customer_id** values that correspond to numerous null values."
   ]
  },
  {
   "cell_type": "markdown",
   "metadata": {},
   "source": [
    "The **internet_info** dataframe has fewer rows than **contract_info** and **personal_info**, so I should do the same kind of check I did with **phone_info**."
   ]
  },
  {
   "cell_type": "code",
   "execution_count": 64,
   "metadata": {},
   "outputs": [
    {
     "data": {
      "text/html": [
       "<div>\n",
       "<style scoped>\n",
       "    .dataframe tbody tr th:only-of-type {\n",
       "        vertical-align: middle;\n",
       "    }\n",
       "\n",
       "    .dataframe tbody tr th {\n",
       "        vertical-align: top;\n",
       "    }\n",
       "\n",
       "    .dataframe thead th {\n",
       "        text-align: right;\n",
       "    }\n",
       "</style>\n",
       "<table border=\"1\" class=\"dataframe\">\n",
       "  <thead>\n",
       "    <tr style=\"text-align: right;\">\n",
       "      <th></th>\n",
       "      <th>customer_id</th>\n",
       "      <th>internet_service</th>\n",
       "      <th>online_security</th>\n",
       "      <th>online_backup</th>\n",
       "      <th>device_protection</th>\n",
       "      <th>tech_support</th>\n",
       "      <th>streaming_tv</th>\n",
       "      <th>streaming_movies</th>\n",
       "    </tr>\n",
       "  </thead>\n",
       "  <tbody>\n",
       "  </tbody>\n",
       "</table>\n",
       "</div>"
      ],
      "text/plain": [
       "Empty DataFrame\n",
       "Columns: [customer_id, internet_service, online_security, online_backup, device_protection, tech_support, streaming_tv, streaming_movies]\n",
       "Index: []"
      ]
     },
     "metadata": {},
     "output_type": "display_data"
    }
   ],
   "source": [
    "display(internet_info[~internet_info['customer_id'].isin(contract_info['customer_id'])])"
   ]
  },
  {
   "cell_type": "markdown",
   "metadata": {},
   "source": [
    "Great! I have nothing to worry about."
   ]
  },
  {
   "cell_type": "markdown",
   "metadata": {},
   "source": [
    "Let's now merge the **contract_info**, **internet_info**, **personal_info**, and **phone_info** dataframes on the **customer_id** column."
   ]
  },
  {
   "cell_type": "code",
   "execution_count": 65,
   "metadata": {},
   "outputs": [],
   "source": [
    "all_info = contract_info.merge(personal_info, how = 'outer', on = 'customer_id')\n",
    "all_info = all_info.merge(internet_info, how = 'outer', on = 'customer_id')\n",
    "all_info = all_info.merge(phone_info, how = 'outer', on = 'customer_id')"
   ]
  },
  {
   "cell_type": "markdown",
   "metadata": {},
   "source": [
    "Come to think of it, it would be great if **all_info** had a **has_phone_line** column to distinguish customers with a phone line from those without one.\n",
    "\n",
    "Just like the other binary classification columns, I will use **0** to mean false / no and **1** to mean true / yes."
   ]
  },
  {
   "cell_type": "code",
   "execution_count": 66,
   "metadata": {},
   "outputs": [],
   "source": [
    "for row in range(len(all_info)):\n",
    "    \n",
    "    if pd.isna(all_info.loc[row, 'multiple_lines']):\n",
    "        all_info.loc[row, 'has_phone_line'] = 0\n",
    "    \n",
    "    else:\n",
    "        all_info.loc[row, 'has_phone_line'] = 1\n",
    "        \n",
    "all_info['has_phone_line'] = all_info['has_phone_line'].astype('int')"
   ]
  },
  {
   "cell_type": "code",
   "execution_count": 67,
   "metadata": {},
   "outputs": [
    {
     "data": {
      "text/plain": [
       "1    6352\n",
       "0     680\n",
       "Name: has_phone_line, dtype: int64"
      ]
     },
     "execution_count": 67,
     "metadata": {},
     "output_type": "execute_result"
    }
   ],
   "source": [
    "all_info['has_phone_line'].value_counts()"
   ]
  },
  {
   "cell_type": "markdown",
   "metadata": {},
   "source": [
    "Great! 680 of the customers are labeled as not having a phone line, which is the correct number."
   ]
  },
  {
   "cell_type": "code",
   "execution_count": 68,
   "metadata": {},
   "outputs": [
    {
     "name": "stdout",
     "output_type": "stream",
     "text": [
      "<class 'pandas.core.frame.DataFrame'>\n",
      "Int64Index: 7032 entries, 0 to 7031\n",
      "Data columns (total 25 columns):\n",
      " #   Column             Non-Null Count  Dtype  \n",
      "---  ------             --------------  -----  \n",
      " 0   customer_id        7032 non-null   object \n",
      " 1   begin_date         7032 non-null   object \n",
      " 2   end_date           7032 non-null   object \n",
      " 3   contract_type      7032 non-null   int64  \n",
      " 4   paperless_billing  7032 non-null   int64  \n",
      " 5   payment_method     7032 non-null   int64  \n",
      " 6   monthly_fee        7032 non-null   float64\n",
      " 7   total_charges      7032 non-null   float64\n",
      " 8   left_interconnect  7032 non-null   int64  \n",
      " 9   duration_months    7032 non-null   int64  \n",
      " 10  total_fines        7032 non-null   float64\n",
      " 11  monthly_fines_avg  7032 non-null   float64\n",
      " 12  gender             7032 non-null   int64  \n",
      " 13  senior_citizen     7032 non-null   int64  \n",
      " 14  partner            7032 non-null   int64  \n",
      " 15  dependents         7032 non-null   int64  \n",
      " 16  internet_service   5512 non-null   float64\n",
      " 17  online_security    5512 non-null   float64\n",
      " 18  online_backup      5512 non-null   float64\n",
      " 19  device_protection  5512 non-null   float64\n",
      " 20  tech_support       5512 non-null   float64\n",
      " 21  streaming_tv       5512 non-null   float64\n",
      " 22  streaming_movies   5512 non-null   float64\n",
      " 23  multiple_lines     6352 non-null   float64\n",
      " 24  has_phone_line     7032 non-null   int64  \n",
      "dtypes: float64(12), int64(10), object(3)\n",
      "memory usage: 1.6+ MB\n"
     ]
    }
   ],
   "source": [
    "all_info.info()"
   ]
  },
  {
   "cell_type": "markdown",
   "metadata": {},
   "source": [
    "As mentioned earlier, all of the null values should be replaced with –1, which in this context essentially means \"not applicable\"."
   ]
  },
  {
   "cell_type": "code",
   "execution_count": 69,
   "metadata": {},
   "outputs": [],
   "source": [
    "all_info = all_info.fillna(-1)\n",
    "\n",
    "for column in ['internet_service', 'online_security', 'online_backup', 'device_protection', \n",
    "               'tech_support', 'streaming_tv', 'streaming_movies', 'multiple_lines']:\n",
    "    \n",
    "    all_info[column] = all_info[column].astype('int')"
   ]
  },
  {
   "cell_type": "markdown",
   "metadata": {},
   "source": [
    "I worry that the order of the columns is rather disorganized. In the next line I rearrange the columns roughly in order of contract information, personal information, internet information, and phone information."
   ]
  },
  {
   "cell_type": "code",
   "execution_count": 70,
   "metadata": {},
   "outputs": [],
   "source": [
    "rearranged_columns = ['customer_id', 'left_interconnect', 'begin_date', 'end_date', 'duration_months', \n",
    "                      'monthly_fee', 'monthly_fines_avg', 'total_charges', 'total_fines', 'contract_type', \n",
    "                      'paperless_billing', 'payment_method', 'gender', 'dependents', 'partner', 'senior_citizen', \n",
    "                      'internet_service', 'online_security', 'online_backup', 'device_protection', 'tech_support', \n",
    "                      'streaming_tv', 'streaming_movies', 'has_phone_line', 'multiple_lines']\n",
    "\n",
    "all_info = all_info[rearranged_columns]"
   ]
  },
  {
   "cell_type": "code",
   "execution_count": 71,
   "metadata": {},
   "outputs": [
    {
     "name": "stdout",
     "output_type": "stream",
     "text": [
      "<class 'pandas.core.frame.DataFrame'>\n",
      "Int64Index: 7032 entries, 0 to 7031\n",
      "Data columns (total 25 columns):\n",
      " #   Column             Non-Null Count  Dtype  \n",
      "---  ------             --------------  -----  \n",
      " 0   customer_id        7032 non-null   object \n",
      " 1   left_interconnect  7032 non-null   int64  \n",
      " 2   begin_date         7032 non-null   object \n",
      " 3   end_date           7032 non-null   object \n",
      " 4   duration_months    7032 non-null   int64  \n",
      " 5   monthly_fee        7032 non-null   float64\n",
      " 6   monthly_fines_avg  7032 non-null   float64\n",
      " 7   total_charges      7032 non-null   float64\n",
      " 8   total_fines        7032 non-null   float64\n",
      " 9   contract_type      7032 non-null   int64  \n",
      " 10  paperless_billing  7032 non-null   int64  \n",
      " 11  payment_method     7032 non-null   int64  \n",
      " 12  gender             7032 non-null   int64  \n",
      " 13  dependents         7032 non-null   int64  \n",
      " 14  partner            7032 non-null   int64  \n",
      " 15  senior_citizen     7032 non-null   int64  \n",
      " 16  internet_service   7032 non-null   int64  \n",
      " 17  online_security    7032 non-null   int64  \n",
      " 18  online_backup      7032 non-null   int64  \n",
      " 19  device_protection  7032 non-null   int64  \n",
      " 20  tech_support       7032 non-null   int64  \n",
      " 21  streaming_tv       7032 non-null   int64  \n",
      " 22  streaming_movies   7032 non-null   int64  \n",
      " 23  has_phone_line     7032 non-null   int64  \n",
      " 24  multiple_lines     7032 non-null   int64  \n",
      "dtypes: float64(4), int64(18), object(3)\n",
      "memory usage: 1.6+ MB\n"
     ]
    }
   ],
   "source": [
    "all_info.info()"
   ]
  },
  {
   "cell_type": "code",
   "execution_count": 72,
   "metadata": {},
   "outputs": [
    {
     "data": {
      "text/html": [
       "<div>\n",
       "<style scoped>\n",
       "    .dataframe tbody tr th:only-of-type {\n",
       "        vertical-align: middle;\n",
       "    }\n",
       "\n",
       "    .dataframe tbody tr th {\n",
       "        vertical-align: top;\n",
       "    }\n",
       "\n",
       "    .dataframe thead th {\n",
       "        text-align: right;\n",
       "    }\n",
       "</style>\n",
       "<table border=\"1\" class=\"dataframe\">\n",
       "  <thead>\n",
       "    <tr style=\"text-align: right;\">\n",
       "      <th></th>\n",
       "      <th>customer_id</th>\n",
       "      <th>left_interconnect</th>\n",
       "      <th>begin_date</th>\n",
       "      <th>end_date</th>\n",
       "      <th>duration_months</th>\n",
       "      <th>monthly_fee</th>\n",
       "      <th>monthly_fines_avg</th>\n",
       "      <th>total_charges</th>\n",
       "      <th>total_fines</th>\n",
       "      <th>contract_type</th>\n",
       "      <th>...</th>\n",
       "      <th>senior_citizen</th>\n",
       "      <th>internet_service</th>\n",
       "      <th>online_security</th>\n",
       "      <th>online_backup</th>\n",
       "      <th>device_protection</th>\n",
       "      <th>tech_support</th>\n",
       "      <th>streaming_tv</th>\n",
       "      <th>streaming_movies</th>\n",
       "      <th>has_phone_line</th>\n",
       "      <th>multiple_lines</th>\n",
       "    </tr>\n",
       "  </thead>\n",
       "  <tbody>\n",
       "    <tr>\n",
       "      <th>0</th>\n",
       "      <td>7590-VHVEG</td>\n",
       "      <td>0</td>\n",
       "      <td>2020-01</td>\n",
       "      <td>N/A</td>\n",
       "      <td>0</td>\n",
       "      <td>29.85</td>\n",
       "      <td>0.00</td>\n",
       "      <td>29.85</td>\n",
       "      <td>29.85</td>\n",
       "      <td>0</td>\n",
       "      <td>...</td>\n",
       "      <td>0</td>\n",
       "      <td>0</td>\n",
       "      <td>0</td>\n",
       "      <td>1</td>\n",
       "      <td>0</td>\n",
       "      <td>0</td>\n",
       "      <td>0</td>\n",
       "      <td>0</td>\n",
       "      <td>0</td>\n",
       "      <td>-1</td>\n",
       "    </tr>\n",
       "    <tr>\n",
       "      <th>1</th>\n",
       "      <td>5575-GNVDE</td>\n",
       "      <td>0</td>\n",
       "      <td>2017-04</td>\n",
       "      <td>N/A</td>\n",
       "      <td>33</td>\n",
       "      <td>56.95</td>\n",
       "      <td>0.31</td>\n",
       "      <td>1889.50</td>\n",
       "      <td>10.15</td>\n",
       "      <td>1</td>\n",
       "      <td>...</td>\n",
       "      <td>0</td>\n",
       "      <td>0</td>\n",
       "      <td>1</td>\n",
       "      <td>0</td>\n",
       "      <td>1</td>\n",
       "      <td>0</td>\n",
       "      <td>0</td>\n",
       "      <td>0</td>\n",
       "      <td>1</td>\n",
       "      <td>0</td>\n",
       "    </tr>\n",
       "    <tr>\n",
       "      <th>2</th>\n",
       "      <td>3668-QPYBK</td>\n",
       "      <td>1</td>\n",
       "      <td>2019-10</td>\n",
       "      <td>2019-12</td>\n",
       "      <td>2</td>\n",
       "      <td>53.85</td>\n",
       "      <td>0.23</td>\n",
       "      <td>108.15</td>\n",
       "      <td>0.45</td>\n",
       "      <td>0</td>\n",
       "      <td>...</td>\n",
       "      <td>0</td>\n",
       "      <td>0</td>\n",
       "      <td>1</td>\n",
       "      <td>1</td>\n",
       "      <td>0</td>\n",
       "      <td>0</td>\n",
       "      <td>0</td>\n",
       "      <td>0</td>\n",
       "      <td>1</td>\n",
       "      <td>0</td>\n",
       "    </tr>\n",
       "    <tr>\n",
       "      <th>3</th>\n",
       "      <td>7795-CFOCW</td>\n",
       "      <td>0</td>\n",
       "      <td>2016-05</td>\n",
       "      <td>N/A</td>\n",
       "      <td>44</td>\n",
       "      <td>42.30</td>\n",
       "      <td>-0.46</td>\n",
       "      <td>1840.75</td>\n",
       "      <td>-20.45</td>\n",
       "      <td>1</td>\n",
       "      <td>...</td>\n",
       "      <td>0</td>\n",
       "      <td>0</td>\n",
       "      <td>1</td>\n",
       "      <td>0</td>\n",
       "      <td>1</td>\n",
       "      <td>1</td>\n",
       "      <td>0</td>\n",
       "      <td>0</td>\n",
       "      <td>0</td>\n",
       "      <td>-1</td>\n",
       "    </tr>\n",
       "    <tr>\n",
       "      <th>4</th>\n",
       "      <td>9237-HQITU</td>\n",
       "      <td>1</td>\n",
       "      <td>2019-09</td>\n",
       "      <td>2019-11</td>\n",
       "      <td>2</td>\n",
       "      <td>70.70</td>\n",
       "      <td>5.12</td>\n",
       "      <td>151.65</td>\n",
       "      <td>10.25</td>\n",
       "      <td>0</td>\n",
       "      <td>...</td>\n",
       "      <td>0</td>\n",
       "      <td>1</td>\n",
       "      <td>0</td>\n",
       "      <td>0</td>\n",
       "      <td>0</td>\n",
       "      <td>0</td>\n",
       "      <td>0</td>\n",
       "      <td>0</td>\n",
       "      <td>1</td>\n",
       "      <td>0</td>\n",
       "    </tr>\n",
       "    <tr>\n",
       "      <th>5</th>\n",
       "      <td>9305-CDSKC</td>\n",
       "      <td>1</td>\n",
       "      <td>2019-03</td>\n",
       "      <td>2019-11</td>\n",
       "      <td>8</td>\n",
       "      <td>99.65</td>\n",
       "      <td>2.91</td>\n",
       "      <td>820.50</td>\n",
       "      <td>23.30</td>\n",
       "      <td>0</td>\n",
       "      <td>...</td>\n",
       "      <td>0</td>\n",
       "      <td>1</td>\n",
       "      <td>0</td>\n",
       "      <td>0</td>\n",
       "      <td>1</td>\n",
       "      <td>0</td>\n",
       "      <td>1</td>\n",
       "      <td>1</td>\n",
       "      <td>1</td>\n",
       "      <td>1</td>\n",
       "    </tr>\n",
       "    <tr>\n",
       "      <th>6</th>\n",
       "      <td>1452-KIOVK</td>\n",
       "      <td>0</td>\n",
       "      <td>2018-04</td>\n",
       "      <td>N/A</td>\n",
       "      <td>21</td>\n",
       "      <td>89.10</td>\n",
       "      <td>3.73</td>\n",
       "      <td>1949.40</td>\n",
       "      <td>78.30</td>\n",
       "      <td>0</td>\n",
       "      <td>...</td>\n",
       "      <td>0</td>\n",
       "      <td>1</td>\n",
       "      <td>0</td>\n",
       "      <td>1</td>\n",
       "      <td>0</td>\n",
       "      <td>0</td>\n",
       "      <td>1</td>\n",
       "      <td>0</td>\n",
       "      <td>1</td>\n",
       "      <td>1</td>\n",
       "    </tr>\n",
       "    <tr>\n",
       "      <th>7</th>\n",
       "      <td>6713-OKOMC</td>\n",
       "      <td>0</td>\n",
       "      <td>2019-04</td>\n",
       "      <td>N/A</td>\n",
       "      <td>9</td>\n",
       "      <td>29.75</td>\n",
       "      <td>3.79</td>\n",
       "      <td>301.90</td>\n",
       "      <td>34.15</td>\n",
       "      <td>0</td>\n",
       "      <td>...</td>\n",
       "      <td>0</td>\n",
       "      <td>0</td>\n",
       "      <td>1</td>\n",
       "      <td>0</td>\n",
       "      <td>0</td>\n",
       "      <td>0</td>\n",
       "      <td>0</td>\n",
       "      <td>0</td>\n",
       "      <td>0</td>\n",
       "      <td>-1</td>\n",
       "    </tr>\n",
       "    <tr>\n",
       "      <th>8</th>\n",
       "      <td>7892-POOKP</td>\n",
       "      <td>1</td>\n",
       "      <td>2017-07</td>\n",
       "      <td>2019-11</td>\n",
       "      <td>28</td>\n",
       "      <td>104.80</td>\n",
       "      <td>3.99</td>\n",
       "      <td>3046.05</td>\n",
       "      <td>111.65</td>\n",
       "      <td>0</td>\n",
       "      <td>...</td>\n",
       "      <td>0</td>\n",
       "      <td>1</td>\n",
       "      <td>0</td>\n",
       "      <td>0</td>\n",
       "      <td>1</td>\n",
       "      <td>1</td>\n",
       "      <td>1</td>\n",
       "      <td>1</td>\n",
       "      <td>1</td>\n",
       "      <td>1</td>\n",
       "    </tr>\n",
       "    <tr>\n",
       "      <th>9</th>\n",
       "      <td>6388-TABGU</td>\n",
       "      <td>0</td>\n",
       "      <td>2014-12</td>\n",
       "      <td>N/A</td>\n",
       "      <td>61</td>\n",
       "      <td>56.15</td>\n",
       "      <td>1.03</td>\n",
       "      <td>3487.95</td>\n",
       "      <td>62.80</td>\n",
       "      <td>1</td>\n",
       "      <td>...</td>\n",
       "      <td>0</td>\n",
       "      <td>0</td>\n",
       "      <td>1</td>\n",
       "      <td>1</td>\n",
       "      <td>0</td>\n",
       "      <td>0</td>\n",
       "      <td>0</td>\n",
       "      <td>0</td>\n",
       "      <td>1</td>\n",
       "      <td>0</td>\n",
       "    </tr>\n",
       "  </tbody>\n",
       "</table>\n",
       "<p>10 rows × 25 columns</p>\n",
       "</div>"
      ],
      "text/plain": [
       "  customer_id  left_interconnect begin_date end_date  duration_months  \\\n",
       "0  7590-VHVEG                  0    2020-01      N/A                0   \n",
       "1  5575-GNVDE                  0    2017-04      N/A               33   \n",
       "2  3668-QPYBK                  1    2019-10  2019-12                2   \n",
       "3  7795-CFOCW                  0    2016-05      N/A               44   \n",
       "4  9237-HQITU                  1    2019-09  2019-11                2   \n",
       "5  9305-CDSKC                  1    2019-03  2019-11                8   \n",
       "6  1452-KIOVK                  0    2018-04      N/A               21   \n",
       "7  6713-OKOMC                  0    2019-04      N/A                9   \n",
       "8  7892-POOKP                  1    2017-07  2019-11               28   \n",
       "9  6388-TABGU                  0    2014-12      N/A               61   \n",
       "\n",
       "   monthly_fee  monthly_fines_avg  total_charges  total_fines  contract_type  \\\n",
       "0        29.85               0.00          29.85        29.85              0   \n",
       "1        56.95               0.31        1889.50        10.15              1   \n",
       "2        53.85               0.23         108.15         0.45              0   \n",
       "3        42.30              -0.46        1840.75       -20.45              1   \n",
       "4        70.70               5.12         151.65        10.25              0   \n",
       "5        99.65               2.91         820.50        23.30              0   \n",
       "6        89.10               3.73        1949.40        78.30              0   \n",
       "7        29.75               3.79         301.90        34.15              0   \n",
       "8       104.80               3.99        3046.05       111.65              0   \n",
       "9        56.15               1.03        3487.95        62.80              1   \n",
       "\n",
       "   ...  senior_citizen  internet_service  online_security  online_backup  \\\n",
       "0  ...               0                 0                0              1   \n",
       "1  ...               0                 0                1              0   \n",
       "2  ...               0                 0                1              1   \n",
       "3  ...               0                 0                1              0   \n",
       "4  ...               0                 1                0              0   \n",
       "5  ...               0                 1                0              0   \n",
       "6  ...               0                 1                0              1   \n",
       "7  ...               0                 0                1              0   \n",
       "8  ...               0                 1                0              0   \n",
       "9  ...               0                 0                1              1   \n",
       "\n",
       "   device_protection  tech_support  streaming_tv  streaming_movies  \\\n",
       "0                  0             0             0                 0   \n",
       "1                  1             0             0                 0   \n",
       "2                  0             0             0                 0   \n",
       "3                  1             1             0                 0   \n",
       "4                  0             0             0                 0   \n",
       "5                  1             0             1                 1   \n",
       "6                  0             0             1                 0   \n",
       "7                  0             0             0                 0   \n",
       "8                  1             1             1                 1   \n",
       "9                  0             0             0                 0   \n",
       "\n",
       "   has_phone_line  multiple_lines  \n",
       "0               0              -1  \n",
       "1               1               0  \n",
       "2               1               0  \n",
       "3               0              -1  \n",
       "4               1               0  \n",
       "5               1               1  \n",
       "6               1               1  \n",
       "7               0              -1  \n",
       "8               1               1  \n",
       "9               1               0  \n",
       "\n",
       "[10 rows x 25 columns]"
      ]
     },
     "execution_count": 72,
     "metadata": {},
     "output_type": "execute_result"
    }
   ],
   "source": [
    "all_info.head(10)"
   ]
  },
  {
   "cell_type": "markdown",
   "metadata": {},
   "source": [
    "# EDA (Exploratory Data Analysis) <a id = 6></a>"
   ]
  },
  {
   "cell_type": "markdown",
   "metadata": {},
   "source": [
    "It is important to figure out if the number of customers in the dataset who have left Interconnect is approximately equal to the number who have not left, or if class weight adjustment needs to be done."
   ]
  },
  {
   "cell_type": "code",
   "execution_count": 73,
   "metadata": {},
   "outputs": [
    {
     "data": {
      "image/png": "[encoded data removed]",
      "text/plain": [
       "<Figure size 576x576 with 1 Axes>"
      ]
     },
     "metadata": {},
     "output_type": "display_data"
    }
   ],
   "source": [
    "target_sizes = [len(all_info[all_info['left_interconnect'] == 1]) * 100, \n",
    "                len(all_info[all_info['left_interconnect'] == 0]) * 100]\n",
    "\n",
    "target_labels = ['Left', 'Stayed']\n",
    "\n",
    "plt.figure(figsize = (8, 8))\n",
    "\n",
    "plt.pie(target_sizes, labels = target_labels, autopct = lambda p:'{:.0f}%'.format(round(p)))\n",
    "plt.axis('equal')\n",
    "\n",
    "plt.title('Pie Chart of the Percentage of Customers Who Have Left Interconnect vs the Percentage Who Have Stayed')\n",
    "plt.show()"
   ]
  },
  {
   "cell_type": "markdown",
   "metadata": {},
   "source": [
    "There is indeed an imbalance, as there are far more customers who have stayed with Interconnect (73%) than customers who have left (27%). I won't do anything about this yet, but later when I begin building machine learning models I will experiment with upsampling and, if needed, downsampling as well. "
   ]
  },
  {
   "cell_type": "markdown",
   "metadata": {},
   "source": [
    "Now I am interested in exploring if there is any correlation between how much customers are charged on a monthly basis and how long they stayed with Interconnect. It is a good idea to look at the correlation values of those who have left separately from the values of those who have stayed."
   ]
  },
  {
   "cell_type": "code",
   "execution_count": 74,
   "metadata": {},
   "outputs": [],
   "source": [
    "all_info_left = all_info[all_info['left_interconnect'] == 1].copy()\n",
    "all_info_stayed = all_info[all_info['left_interconnect'] == 0].copy()"
   ]
  },
  {
   "cell_type": "code",
   "execution_count": 75,
   "metadata": {},
   "outputs": [
    {
     "name": "stdout",
     "output_type": "stream",
     "text": [
      "Regarding customers who have left Interconnect, the correlation between their\n",
      "monthly fee and the number of months they stayed with Interconnect is: 0.4\n",
      "\n",
      "Furthermore, the correlation between their average monthly fines\n",
      "and the number of months they stayed with Interconnect is: 0.01\n"
     ]
    }
   ],
   "source": [
    "print('Regarding customers who have left Interconnect, the correlation between their')\n",
    "print('monthly fee and the number of months they stayed with Interconnect is:', \n",
    "      round(all_info_left['monthly_fee'].corr(all_info_left['duration_months']), 2))\n",
    "\n",
    "print()\n",
    "\n",
    "print('Furthermore, the correlation between their average monthly fines')\n",
    "print('and the number of months they stayed with Interconnect is:',\n",
    "      round(all_info_left['monthly_fines_avg'].corr(all_info_left['duration_months']), 2))"
   ]
  },
  {
   "cell_type": "markdown",
   "metadata": {},
   "source": [
    "Fascinating! When it comes to customers who have left Interconnect, I would have thought that there is a negative correlation between their monthly fees and how many months they stayed with Interconnect. Intuition tells me that the more a customer must pay each month, the fewer months they will stay with the company, yet, counterintuitvely, there is actually a weak to moderate <u>POSITIVE</u> correlation between these variables. \n",
    "\n",
    "Furthermore, for the same reason, I would have expected there to be a negative correlation between their average monthly fines and how many months they stayed with Interconnect, however there is actually absolutely no correlation between these variables.\n",
    "\n",
    "The above correlation values lead me to think that the reasons why some customers leave Interconnect have little to do with the monthly costs. Maybe instead there is something about the perceived quality of Interconnect's services that make some customers leave."
   ]
  },
  {
   "cell_type": "code",
   "execution_count": 76,
   "metadata": {},
   "outputs": [
    {
     "name": "stdout",
     "output_type": "stream",
     "text": [
      "Regarding customers who have stayed with Interconnect, the correlation between\n",
      "their monthly fee and the number of months they stayed with Interconnect is: 0.33\n",
      "\n",
      "Furthermore, the correlation between their average monthly fines\n",
      "and the number of months they stayed with Interconnect is: -0.39\n"
     ]
    }
   ],
   "source": [
    "print('Regarding customers who have stayed with Interconnect, the correlation between')\n",
    "print('their monthly fee and the number of months they stayed with Interconnect is:', \n",
    "      round(all_info_stayed['monthly_fee'].corr(all_info_stayed['duration_months']), 2))\n",
    "\n",
    "print()\n",
    "\n",
    "print('Furthermore, the correlation between their average monthly fines')\n",
    "print('and the number of months they stayed with Interconnect is:',\n",
    "      round(all_info_stayed['monthly_fines_avg'].corr(all_info_stayed['duration_months']), 2))"
   ]
  },
  {
   "cell_type": "markdown",
   "metadata": {},
   "source": [
    "I am intrigued by the negative correlation between average monthly fines and number of months stayed with Interconnect among customers who continue to use Interconnect's services. It appears that the longer these customers stay with Interconnect, the less they pay in fines each month. On the one hand, this interpretation makes sense because customers with more experience are less likely to go over their package limits. On the other hand, this interpretation should be taken with a grain of salt because the correlation is at best moderate, and might more accurately be described as \"weak\"."
   ]
  },
  {
   "cell_type": "markdown",
   "metadata": {},
   "source": [
    "Regarding customers who have left Interconnect, do they tend to leave quickly or do they tend to leave after a relatively long amount of time?"
   ]
  },
  {
   "cell_type": "code",
   "execution_count": 77,
   "metadata": {},
   "outputs": [
    {
     "data": {
      "text/plain": [
       "count    1869.000000\n",
       "mean       17.979133\n",
       "std        19.531123\n",
       "min         1.000000\n",
       "25%         2.000000\n",
       "50%        10.000000\n",
       "75%        29.000000\n",
       "max        72.000000\n",
       "Name: duration_months, dtype: float64"
      ]
     },
     "execution_count": 77,
     "metadata": {},
     "output_type": "execute_result"
    }
   ],
   "source": [
    "all_info[all_info['left_interconnect'] == 1]['duration_months'].describe()"
   ]
  },
  {
   "cell_type": "code",
   "execution_count": 78,
   "metadata": {},
   "outputs": [
    {
     "data": {
      "text/plain": [
       "count    5163.00000\n",
       "mean       36.65001\n",
       "std        24.07694\n",
       "min         0.00000\n",
       "25%        14.00000\n",
       "50%        37.00000\n",
       "75%        60.00000\n",
       "max        71.00000\n",
       "Name: duration_months, dtype: float64"
      ]
     },
     "execution_count": 78,
     "metadata": {},
     "output_type": "execute_result"
    }
   ],
   "source": [
    "all_info[all_info['left_interconnect'] == 0]['duration_months'].describe()"
   ]
  },
  {
   "cell_type": "markdown",
   "metadata": {},
   "source": [
    "It turns out that those who leave Interconnect do tend to do so relatively quickly. The median **duration_months** value of those who left Interconnect is 10, which implies that more than half of those who left Interconnect were customers for less than one year (12 months). \n",
    "\n",
    "In contrast, the first quartile **duration_months** value of those who are still Interconnect customers is 14, meaning more than 75% of Interconnect's continuing customers have been with the company for over one year (12 months).\n",
    "\n",
    "In the next lines I plot a relative frequency bar graph that shows the distribution of **duration_months** values for both those who have left and those who have not. The graph would be too \"squished\" if I included every **duration_months** value on the x-axis, so I will put the **duration_months** values into groups of 6."
   ]
  },
  {
   "cell_type": "code",
   "execution_count": 79,
   "metadata": {},
   "outputs": [],
   "source": [
    "duration_left = pd.DataFrame()\n",
    "duration_left = all_info[all_info['left_interconnect'] == 1]['duration_months']\n",
    "duration_left = duration_left.reset_index(drop = True)\n",
    "\n",
    "duration_left_rf_values = [len(duration_left[(duration_left >= 1) & (duration_left <= 6)]),\n",
    "                           len(duration_left[(duration_left >= 7) & (duration_left <= 12)]),\n",
    "                           len(duration_left[(duration_left >= 13) & (duration_left <= 18)]),\n",
    "                           len(duration_left[(duration_left >= 19) & (duration_left <= 24)]),\n",
    "                           len(duration_left[(duration_left >= 25) & (duration_left <= 30)]),\n",
    "                           len(duration_left[(duration_left >= 31) & (duration_left <= 36)]),\n",
    "                           len(duration_left[(duration_left >= 37) & (duration_left <= 42)]),\n",
    "                           len(duration_left[(duration_left >= 43) & (duration_left <= 48)]),\n",
    "                           len(duration_left[(duration_left >= 49) & (duration_left <= 54)]),\n",
    "                           len(duration_left[(duration_left >= 55) & (duration_left <= 60)]),\n",
    "                           len(duration_left[(duration_left >= 61) & (duration_left <= 66)]),\n",
    "                           len(duration_left[(duration_left >= 67) & (duration_left <= 72)])]\n",
    "\n",
    "duration_left_rf_values = [value / len(duration_left) for value in duration_left_rf_values]"
   ]
  },
  {
   "cell_type": "code",
   "execution_count": 80,
   "metadata": {},
   "outputs": [],
   "source": [
    "duration_stayed = pd.DataFrame()\n",
    "duration_stayed = all_info[all_info['left_interconnect'] == 0]['duration_months']\n",
    "duration_stayed = duration_stayed.reset_index(drop = True)\n",
    "\n",
    "duration_stayed_rf_values = [len(duration_stayed[(duration_stayed >= 1) & (duration_stayed <= 6)]),\n",
    "                             len(duration_stayed[(duration_stayed >= 7) & (duration_stayed <= 12)]),\n",
    "                             len(duration_stayed[(duration_stayed >= 13) & (duration_stayed <= 18)]),\n",
    "                             len(duration_stayed[(duration_stayed >= 19) & (duration_stayed <= 24)]),\n",
    "                             len(duration_stayed[(duration_stayed >= 25) & (duration_stayed <= 30)]),\n",
    "                             len(duration_stayed[(duration_stayed >= 31) & (duration_stayed <= 36)]),\n",
    "                             len(duration_stayed[(duration_stayed >= 37) & (duration_stayed <= 42)]),\n",
    "                             len(duration_stayed[(duration_stayed >= 43) & (duration_stayed <= 48)]),\n",
    "                             len(duration_stayed[(duration_stayed >= 49) & (duration_stayed <= 54)]),\n",
    "                             len(duration_stayed[(duration_stayed >= 55) & (duration_stayed <= 60)]),\n",
    "                             len(duration_stayed[(duration_stayed >= 61) & (duration_stayed <= 66)]),\n",
    "                             len(duration_stayed[(duration_stayed >= 67) & (duration_stayed <= 72)])]\n",
    "\n",
    "duration_stayed_rf_values = [value / len(duration_left) for value in duration_stayed_rf_values]"
   ]
  },
  {
   "cell_type": "code",
   "execution_count": 81,
   "metadata": {},
   "outputs": [],
   "source": [
    "duration_left_rf_series = pd.Series(duration_left_rf_values)\n",
    "duration_stayed_rf_series = pd.Series(duration_stayed_rf_values)\n",
    "\n",
    "duration_rf_series_merged = pd.concat([duration_left_rf_series, duration_stayed_rf_series], axis = 'columns')\n",
    "duration_rf_series_merged.columns = ['duration_left_rf', 'duration_stayed_rf']"
   ]
  },
  {
   "cell_type": "code",
   "execution_count": 82,
   "metadata": {},
   "outputs": [
    {
     "data": {
      "image/png": "[encoded data removed]",
      "text/plain": [
       "<Figure size 1080x648 with 1 Axes>"
      ]
     },
     "metadata": {
      "needs_background": "light"
     },
     "output_type": "display_data"
    }
   ],
   "source": [
    "duration_rf_series_merged.plot(kind = 'bar', figsize = (15, 9), xlabel = 'Duration of Interconnect Membership (In Months)',\n",
    "                title = 'Bar Graph of the Relative Frequencies of the Durations of Interconnect Memberships (In Months)',\n",
    "                ylabel = 'Relative Frequency', y = ['duration_left_rf', 'duration_stayed_rf'])\n",
    "\n",
    "plt.grid(axis = 'y', color = 'gray')\n",
    "plt.legend(['Left', 'Stayed'], bbox_to_anchor = (1.1, 1.0), loc = 'upper right')\n",
    "\n",
    "xticks_positions = np.arange(12)\n",
    "xticks_labels = ['1–6', '7–12', '13–18', '19–24', '25–30', '31–36', '37–42', '43–48', '49–54', '55–60', '61–66', '67–72']\n",
    "plt.xticks(xticks_positions, xticks_labels, rotation = 0)\n",
    "\n",
    "plt.yticks(np.arange(0, 0.5, step = 0.05))\n",
    "plt.show()"
   ]
  },
  {
   "cell_type": "markdown",
   "metadata": {},
   "source": [
    "As expected, the distribution of the durations of the memberships of the customers who have left starts high then decreases dramatically."
   ]
  },
  {
   "cell_type": "markdown",
   "metadata": {},
   "source": [
    "I wonder what percentage of Interconnect customers use each **contract_type**?"
   ]
  },
  {
   "cell_type": "code",
   "execution_count": 83,
   "metadata": {},
   "outputs": [
    {
     "data": {
      "image/png": "[encoded data removed]",
      "text/plain": [
       "<Figure size 576x576 with 1 Axes>"
      ]
     },
     "metadata": {},
     "output_type": "display_data"
    }
   ],
   "source": [
    "contract_type_sizes = [len(all_info[all_info['contract_type'] == 0]) * 100, \n",
    "                       len(all_info[all_info['contract_type'] == 1]) * 100,\n",
    "                       len(all_info[all_info['contract_type'] == 2]) * 100,]\n",
    "\n",
    "contract_type_labels = ['Month-to-Month', 'One Year', 'Two Year']\n",
    "\n",
    "plt.figure(figsize = (8, 8))\n",
    "\n",
    "plt.pie(contract_type_sizes, labels = contract_type_labels, autopct = lambda p:'{:.0f}%'.format(round(p)), startangle = 90)\n",
    "plt.axis('equal')\n",
    "\n",
    "plt.title('Pie Chart of the Percentage of Interconnect Customers Who Use Each Contract Type')\n",
    "plt.show()"
   ]
  },
  {
   "cell_type": "markdown",
   "metadata": {},
   "source": [
    "**Month-to-month** contracts are, hands down, the most popular contract type chosen by Interconnect customers, with over 50% of them choosing this option. Interestingly, **one-year** and **two-year** contracts are approximately equally common.\n",
    "\n",
    "I wonder if customers with **month-to-month** contracts are the most likely to leave. I suspect that this is true because this contract type is, by far, the shortest in length and hence the easiest one to not renew. A relative frequency bar graph is appropriate for this investigation."
   ]
  },
  {
   "cell_type": "code",
   "execution_count": 84,
   "metadata": {},
   "outputs": [],
   "source": [
    "contract_type_left = pd.DataFrame()\n",
    "contract_type_left = all_info[all_info['left_interconnect'] == 1]['contract_type']\n",
    "contract_type_left = contract_type_left.reset_index(drop = True)\n",
    "\n",
    "contract_type_left_rf_values = [len(contract_type_left[contract_type_left == 0]), \n",
    "                                len(contract_type_left[contract_type_left == 1]),\n",
    "                                len(contract_type_left[contract_type_left == 2])]\n",
    "\n",
    "contract_type_left_rf_values = [value / len(contract_type_left) for value in contract_type_left_rf_values]"
   ]
  },
  {
   "cell_type": "code",
   "execution_count": 85,
   "metadata": {},
   "outputs": [],
   "source": [
    "contract_type_stayed = pd.DataFrame()\n",
    "contract_type_stayed = all_info[all_info['left_interconnect'] == 0]['contract_type']\n",
    "contract_type_stayed = contract_type_stayed.reset_index(drop = True)\n",
    "\n",
    "contract_type_stayed_rf_values = [len(contract_type_stayed[contract_type_stayed == 0]), \n",
    "                                  len(contract_type_stayed[contract_type_stayed == 1]),\n",
    "                                  len(contract_type_stayed[contract_type_stayed == 2])]\n",
    "\n",
    "contract_type_stayed_rf_values = [value / len(contract_type_stayed) for value in contract_type_stayed_rf_values]"
   ]
  },
  {
   "cell_type": "code",
   "execution_count": 86,
   "metadata": {},
   "outputs": [],
   "source": [
    "contract_type_left_rf_series = pd.Series(contract_type_left_rf_values)\n",
    "contract_type_stayed_rf_series = pd.Series(contract_type_stayed_rf_values)\n",
    "\n",
    "contract_type_rf_series_merged = pd.concat([contract_type_left_rf_series, contract_type_stayed_rf_series], axis = 'columns')\n",
    "contract_type_rf_series_merged.columns = ['contract_type_left_rf', 'contract_type_stayed_rf']"
   ]
  },
  {
   "cell_type": "code",
   "execution_count": 87,
   "metadata": {},
   "outputs": [
    {
     "data": {
      "image/png": "[encoded data removed]",
      "text/plain": [
       "<Figure size 1080x648 with 1 Axes>"
      ]
     },
     "metadata": {
      "needs_background": "light"
     },
     "output_type": "display_data"
    }
   ],
   "source": [
    "contract_type_rf_series_merged.plot(kind = 'bar', figsize = (15, 9), xlabel = 'Contract Type',\n",
    "            title = 'Bar Graph of the Relative Frequencies of the Contract Types of Interconnect Memberships',\n",
    "            ylabel = 'Relative Frequency', y = ['contract_type_left_rf', 'contract_type_stayed_rf'])\n",
    "\n",
    "plt.grid(axis = 'y', color = 'gray')\n",
    "plt.legend(['Left', 'Stayed'], bbox_to_anchor = (1.1, 1.0), loc = 'upper right')\n",
    "\n",
    "xticks_positions = np.arange(3)\n",
    "xticks_labels = ['Month-to-Month', 'One Year', 'Two Year']\n",
    "plt.xticks(xticks_positions, xticks_labels, rotation = 0)\n",
    "\n",
    "plt.yticks(np.arange(0, 1, step = 0.1))\n",
    "plt.show()"
   ]
  },
  {
   "cell_type": "markdown",
   "metadata": {},
   "source": [
    "Wow! Indeed, customers with **month-to-month** contracts are the most likely to leave, as evidenced by how nearly 90% of Interconnect customers who have left had a **month-to-month** contract. \n",
    "\n",
    "This is a very useful find for Interconnect stakeholders, as it gives a major insight about customers who leave. Perhaps Interconnect should stop offering month-to-month contracts as a way to reduce the number of customers who leave, or at the very least keep them around for longer. Maybe month-to-month contracts should be replaced with six-month contracts."
   ]
  },
  {
   "cell_type": "markdown",
   "metadata": {},
   "source": [
    "Now I wonder what percentage of Interconnect customers use each **payment_method**?"
   ]
  },
  {
   "cell_type": "code",
   "execution_count": 88,
   "metadata": {},
   "outputs": [
    {
     "data": {
      "image/png": "[encoded data removed]",
      "text/plain": [
       "<Figure size 576x576 with 1 Axes>"
      ]
     },
     "metadata": {},
     "output_type": "display_data"
    }
   ],
   "source": [
    "payment_method_sizes = [len(all_info[all_info['payment_method'] == 0]) * 100, \n",
    "                        len(all_info[all_info['payment_method'] == 1]) * 100,\n",
    "                        len(all_info[all_info['payment_method'] == 2]) * 100,\n",
    "                        len(all_info[all_info['payment_method'] == 3]) * 100]\n",
    "\n",
    "payment_method_labels = ['Bank Transfer (Automatic)', 'Credit Card (Automatic)', 'Electronic Check', 'Mailed Check']\n",
    "\n",
    "plt.figure(figsize = (8, 8))\n",
    "\n",
    "plt.pie(payment_method_sizes, labels = payment_method_labels, autopct = lambda p:'{:.0f}%'.format(round(p)))\n",
    "plt.axis('equal')\n",
    "\n",
    "plt.title('Pie Chart of the Percentage of Interconnect Customers Who Use Each Payment Method')\n",
    "plt.show()"
   ]
  },
  {
   "cell_type": "markdown",
   "metadata": {},
   "source": [
    "Interesting! **Electronic check** is the most common payment method, being used by about 1/3 of Interconnect customers. Furthermore, the remaining three methods are approximately equally common.\n",
    "\n",
    "I wonder if certain payment methods are more likely to correspond with customers leaving than others. In particular, I suspect that customers who pay with either an electronic check or a mailed check are more likely to leave than customers who use an automatic payment method. \n",
    "\n",
    "I suspect this might be true because customers who use a check are likely to be more cognizant of how much they are spending on Interconnect's services, and therefore might be more likely to leave.\n",
    "\n",
    "A relative frequency bar graph is appropriate for this investigation."
   ]
  },
  {
   "cell_type": "code",
   "execution_count": 89,
   "metadata": {},
   "outputs": [],
   "source": [
    "payment_method_left = pd.DataFrame()\n",
    "payment_method_left = all_info[all_info['left_interconnect'] == 1]['payment_method']\n",
    "payment_method_left = payment_method_left.reset_index(drop = True)\n",
    "\n",
    "payment_method_left_rf_values = [len(payment_method_left[payment_method_left == 0]), \n",
    "                                 len(payment_method_left[payment_method_left == 1]),\n",
    "                                 len(payment_method_left[payment_method_left == 2]),\n",
    "                                 len(payment_method_left[payment_method_left == 3])]\n",
    "\n",
    "payment_method_left_rf_values = [value / len(payment_method_left) for value in payment_method_left_rf_values]"
   ]
  },
  {
   "cell_type": "code",
   "execution_count": 90,
   "metadata": {},
   "outputs": [],
   "source": [
    "payment_method_stayed = pd.DataFrame()\n",
    "payment_method_stayed = all_info[all_info['left_interconnect'] == 0]['payment_method']\n",
    "payment_method_stayed = payment_method_stayed.reset_index(drop = True)\n",
    "\n",
    "payment_method_stayed_rf_values = [len(payment_method_stayed[payment_method_stayed == 0]), \n",
    "                                   len(payment_method_stayed[payment_method_stayed == 1]),\n",
    "                                   len(payment_method_stayed[payment_method_stayed == 2]),\n",
    "                                   len(payment_method_stayed[payment_method_stayed == 3])]\n",
    "\n",
    "payment_method_stayed_rf_values = [value / len(payment_method_stayed) for value in payment_method_stayed_rf_values]"
   ]
  },
  {
   "cell_type": "code",
   "execution_count": 91,
   "metadata": {},
   "outputs": [],
   "source": [
    "payment_method_left_rf_series = pd.Series(payment_method_left_rf_values)\n",
    "payment_method_stayed_rf_series = pd.Series(payment_method_stayed_rf_values)\n",
    "\n",
    "payment_method_rf_series_merged = pd.concat([payment_method_left_rf_series, payment_method_stayed_rf_series], \n",
    "                                            axis = 'columns')\n",
    "\n",
    "payment_method_rf_series_merged.columns = ['payment_method_left_rf', 'payment_method_stayed_rf']"
   ]
  },
  {
   "cell_type": "code",
   "execution_count": 92,
   "metadata": {},
   "outputs": [
    {
     "data": {
      "image/png": "[encoded data removed]",
      "text/plain": [
       "<Figure size 1080x648 with 1 Axes>"
      ]
     },
     "metadata": {
      "needs_background": "light"
     },
     "output_type": "display_data"
    }
   ],
   "source": [
    "payment_method_rf_series_merged.plot(kind = 'bar', figsize = (15, 9), xlabel = 'Payment Method',\n",
    "            title = 'Bar Graph of the Relative Frequencies of the Payment Methods of Interconnect Customers',\n",
    "            ylabel = 'Relative Frequency', y = ['payment_method_left_rf', 'payment_method_stayed_rf'])\n",
    "\n",
    "plt.grid(axis = 'y', color = 'gray')\n",
    "plt.legend(['Left', 'Stayed'], bbox_to_anchor = (1.1, 1.0), loc = 'upper right')\n",
    "\n",
    "xticks_positions = np.arange(4)\n",
    "xticks_labels = ['Bank Transfer (Automatic)', 'Credit Card (Automatic)', 'Electronic Check', 'Mailed Check']\n",
    "plt.xticks(xticks_positions, xticks_labels, rotation = 0)\n",
    "\n",
    "plt.yticks(np.arange(0, 0.65, step = 0.05))\n",
    "plt.show()"
   ]
  },
  {
   "cell_type": "markdown",
   "metadata": {},
   "source": [
    "Fascinating! I suspected that customers who paid with a check were more likely to leave than customers who paid using an automatic method, and this appears to be true for customers who paid using an electronic check but not true for customers who paid using a mailed check.\n",
    "\n",
    "Furthermore, recall that in the pie chart of all customers (both those who have left and those who have stayed) 34% of them paid using an electronic check, which is the most common method, and yet when looking at only the customers who have stayed, all four payment methods are virtually equally common. Hence, the 34% turns out to be caused by the disproportionately high number of customers who left who used this payment method (>55% of them).\n",
    "\n",
    "Honestly, I can't think of a reason why the electronic check method is so disproportionately prevalent among those who have left, but this is an intriguing observation nevertheless."
   ]
  },
  {
   "cell_type": "markdown",
   "metadata": {},
   "source": [
    "I wonder if there is any relationship between the type of internet service a customer has, if any, and how likely they are to stay. This is yet another investigation where making a relative frequency bar graph is appropriate."
   ]
  },
  {
   "cell_type": "code",
   "execution_count": 93,
   "metadata": {},
   "outputs": [],
   "source": [
    "internet_usage_left = pd.DataFrame()\n",
    "internet_usage_left = all_info[all_info['left_interconnect'] == 1]['internet_service']\n",
    "internet_usage_left = internet_usage_left.reset_index(drop = True)\n",
    "\n",
    "internet_usage_left_rf_values = [len(internet_usage_left[internet_usage_left == -1]), \n",
    "                                 len(internet_usage_left[internet_usage_left == 0]),\n",
    "                                 len(internet_usage_left[internet_usage_left == 1])]\n",
    "\n",
    "internet_usage_left_rf_values = [value / len(internet_usage_left) for value in internet_usage_left_rf_values]"
   ]
  },
  {
   "cell_type": "code",
   "execution_count": 94,
   "metadata": {},
   "outputs": [],
   "source": [
    "internet_usage_stayed = pd.DataFrame()\n",
    "internet_usage_stayed = all_info[all_info['left_interconnect'] == 0]['internet_service']\n",
    "internet_usage_stayed = internet_usage_stayed.reset_index(drop = True)\n",
    "\n",
    "internet_usage_stayed_rf_values = [len(internet_usage_stayed[internet_usage_stayed == -1]), \n",
    "                                   len(internet_usage_stayed[internet_usage_stayed == 0]),\n",
    "                                   len(internet_usage_stayed[internet_usage_stayed == 1])]\n",
    "\n",
    "internet_usage_stayed_rf_values = [value / len(internet_usage_stayed) for value in internet_usage_stayed_rf_values]"
   ]
  },
  {
   "cell_type": "code",
   "execution_count": 95,
   "metadata": {},
   "outputs": [],
   "source": [
    "internet_usage_left_rf_series = pd.Series(internet_usage_left_rf_values)\n",
    "internet_usage_stayed_rf_series = pd.Series(internet_usage_stayed_rf_values)\n",
    "\n",
    "internet_usage_rf_series_merged = pd.concat([internet_usage_left_rf_series, internet_usage_stayed_rf_series], \n",
    "                                            axis = 'columns')\n",
    "\n",
    "internet_usage_rf_series_merged.columns = ['internet_usage_left_rf', 'internet_usage_stayed_rf']"
   ]
  },
  {
   "cell_type": "code",
   "execution_count": 96,
   "metadata": {},
   "outputs": [
    {
     "data": {
      "image/png": "[encoded data removed]",
      "text/plain": [
       "<Figure size 1080x648 with 1 Axes>"
      ]
     },
     "metadata": {
      "needs_background": "light"
     },
     "output_type": "display_data"
    }
   ],
   "source": [
    "internet_usage_rf_series_merged.plot(kind = 'bar', figsize = (15, 9), xlabel = 'Internet Service',\n",
    "            title = 'Bar Graph of the Relative Frequencies of the Internet Service Used By Interconnect Customers',\n",
    "            ylabel = 'Relative Frequency', y = ['internet_usage_left_rf', 'internet_usage_stayed_rf'])\n",
    "\n",
    "plt.grid(axis = 'y', color = 'gray')\n",
    "plt.legend(['Left', 'Stayed'], bbox_to_anchor = (1.1, 1.0), loc = 'upper right')\n",
    "\n",
    "xticks_positions = np.arange(3)\n",
    "xticks_labels = ['None', 'DSL', 'Fiber Optic']\n",
    "plt.xticks(xticks_positions, xticks_labels, rotation = 0)\n",
    "\n",
    "plt.yticks(np.arange(0, 0.75, step = 0.05))\n",
    "plt.show()"
   ]
  },
  {
   "cell_type": "markdown",
   "metadata": {},
   "source": [
    "Wow! Nearly 70% of customers who left Interconnect used the **fiber optic** internet service. I doubt this is due to random chance, rather I suspect that these customers were dissatisfied by the quality of the **fiber optic** internet service. A common complaint from people who were dissatisfied by their internet service is that they perceived their internet speed as being too slow. I encourage Interconnect stakeholders to conduct a survey to help them find out if this is the reason why some people left Interconnect, and/or if there are other reasons that pertain to Interconnect's internet services."
   ]
  },
  {
   "cell_type": "markdown",
   "metadata": {},
   "source": [
    "What about Interconnect's phone services? Do customers with one particular phone service leave more often than those with another phone service?"
   ]
  },
  {
   "cell_type": "code",
   "execution_count": 97,
   "metadata": {},
   "outputs": [],
   "source": [
    "phone_lines_left = pd.DataFrame()\n",
    "phone_lines_left = all_info[all_info['left_interconnect'] == 1]['multiple_lines']\n",
    "phone_lines_left = phone_lines_left.reset_index(drop = True)\n",
    "\n",
    "phone_lines_left_rf_values = [len(phone_lines_left[phone_lines_left == -1]), \n",
    "                              len(phone_lines_left[phone_lines_left == 0]),\n",
    "                              len(phone_lines_left[phone_lines_left == 1])]\n",
    "\n",
    "phone_lines_left_rf_values = [value / len(phone_lines_left) for value in phone_lines_left_rf_values]"
   ]
  },
  {
   "cell_type": "code",
   "execution_count": 98,
   "metadata": {},
   "outputs": [],
   "source": [
    "phone_lines_stayed = pd.DataFrame()\n",
    "phone_lines_stayed = all_info[all_info['left_interconnect'] == 0]['multiple_lines']\n",
    "phone_lines_stayed = phone_lines_stayed.reset_index(drop = True)\n",
    "\n",
    "phone_lines_stayed_rf_values = [len(phone_lines_stayed[phone_lines_stayed == -1]), \n",
    "                                len(phone_lines_stayed[phone_lines_stayed == 0]),\n",
    "                                len(phone_lines_stayed[phone_lines_stayed == 1])]\n",
    "\n",
    "phone_lines_stayed_rf_values = [value / len(phone_lines_stayed) for value in phone_lines_stayed_rf_values]"
   ]
  },
  {
   "cell_type": "code",
   "execution_count": 99,
   "metadata": {},
   "outputs": [],
   "source": [
    "phone_lines_left_rf_series = pd.Series(phone_lines_left_rf_values)\n",
    "phone_lines_stayed_rf_series = pd.Series(phone_lines_stayed_rf_values)\n",
    "\n",
    "phone_lines_rf_series_merged = pd.concat([phone_lines_left_rf_series, phone_lines_stayed_rf_series], axis = 'columns')\n",
    "\n",
    "phone_lines_rf_series_merged.columns = ['phone_lines_left_rf', 'phone_lines_stayed_rf']"
   ]
  },
  {
   "cell_type": "code",
   "execution_count": 100,
   "metadata": {},
   "outputs": [
    {
     "data": {
      "image/png": "[encoded data removed]",
      "text/plain": [
       "<Figure size 1080x648 with 1 Axes>"
      ]
     },
     "metadata": {
      "needs_background": "light"
     },
     "output_type": "display_data"
    }
   ],
   "source": [
    "phone_lines_rf_series_merged.plot(kind = 'bar', figsize = (15, 9), xlabel = 'Number of Phone Lines',\n",
    "            title = 'Bar Graph of the Relative Frequencies of the Number of Phone Lines Used By Interconnect Customers',\n",
    "            ylabel = 'Relative Frequency', y = ['phone_lines_left_rf', 'phone_lines_stayed_rf'])\n",
    "\n",
    "plt.grid(axis = 'y', color = 'gray')\n",
    "plt.legend(['Left', 'Stayed'], bbox_to_anchor = (1.1, 1.0), loc = 'upper right')\n",
    "\n",
    "xticks_positions = np.arange(3)\n",
    "xticks_labels = ['Zero', 'One', 'Multiple']\n",
    "plt.xticks(xticks_positions, xticks_labels, rotation = 0)\n",
    "\n",
    "plt.yticks(np.arange(0, 0.55, step = 0.05))\n",
    "plt.show()"
   ]
  },
  {
   "cell_type": "markdown",
   "metadata": {},
   "source": [
    "Regarding customers who left Interconnect, about 45% of them had one phone line and about 45% had multiple. Unfortunately, this graph does not give me any insights. I already knew that the majority of both former and current customers have at least one phone line, and there is no evidence that the number of phone lines is predictive of whether or not a customer will leave Interconnect. "
   ]
  },
  {
   "cell_type": "markdown",
   "metadata": {},
   "source": [
    "There is one last variable relationship I wish to explore: Does having a partner and/or dependents make a person more likely to stay with Interconnect? The answer might be \"yes\" because one can argue that a customer would want to keep their membership in order to provide for their partner and/or dependents. However, the answer might be \"no\" because the more people there are on a plan, the less affordable the plan is. \n",
    "\n",
    "Let's make one last relative frequency bar graph."
   ]
  },
  {
   "cell_type": "code",
   "execution_count": 101,
   "metadata": {},
   "outputs": [],
   "source": [
    "partner_dependents_left = pd.DataFrame()\n",
    "partner_dependents_left = all_info[all_info['left_interconnect'] == 1][['dependents', 'partner']]\n",
    "partner_dependents_left = partner_dependents_left.reset_index(drop = True)\n",
    "\n",
    "partner_dependents_left_rf_values = [len(partner_dependents_left[(partner_dependents_left['dependents'] == 1) \n",
    "                                                                 & (partner_dependents_left['partner'] == 1)]),\n",
    "                                     \n",
    "                                     len(partner_dependents_left[(partner_dependents_left['dependents'] == 1) \n",
    "                                                                 & (partner_dependents_left['partner'] == 0)]),\n",
    "                                     \n",
    "                                     len(partner_dependents_left[(partner_dependents_left['dependents'] == 0) \n",
    "                                                                 & (partner_dependents_left['partner'] == 1)]), \n",
    "                                     \n",
    "                                     len(partner_dependents_left[(partner_dependents_left['dependents'] == 0) \n",
    "                                                                 & (partner_dependents_left['partner'] == 0)])] \n",
    "\n",
    "\n",
    "partner_dependents_left_rf_values = [value / len(partner_dependents_left) for value in partner_dependents_left_rf_values]"
   ]
  },
  {
   "cell_type": "code",
   "execution_count": 102,
   "metadata": {},
   "outputs": [],
   "source": [
    "partner_dependents_stayed = pd.DataFrame()\n",
    "partner_dependents_stayed = all_info[all_info['left_interconnect'] == 0][['dependents', 'partner']]\n",
    "partner_dependents_stayed = partner_dependents_stayed.reset_index(drop = True)\n",
    "\n",
    "partner_dependents_stayed_rf_values = [len(partner_dependents_stayed[(partner_dependents_stayed['dependents'] == 1) \n",
    "                                                                     & (partner_dependents_stayed['partner'] == 1)]),\n",
    "                                     \n",
    "                                       len(partner_dependents_stayed[(partner_dependents_stayed['dependents'] == 1) \n",
    "                                                                 & (partner_dependents_stayed['partner'] == 0)]),\n",
    "                                     \n",
    "                                       len(partner_dependents_stayed[(partner_dependents_stayed['dependents'] == 0) \n",
    "                                                                 & (partner_dependents_stayed['partner'] == 1)]), \n",
    "                                     \n",
    "                                       len(partner_dependents_stayed[(partner_dependents_stayed['dependents'] == 0) \n",
    "                                                                 & (partner_dependents_stayed['partner'] == 0)])] \n",
    "\n",
    "\n",
    "partner_dependents_stayed_rf_values = [num / len(partner_dependents_stayed) for num in partner_dependents_stayed_rf_values]"
   ]
  },
  {
   "cell_type": "code",
   "execution_count": 103,
   "metadata": {},
   "outputs": [],
   "source": [
    "partner_dependents_left_rf_series = pd.Series(partner_dependents_left_rf_values)\n",
    "partner_dependents_stayed_rf_series = pd.Series(partner_dependents_stayed_rf_values)\n",
    "\n",
    "partner_dependents_rf_series_merged = pd.concat([partner_dependents_left_rf_series, partner_dependents_stayed_rf_series], \n",
    "                                                axis = 'columns')\n",
    "\n",
    "partner_dependents_rf_series_merged.columns = ['partner_dependents_left_rf', 'partner_dependents_stayed_rf']"
   ]
  },
  {
   "cell_type": "code",
   "execution_count": 104,
   "metadata": {},
   "outputs": [
    {
     "data": {
      "image/png": "[encoded data removed]",
      "text/plain": [
       "<Figure size 1080x648 with 1 Axes>"
      ]
     },
     "metadata": {
      "needs_background": "light"
     },
     "output_type": "display_data"
    }
   ],
   "source": [
    "partner_dependents_rf_series_merged.plot(kind = 'bar', figsize = (15, 9), xlabel = 'Dependents & Partner Status',\n",
    "            title = 'Bar Graph of the Relative Frequencies of Interconnect Customers By Dependents and Partner',\n",
    "            ylabel = 'Relative Frequency', y = ['partner_dependents_left_rf', 'partner_dependents_stayed_rf'])\n",
    "\n",
    "plt.grid(axis = 'y', color = 'gray')\n",
    "plt.legend(['Left', 'Stayed'], bbox_to_anchor = (1.1, 1.0), loc = 'upper right')\n",
    "\n",
    "xticks_positions = np.arange(4)\n",
    "xticks_labels = ['Has Dependents & Partner', 'Has Dependents & No Partner', \n",
    "                 'No Dependents & Has Partner', 'No Dependents & No Partner']\n",
    "\n",
    "plt.xticks(xticks_positions, xticks_labels, rotation = 0)\n",
    "\n",
    "plt.yticks(np.arange(0, 0.65, step = 0.05))\n",
    "plt.show()"
   ]
  },
  {
   "cell_type": "markdown",
   "metadata": {},
   "source": [
    "Regarding customers who have left Interconnect, about 60% of them have no dependent and no partner. This makes a lot of sense, because if a person was dissatisfied by the services of a company they were a member of to the point they wanted to switch to a different company, then it'd be much easier to do so if they were on their own than if they had anyone else in their household.\n",
    "\n",
    "In contrast, less than 15% of customers who have left Interconnect have dependents and a partner. Furthermore, of the customers who are still with Interconnect, more than 25% of them belong to this category. I perceive this as evidence that supports my hunch that customers with dependents and a partner would be hesitant to leave their Interconnect membership because it is not convenient to make a switch when multiple people would be affected by it."
   ]
  },
  {
   "cell_type": "markdown",
   "metadata": {},
   "source": [
    "# Work Plan and Questions <a id = 7></a>"
   ]
  },
  {
   "cell_type": "markdown",
   "metadata": {},
   "source": [
    "Now that I have done data preprocessing, features engineering, and EDA, I am ready to write my work plan: \n",
    "\n",
    "(1) Get answers to the questions I have (see below) in order to find out if I need to do any more features engineering and/or EDA.\n",
    "\n",
    "(2) Use the majority of the columns in the **all_info** dataframe to build binary classification machine learning models, with the **left_interconnect** column being the target. I have been informed that boosting algorithms (e.g. CatBoost, LightGBM, XGB, etc.) are likely to be especially useful for this task.\n",
    "\n",
    "(3) Ideally, the AUC-ROC value of the model will be at least 0.85 (the closer to 1 the better). Hyperparameter tuning might help increase the AUC-ROC value.\n",
    "\n",
    "(4) Write a report to Interconnect stakeholders about my findings made throughout this project."
   ]
  },
  {
   "cell_type": "markdown",
   "metadata": {},
   "source": [
    "The following are my clarifying questions for my team leader:\n",
    "\n",
    "(I) Do you think I made the right call by dropping the information from the **internet_info** dataframe in **all_info**? Or is there a way for me to include that information without there being any ambiguity about which customers correspond to the information?\n",
    "\n",
    "(II) Is there any more features engineering you think I should do?\n",
    "\n",
    "(III) Is there any more EDA you think I should do? I wonder if there are any correlations and/or other relationships between the variables I should explore?\n",
    "\n",
    "(IV) Any advice on how to build a good machine learning model for this task (aside from \"use a boosting algorithm\")? I wonder if there are any particular hyperparameters that should be tuned in a specific way."
   ]
  },
  {
   "cell_type": "markdown",
   "metadata": {},
   "source": [
    "# Solution Code <a id = 8></a>"
   ]
  },
  {
   "cell_type": "markdown",
   "metadata": {},
   "source": [
    "**Training, Validation, and Test Sets** <a id = 8.1></a>"
   ]
  },
  {
   "cell_type": "markdown",
   "metadata": {},
   "source": [
    "I will use the following (commonly used) ratio for splitting the dataset into training, validation, and test sets: 60/20/20."
   ]
  },
  {
   "cell_type": "code",
   "execution_count": 105,
   "metadata": {},
   "outputs": [],
   "source": [
    "_, test_set = train_test_split(all_info, test_size = 0.2, random_state = 7, stratify = all_info['left_interconnect'])\n",
    "\n",
    "test_features = test_set.drop(['customer_id', 'left_interconnect', 'begin_date', 'end_date'], axis = 1)\n",
    "test_target = test_set['left_interconnect']"
   ]
  },
  {
   "cell_type": "code",
   "execution_count": 106,
   "metadata": {},
   "outputs": [],
   "source": [
    "all_info_not_test = all_info.drop(test_features.index)\n",
    "\n",
    "train_set, valid_set = train_test_split(all_info_not_test, test_size = 0.25, random_state = 7, \n",
    "                                        stratify = all_info_not_test['left_interconnect'])\n",
    "\n",
    "train_features = train_set.drop(['customer_id', 'left_interconnect', 'begin_date', 'end_date'], axis = 1)\n",
    "train_target = train_set['left_interconnect']\n",
    "\n",
    "valid_features = valid_set.drop(['customer_id', 'left_interconnect', 'begin_date', 'end_date'], axis = 1)\n",
    "valid_target = valid_set['left_interconnect']"
   ]
  },
  {
   "cell_type": "code",
   "execution_count": 107,
   "metadata": {},
   "outputs": [
    {
     "name": "stdout",
     "output_type": "stream",
     "text": [
      "Size of the training set:\n",
      "Features = (4218, 21)\n",
      "Target = (4218,)\n",
      "\n",
      "Size of the validation set:\n",
      "Features = (1407, 21)\n",
      "Target = (1407,)\n",
      "\n",
      "Size of the test set:\n",
      "Features = (1407, 21)\n",
      "Target = (1407,)\n"
     ]
    }
   ],
   "source": [
    "print('Size of the training set:')\n",
    "print('Features =', train_features.shape)\n",
    "print('Target =', train_target.shape)\n",
    "print()\n",
    "print('Size of the validation set:')\n",
    "print('Features =', valid_features.shape)\n",
    "print('Target =', valid_target.shape)\n",
    "print()\n",
    "print('Size of the test set:')\n",
    "print('Features =', test_features.shape)\n",
    "print('Target =', test_target.shape)"
   ]
  },
  {
   "cell_type": "markdown",
   "metadata": {},
   "source": [
    "**Upsampling & Downsampling Functions** <a id = 8.2></a>"
   ]
  },
  {
   "cell_type": "markdown",
   "metadata": {},
   "source": [
    "The following is an explanation of how the upsampling function works:\n",
    "\n",
    "1) It first splits the training sample into positive and negative observations.\n",
    "\n",
    "2) It then duplicates the positive observations a designated number of times.\n",
    "\n",
    "3) Next, it creates a new training sample based on the data obtained.\n",
    "\n",
    "4) Lastly, it shuffles the data"
   ]
  },
  {
   "cell_type": "code",
   "execution_count": 108,
   "metadata": {},
   "outputs": [],
   "source": [
    "def upsample(features, target, repeat):\n",
    "    \n",
    "    features_zeros = features[target == 0]\n",
    "    features_ones = features[target == 1]\n",
    "    target_zeros = target[target == 0]\n",
    "    target_ones = target[target == 1]\n",
    "\n",
    "    features_upsampled = pd.concat([features_zeros] + [features_ones] * repeat)\n",
    "    target_upsampled = pd.concat([target_zeros] + [target_ones] * repeat)\n",
    "\n",
    "    features_upsampled, target_upsampled = shuffle(features_upsampled, target_upsampled, random_state = 7)\n",
    "\n",
    "    return features_upsampled, target_upsampled"
   ]
  },
  {
   "cell_type": "code",
   "execution_count": 109,
   "metadata": {},
   "outputs": [
    {
     "data": {
      "text/plain": [
       "1    3363\n",
       "0    3097\n",
       "Name: left_interconnect, dtype: int64"
      ]
     },
     "metadata": {},
     "output_type": "display_data"
    }
   ],
   "source": [
    "train_features_upsampled, train_target_upsampled = upsample(train_features, train_target, 3)\n",
    "\n",
    "display(train_target_upsampled.value_counts())"
   ]
  },
  {
   "cell_type": "markdown",
   "metadata": {},
   "source": [
    "Great! By upsampling the training set, I now have a ratio between the two possible target values that is much closer to 1:1! \n",
    "\n",
    "This improved ratio should help the models significantly."
   ]
  },
  {
   "cell_type": "markdown",
   "metadata": {},
   "source": [
    "As for downsampling, that is done by following these steps:\n",
    "\n",
    "1) Splitting the training sample into positive and negative observations.\n",
    "\n",
    "2) Randomly dropping a portion of the negative observations.\n",
    "\n",
    "3) Creating a new training sample based on the data obtained.\n",
    "\n",
    "4) Shuffling the data."
   ]
  },
  {
   "cell_type": "code",
   "execution_count": 110,
   "metadata": {},
   "outputs": [],
   "source": [
    "def downsample(features, target, fraction):\n",
    "    \n",
    "    features_zeros = features[target == 0]\n",
    "    features_ones = features[target == 1]\n",
    "    target_zeros = target[target == 0]\n",
    "    target_ones = target[target == 1]\n",
    "\n",
    "    features_downsampled = pd.concat([features_zeros.sample(frac = fraction, random_state = 7)] + [features_ones])\n",
    "    target_downsampled = pd.concat([target_zeros.sample(frac = fraction, random_state = 7)] + [target_ones])\n",
    "\n",
    "    features_downsampled, target_downsampled = shuffle(features_downsampled, target_downsampled, random_state = 7)\n",
    "\n",
    "    return features_downsampled, target_downsampled"
   ]
  },
  {
   "cell_type": "code",
   "execution_count": 111,
   "metadata": {},
   "outputs": [
    {
     "data": {
      "text/plain": [
       "0    1121\n",
       "1    1121\n",
       "Name: left_interconnect, dtype: int64"
      ]
     },
     "metadata": {},
     "output_type": "display_data"
    }
   ],
   "source": [
    "train_features_downsampled, train_target_downsampled = downsample(train_features, train_target, 0.362)\n",
    "\n",
    "display(train_target_downsampled.value_counts())"
   ]
  },
  {
   "cell_type": "markdown",
   "metadata": {},
   "source": [
    "Wonderful! This downsampled training set has an equal number of each possible target value! Needless to say, there is absolutely no class imbalance.\n",
    "\n",
    "Just in case the upsampled training set does not result in a sufficiently large AUC-ROC value, then maybe the downsampled training set will."
   ]
  },
  {
   "cell_type": "markdown",
   "metadata": {},
   "source": [
    "**Dummy Classifier – Upsampled** <a id = 8.3></a>"
   ]
  },
  {
   "cell_type": "markdown",
   "metadata": {},
   "source": [
    "It is a great idea to build a dummy classifier model because it can be used to sanity check the other models.\n",
    "\n",
    "I will set the **strategy** parameter equal to **uniform** (meaning the model makes predictions uniformly at random)."
   ]
  },
  {
   "cell_type": "code",
   "execution_count": 112,
   "metadata": {},
   "outputs": [
    {
     "data": {
      "text/plain": [
       "DummyClassifier(strategy='uniform')"
      ]
     },
     "execution_count": 112,
     "metadata": {},
     "output_type": "execute_result"
    }
   ],
   "source": [
    "dummy_upsampled = DummyClassifier(strategy = 'uniform')\n",
    "dummy_upsampled.fit(train_features_upsampled, train_target_upsampled)"
   ]
  },
  {
   "cell_type": "code",
   "execution_count": 113,
   "metadata": {
    "scrolled": true
   },
   "outputs": [
    {
     "name": "stdout",
     "output_type": "stream",
     "text": [
      "Validation Set AUC-ROC Value = 0.5\n"
     ]
    }
   ],
   "source": [
    "dummy_upsampled_valid_pred_proba = dummy_upsampled.predict_proba(valid_features)\n",
    "dummy_upsampled_valid_pred_proba = dummy_upsampled_valid_pred_proba[:, 1]\n",
    "\n",
    "print('Validation Set AUC-ROC Value =', round(roc_auc_score(valid_target, dummy_upsampled_valid_pred_proba), 3))"
   ]
  },
  {
   "cell_type": "markdown",
   "metadata": {},
   "source": [
    "As expected, the dummy classifier acquires an AUC-ROC value of 0.5, just like random guessing."
   ]
  },
  {
   "cell_type": "markdown",
   "metadata": {},
   "source": [
    "**Dummy Classifier – Downsampled** <a id = 8.4></a>"
   ]
  },
  {
   "cell_type": "code",
   "execution_count": 114,
   "metadata": {},
   "outputs": [
    {
     "data": {
      "text/plain": [
       "DummyClassifier(strategy='uniform')"
      ]
     },
     "execution_count": 114,
     "metadata": {},
     "output_type": "execute_result"
    }
   ],
   "source": [
    "dummy_downsampled = DummyClassifier(strategy = 'uniform')\n",
    "dummy_downsampled.fit(train_features_downsampled, train_target_downsampled)"
   ]
  },
  {
   "cell_type": "code",
   "execution_count": 115,
   "metadata": {},
   "outputs": [
    {
     "name": "stdout",
     "output_type": "stream",
     "text": [
      "Validation Set AUC-ROC Value = 0.5\n"
     ]
    }
   ],
   "source": [
    "dummy_downsampled_valid_pred_proba = dummy_downsampled.predict_proba(valid_features)\n",
    "dummy_downsampled_valid_pred_proba = dummy_downsampled_valid_pred_proba[:, 1]\n",
    "\n",
    "print('Validation Set AUC-ROC Value =', round(roc_auc_score(valid_target, dummy_downsampled_valid_pred_proba), 3))"
   ]
  },
  {
   "cell_type": "markdown",
   "metadata": {},
   "source": [
    "**Logistic Regression – Upsampled** <a id = 8.5></a>"
   ]
  },
  {
   "cell_type": "markdown",
   "metadata": {},
   "source": [
    "Apparently, the best **solver** value is **newton-cg**, according to the **GridSearchCV** I use in the next line. \n",
    "\n",
    "I commented out it out because **GridSearchCV** can take a long time to process. I will do this everytime I use **GridSearchCV**."
   ]
  },
  {
   "cell_type": "code",
   "execution_count": 116,
   "metadata": {},
   "outputs": [],
   "source": [
    "#hyperparameters_lr_model = {'solver': ['lbfgs', 'liblinear', 'newton-cg', 'sag', 'saga']}\n",
    "\n",
    "\n",
    "#grid_search_lr_upsampled = GridSearchCV(estimator = LogisticRegression(), scoring = 'roc_auc',\n",
    "#                                        param_grid = hyperparameters_lr_model)\n",
    "\n",
    "#grid_search_lr_upsampled.fit(train_features_upsampled, train_target_upsampled)\n",
    "\n",
    "#print(grid_search_lr_upsampled.best_params_)"
   ]
  },
  {
   "cell_type": "code",
   "execution_count": 117,
   "metadata": {},
   "outputs": [],
   "source": [
    "lr_upsampled = LogisticRegression(solver = 'newton-cg')"
   ]
  },
  {
   "cell_type": "code",
   "execution_count": 118,
   "metadata": {},
   "outputs": [
    {
     "name": "stdout",
     "output_type": "stream",
     "text": [
      "CPU times: user 1.14 s, sys: 1.93 s, total: 3.08 s\n",
      "Wall time: 3.07 s\n"
     ]
    },
    {
     "data": {
      "text/plain": [
       "LogisticRegression(solver='newton-cg')"
      ]
     },
     "execution_count": 118,
     "metadata": {},
     "output_type": "execute_result"
    }
   ],
   "source": [
    "%%time\n",
    "\n",
    "lr_upsampled.fit(train_features_upsampled, train_target_upsampled)"
   ]
  },
  {
   "cell_type": "code",
   "execution_count": 119,
   "metadata": {},
   "outputs": [
    {
     "name": "stdout",
     "output_type": "stream",
     "text": [
      "Validation Set AUC-ROC Value = 0.912\n"
     ]
    }
   ],
   "source": [
    "lr_upsampled_valid_pred_proba = lr_upsampled.predict_proba(valid_features)\n",
    "lr_upsampled_valid_pred_proba = lr_upsampled_valid_pred_proba[:, 1]\n",
    "\n",
    "print('Validation Set AUC-ROC Value =', round(roc_auc_score(valid_target, lr_upsampled_valid_pred_proba), 3))"
   ]
  },
  {
   "cell_type": "markdown",
   "metadata": {},
   "source": [
    "Wow! I was not expecting to get such a good AUC-ROC value so quickly! Furthermore, the wall time of this model is very short, which is a big plus!\n",
    "\n",
    "I could stop here, but it is good practice to try out different models and see if any of them yield an even better AUC-ROC value."
   ]
  },
  {
   "cell_type": "markdown",
   "metadata": {},
   "source": [
    "**Logistic Regression – Downsampled** <a id = 8.6></a>"
   ]
  },
  {
   "cell_type": "code",
   "execution_count": 120,
   "metadata": {},
   "outputs": [],
   "source": [
    "#grid_search_lr_downsampled = GridSearchCV(estimator = LogisticRegression(), scoring = 'roc_auc',\n",
    "#                                          param_grid = hyperparameters_lr_model)\n",
    "\n",
    "#grid_search_lr_downsampled.fit(train_features_downsampled, train_target_downsampled)\n",
    "\n",
    "#print(grid_search_lr_downsampled.best_params_)"
   ]
  },
  {
   "cell_type": "code",
   "execution_count": 121,
   "metadata": {},
   "outputs": [],
   "source": [
    "lr_downsampled = LogisticRegression(solver = 'newton-cg')"
   ]
  },
  {
   "cell_type": "code",
   "execution_count": 122,
   "metadata": {},
   "outputs": [
    {
     "name": "stdout",
     "output_type": "stream",
     "text": [
      "CPU times: user 568 ms, sys: 1.1 s, total: 1.67 s\n",
      "Wall time: 1.69 s\n"
     ]
    },
    {
     "data": {
      "text/plain": [
       "LogisticRegression(solver='newton-cg')"
      ]
     },
     "execution_count": 122,
     "metadata": {},
     "output_type": "execute_result"
    }
   ],
   "source": [
    "%%time\n",
    "\n",
    "lr_downsampled.fit(train_features_downsampled, train_target_downsampled)"
   ]
  },
  {
   "cell_type": "code",
   "execution_count": 123,
   "metadata": {},
   "outputs": [
    {
     "name": "stdout",
     "output_type": "stream",
     "text": [
      "Validation Set AUC-ROC Value = 0.912\n"
     ]
    }
   ],
   "source": [
    "lr_downsampled_valid_pred_proba = lr_downsampled.predict_proba(valid_features)\n",
    "lr_downsampled_valid_pred_proba = lr_downsampled_valid_pred_proba[:, 1]\n",
    "\n",
    "print('Validation Set AUC-ROC Value =', round(roc_auc_score(valid_target, lr_downsampled_valid_pred_proba), 3))"
   ]
  },
  {
   "cell_type": "markdown",
   "metadata": {},
   "source": [
    "This AUC-ROC value is the same as that of the model trained using the upsampled training set, and its wall time is even shorter!"
   ]
  },
  {
   "cell_type": "markdown",
   "metadata": {},
   "source": [
    "**LGBMClassifier – Upsampled** <a id = 8.7></a>"
   ]
  },
  {
   "cell_type": "code",
   "execution_count": 124,
   "metadata": {},
   "outputs": [],
   "source": [
    "lgbm_upsampled = LGBMClassifier(random_state = 7)"
   ]
  },
  {
   "cell_type": "code",
   "execution_count": 125,
   "metadata": {},
   "outputs": [
    {
     "name": "stdout",
     "output_type": "stream",
     "text": [
      "CPU times: user 1.11 s, sys: 29.9 ms, total: 1.14 s\n",
      "Wall time: 1.13 s\n"
     ]
    },
    {
     "data": {
      "text/plain": [
       "LGBMClassifier(random_state=7)"
      ]
     },
     "execution_count": 125,
     "metadata": {},
     "output_type": "execute_result"
    }
   ],
   "source": [
    "%%time\n",
    "\n",
    "lgbm_upsampled.fit(train_features_upsampled, train_target_upsampled)"
   ]
  },
  {
   "cell_type": "markdown",
   "metadata": {},
   "source": [
    "I would like to print the hyperparameter values of the \"default\" **LGBMClassifier** because this will help me decide what values to experiment with when I use **GridSearchCV**. I will do this with all of the other \"default\" models as well. "
   ]
  },
  {
   "cell_type": "code",
   "execution_count": 126,
   "metadata": {},
   "outputs": [
    {
     "name": "stdout",
     "output_type": "stream",
     "text": [
      "{'boosting_type': 'gbdt', 'class_weight': None, 'colsample_bytree': 1.0, 'importance_type': 'split', 'learning_rate': 0.1, 'max_depth': -1, 'min_child_samples': 20, 'min_child_weight': 0.001, 'min_split_gain': 0.0, 'n_estimators': 100, 'n_jobs': -1, 'num_leaves': 31, 'objective': None, 'random_state': 7, 'reg_alpha': 0.0, 'reg_lambda': 0.0, 'silent': 'warn', 'subsample': 1.0, 'subsample_for_bin': 200000, 'subsample_freq': 0}\n"
     ]
    }
   ],
   "source": [
    "print(lgbm_upsampled.get_params())"
   ]
  },
  {
   "cell_type": "code",
   "execution_count": 127,
   "metadata": {},
   "outputs": [
    {
     "name": "stdout",
     "output_type": "stream",
     "text": [
      "Validation Set AUC-ROC Value = 0.927\n"
     ]
    }
   ],
   "source": [
    "lgbm_upsampled_valid_pred_proba = lgbm_upsampled.predict_proba(valid_features)\n",
    "lgbm_upsampled_valid_pred_proba = lgbm_upsampled_valid_pred_proba[:, 1]\n",
    "\n",
    "print('Validation Set AUC-ROC Value =', round(roc_auc_score(valid_target, lgbm_upsampled_valid_pred_proba), 3))"
   ]
  },
  {
   "cell_type": "markdown",
   "metadata": {},
   "source": [
    "Good! This model has an AUC-ROC value that is even larger than that of the logistic regression! \n",
    "\n",
    "I wonder if hyperparameter tuning can help improve the AUC-RUC value even more."
   ]
  },
  {
   "cell_type": "code",
   "execution_count": 128,
   "metadata": {},
   "outputs": [],
   "source": [
    "#hyperparameters_lgbm_model = {'learning_rate': [0.01, 0.1, 0.2], 'max_depth': [-1, 5, 10, 15], \n",
    "#                              'n_estimators': [50, 100, 150, 200], 'num_leaves': [5, 10, 15, 20, 25, 30]}\n",
    "\n",
    "#grid_search_lgbm_upsampled = GridSearchCV(estimator = LGBMClassifier(), scoring = 'roc_auc',\n",
    "#                                          param_grid = hyperparameters_lgbm_model)\n",
    "                                       \n",
    "#grid_search_lgbm_upsampled.fit(train_features_upsampled, train_target_upsampled)\n",
    "\n",
    "#print(grid_search_lgbm_upsampled.best_params_)"
   ]
  },
  {
   "cell_type": "code",
   "execution_count": 129,
   "metadata": {},
   "outputs": [],
   "source": [
    "lgbm_upsampled_tuned = LGBMClassifier(learning_rate = 0.01, max_depth = 15, n_estimators = 200, num_leaves = 30,\n",
    "                                      random_state = 7)"
   ]
  },
  {
   "cell_type": "code",
   "execution_count": 130,
   "metadata": {},
   "outputs": [
    {
     "name": "stdout",
     "output_type": "stream",
     "text": [
      "CPU times: user 5.04 s, sys: 20.2 ms, total: 5.06 s\n",
      "Wall time: 5.09 s\n"
     ]
    },
    {
     "data": {
      "text/plain": [
       "LGBMClassifier(learning_rate=0.01, max_depth=15, n_estimators=200,\n",
       "               num_leaves=30, random_state=7)"
      ]
     },
     "execution_count": 130,
     "metadata": {},
     "output_type": "execute_result"
    }
   ],
   "source": [
    "%%time\n",
    "\n",
    "lgbm_upsampled_tuned.fit(train_features_upsampled, train_target_upsampled)"
   ]
  },
  {
   "cell_type": "code",
   "execution_count": 131,
   "metadata": {},
   "outputs": [
    {
     "name": "stdout",
     "output_type": "stream",
     "text": [
      "Validation Set AUC-ROC Value = 0.932\n"
     ]
    }
   ],
   "source": [
    "lgbm_upsampled_tuned_valid_pred_proba = lgbm_upsampled_tuned.predict_proba(valid_features)\n",
    "lgbm_upsampled_tuned_valid_pred_proba = lgbm_upsampled_tuned_valid_pred_proba[:, 1]\n",
    "\n",
    "print('Validation Set AUC-ROC Value =', round(roc_auc_score(valid_target, lgbm_upsampled_tuned_valid_pred_proba), 3))"
   ]
  },
  {
   "cell_type": "markdown",
   "metadata": {},
   "source": [
    "This is a small, but appreciated, improvement to the AUC-ROC value."
   ]
  },
  {
   "cell_type": "markdown",
   "metadata": {},
   "source": [
    "**LGBMClassifier – Downsampled** <a id = 8.8></a>"
   ]
  },
  {
   "cell_type": "code",
   "execution_count": 132,
   "metadata": {},
   "outputs": [],
   "source": [
    "lgbm_downsampled = LGBMClassifier(random_state = 7)"
   ]
  },
  {
   "cell_type": "code",
   "execution_count": 133,
   "metadata": {},
   "outputs": [
    {
     "name": "stdout",
     "output_type": "stream",
     "text": [
      "CPU times: user 1.91 s, sys: 11.1 ms, total: 1.92 s\n",
      "Wall time: 1.95 s\n"
     ]
    },
    {
     "data": {
      "text/plain": [
       "LGBMClassifier(random_state=7)"
      ]
     },
     "execution_count": 133,
     "metadata": {},
     "output_type": "execute_result"
    }
   ],
   "source": [
    "%%time\n",
    "\n",
    "lgbm_downsampled.fit(train_features_downsampled, train_target_downsampled)"
   ]
  },
  {
   "cell_type": "code",
   "execution_count": 134,
   "metadata": {},
   "outputs": [
    {
     "name": "stdout",
     "output_type": "stream",
     "text": [
      "{'boosting_type': 'gbdt', 'class_weight': None, 'colsample_bytree': 1.0, 'importance_type': 'split', 'learning_rate': 0.1, 'max_depth': -1, 'min_child_samples': 20, 'min_child_weight': 0.001, 'min_split_gain': 0.0, 'n_estimators': 100, 'n_jobs': -1, 'num_leaves': 31, 'objective': None, 'random_state': 7, 'reg_alpha': 0.0, 'reg_lambda': 0.0, 'silent': 'warn', 'subsample': 1.0, 'subsample_for_bin': 200000, 'subsample_freq': 0}\n"
     ]
    }
   ],
   "source": [
    "print(lgbm_downsampled.get_params())"
   ]
  },
  {
   "cell_type": "code",
   "execution_count": 135,
   "metadata": {},
   "outputs": [
    {
     "name": "stdout",
     "output_type": "stream",
     "text": [
      "Validation Set AUC-ROC Value = 0.921\n"
     ]
    }
   ],
   "source": [
    "lgbm_downsampled_valid_pred_proba = lgbm_downsampled.predict_proba(valid_features)\n",
    "lgbm_downsampled_valid_pred_proba = lgbm_downsampled_valid_pred_proba[:, 1]\n",
    "\n",
    "print('Validation Set AUC-ROC Value =', round(roc_auc_score(valid_target, lgbm_downsampled_valid_pred_proba), 3))"
   ]
  },
  {
   "cell_type": "code",
   "execution_count": 136,
   "metadata": {},
   "outputs": [],
   "source": [
    "#grid_search_lgbm_downsampled = GridSearchCV(estimator = LGBMClassifier(), scoring = 'roc_auc',\n",
    "#                                            param_grid = hyperparameters_lgbm_model)\n",
    "                                       \n",
    "#grid_search_lgbm_downsampled.fit(train_features_downsampled, train_target_downsampled)\n",
    "\n",
    "#print(grid_search_lgbm_downsampled.best_params_)"
   ]
  },
  {
   "cell_type": "code",
   "execution_count": 137,
   "metadata": {},
   "outputs": [],
   "source": [
    "lgbm_downsampled_tuned = LGBMClassifier(learning_rate = 0.01, max_depth = 15, n_estimators = 200, num_leaves = 15,\n",
    "                                        random_state = 7)"
   ]
  },
  {
   "cell_type": "code",
   "execution_count": 138,
   "metadata": {},
   "outputs": [
    {
     "name": "stdout",
     "output_type": "stream",
     "text": [
      "CPU times: user 1.95 s, sys: 18.4 ms, total: 1.97 s\n",
      "Wall time: 1.93 s\n"
     ]
    },
    {
     "data": {
      "text/plain": [
       "LGBMClassifier(learning_rate=0.01, max_depth=15, n_estimators=200,\n",
       "               num_leaves=15, random_state=7)"
      ]
     },
     "execution_count": 138,
     "metadata": {},
     "output_type": "execute_result"
    }
   ],
   "source": [
    "%%time\n",
    "\n",
    "lgbm_downsampled_tuned.fit(train_features_downsampled, train_target_downsampled)"
   ]
  },
  {
   "cell_type": "code",
   "execution_count": 139,
   "metadata": {},
   "outputs": [
    {
     "name": "stdout",
     "output_type": "stream",
     "text": [
      "Validation Set AUC-ROC Value = 0.929\n"
     ]
    }
   ],
   "source": [
    "lgbm_downsampled_tuned_valid_pred_proba = lgbm_downsampled_tuned.predict_proba(valid_features)\n",
    "lgbm_downsampled_tuned_valid_pred_proba = lgbm_downsampled_tuned_valid_pred_proba[:, 1]\n",
    "\n",
    "print('Validation Set AUC-ROC Value =', round(roc_auc_score(valid_target, lgbm_downsampled_tuned_valid_pred_proba), 3))"
   ]
  },
  {
   "cell_type": "markdown",
   "metadata": {},
   "source": [
    "While these AUC-ROC values are quite good, the model responded better to being trained with the upsampled training set."
   ]
  },
  {
   "cell_type": "markdown",
   "metadata": {},
   "source": [
    "**XGBClassifier – Upsampled** <a id = 8.9></a>"
   ]
  },
  {
   "cell_type": "code",
   "execution_count": 140,
   "metadata": {},
   "outputs": [],
   "source": [
    "xgbc_upsampled = XGBClassifier(random_state = 7)"
   ]
  },
  {
   "cell_type": "code",
   "execution_count": 141,
   "metadata": {},
   "outputs": [
    {
     "name": "stdout",
     "output_type": "stream",
     "text": [
      "[20:32:43] WARNING: ../src/learner.cc:1115: Starting in XGBoost 1.3.0, the default evaluation metric used with the objective 'binary:logistic' was changed from 'error' to 'logloss'. Explicitly set eval_metric if you'd like to restore the old behavior.\n"
     ]
    },
    {
     "name": "stderr",
     "output_type": "stream",
     "text": [
      "/opt/conda/lib/python3.9/site-packages/xgboost/sklearn.py:1224: UserWarning: The use of label encoder in XGBClassifier is deprecated and will be removed in a future release. To remove this warning, do the following: 1) Pass option use_label_encoder=False when constructing XGBClassifier object; and 2) Encode your labels (y) as integers starting with 0, i.e. 0, 1, 2, ..., [num_class - 1].\n",
      "  warnings.warn(label_encoder_deprecation_msg, UserWarning)\n"
     ]
    },
    {
     "name": "stdout",
     "output_type": "stream",
     "text": [
      "CPU times: user 8.58 s, sys: 40.9 ms, total: 8.62 s\n",
      "Wall time: 8.71 s\n"
     ]
    },
    {
     "data": {
      "text/plain": [
       "XGBClassifier(base_score=0.5, booster='gbtree', colsample_bylevel=1,\n",
       "              colsample_bynode=1, colsample_bytree=1, enable_categorical=False,\n",
       "              gamma=0, gpu_id=-1, importance_type=None,\n",
       "              interaction_constraints='', learning_rate=0.300000012,\n",
       "              max_delta_step=0, max_depth=6, min_child_weight=1, missing=nan,\n",
       "              monotone_constraints='()', n_estimators=100, n_jobs=4,\n",
       "              num_parallel_tree=1, predictor='auto', random_state=7,\n",
       "              reg_alpha=0, reg_lambda=1, scale_pos_weight=1, subsample=1,\n",
       "              tree_method='exact', validate_parameters=1, verbosity=None)"
      ]
     },
     "execution_count": 141,
     "metadata": {},
     "output_type": "execute_result"
    }
   ],
   "source": [
    "%%time\n",
    "\n",
    "xgbc_upsampled.fit(train_features_upsampled, train_target_upsampled)"
   ]
  },
  {
   "cell_type": "code",
   "execution_count": 142,
   "metadata": {},
   "outputs": [
    {
     "name": "stdout",
     "output_type": "stream",
     "text": [
      "Validation Set AUC-ROC Value = 0.924\n"
     ]
    }
   ],
   "source": [
    "xgbc_upsampled_valid_pred_proba = xgbc_upsampled.predict_proba(valid_features)\n",
    "xgbc_upsampled_valid_pred_proba = xgbc_upsampled_valid_pred_proba[:, 1]\n",
    "\n",
    "print('Validation Set AUC-ROC Value =', round(roc_auc_score(valid_target, xgbc_upsampled_valid_pred_proba), 3))"
   ]
  },
  {
   "cell_type": "markdown",
   "metadata": {},
   "source": [
    "I wonder if this model would benefit from hyperparameter tuning. Only one way to find out!"
   ]
  },
  {
   "cell_type": "code",
   "execution_count": 143,
   "metadata": {},
   "outputs": [],
   "source": [
    "#hyperparameters_xgbc_model = {'learning_rate': [0.01, 0.1, 0.2, 0.3], 'max_depth': [3, 4, 5, 6, 7], \n",
    "#                              'n_estimators': [100, 200, 300, 400, 500]}\n",
    "\n",
    "#grid_search_xgbc_upsampled = GridSearchCV(estimator = XGBClassifier(), scoring = 'roc_auc',\n",
    "#                                          param_grid = hyperparameters_xgbc_model)\n",
    "\n",
    "#grid_search_xgbc_upsampled.fit(train_features_upsampled, train_target_upsampled)\n",
    "\n",
    "#print(grid_search_xgbc_upsampled.best_params_)"
   ]
  },
  {
   "cell_type": "code",
   "execution_count": 144,
   "metadata": {},
   "outputs": [],
   "source": [
    "xgbc_upsampled_tuned = XGBClassifier(learning_rate = 0.01, max_depth = 3, n_estimators = 400, random_state = 7)"
   ]
  },
  {
   "cell_type": "code",
   "execution_count": 145,
   "metadata": {},
   "outputs": [
    {
     "name": "stdout",
     "output_type": "stream",
     "text": [
      "[20:32:51] WARNING: ../src/learner.cc:1115: Starting in XGBoost 1.3.0, the default evaluation metric used with the objective 'binary:logistic' was changed from 'error' to 'logloss'. Explicitly set eval_metric if you'd like to restore the old behavior.\n"
     ]
    },
    {
     "name": "stderr",
     "output_type": "stream",
     "text": [
      "/opt/conda/lib/python3.9/site-packages/xgboost/sklearn.py:1224: UserWarning: The use of label encoder in XGBClassifier is deprecated and will be removed in a future release. To remove this warning, do the following: 1) Pass option use_label_encoder=False when constructing XGBClassifier object; and 2) Encode your labels (y) as integers starting with 0, i.e. 0, 1, 2, ..., [num_class - 1].\n",
      "  warnings.warn(label_encoder_deprecation_msg, UserWarning)\n"
     ]
    },
    {
     "name": "stdout",
     "output_type": "stream",
     "text": [
      "CPU times: user 20.1 s, sys: 151 ms, total: 20.3 s\n",
      "Wall time: 20.7 s\n"
     ]
    },
    {
     "data": {
      "text/plain": [
       "XGBClassifier(base_score=0.5, booster='gbtree', colsample_bylevel=1,\n",
       "              colsample_bynode=1, colsample_bytree=1, enable_categorical=False,\n",
       "              gamma=0, gpu_id=-1, importance_type=None,\n",
       "              interaction_constraints='', learning_rate=0.01, max_delta_step=0,\n",
       "              max_depth=3, min_child_weight=1, missing=nan,\n",
       "              monotone_constraints='()', n_estimators=400, n_jobs=4,\n",
       "              num_parallel_tree=1, predictor='auto', random_state=7,\n",
       "              reg_alpha=0, reg_lambda=1, scale_pos_weight=1, subsample=1,\n",
       "              tree_method='exact', validate_parameters=1, verbosity=None)"
      ]
     },
     "execution_count": 145,
     "metadata": {},
     "output_type": "execute_result"
    }
   ],
   "source": [
    "%%time\n",
    "\n",
    "xgbc_upsampled_tuned.fit(train_features_upsampled, train_target_upsampled)"
   ]
  },
  {
   "cell_type": "code",
   "execution_count": 146,
   "metadata": {},
   "outputs": [
    {
     "name": "stdout",
     "output_type": "stream",
     "text": [
      "Validation Set AUC-ROC Value = 0.935\n"
     ]
    }
   ],
   "source": [
    "xgbc_upsampled_tuned_valid_pred_proba = xgbc_upsampled_tuned.predict_proba(valid_features)\n",
    "xgbc_upsampled_tuned_valid_pred_proba = xgbc_upsampled_tuned_valid_pred_proba[:, 1]\n",
    "\n",
    "print('Validation Set AUC-ROC Value =', round(roc_auc_score(valid_target, xgbc_upsampled_tuned_valid_pred_proba), 3))"
   ]
  },
  {
   "cell_type": "markdown",
   "metadata": {},
   "source": [
    "This is a decent improvement, at the cost of a considerably longer wall time. So far, this model is the one with the best AUC-ROC value."
   ]
  },
  {
   "cell_type": "markdown",
   "metadata": {},
   "source": [
    "**XGBClassifier – Downsampled** <a id = 8.10></a>"
   ]
  },
  {
   "cell_type": "code",
   "execution_count": 147,
   "metadata": {},
   "outputs": [],
   "source": [
    "xgbc_downsampled = XGBClassifier(random_state = 7)"
   ]
  },
  {
   "cell_type": "code",
   "execution_count": 148,
   "metadata": {},
   "outputs": [
    {
     "name": "stdout",
     "output_type": "stream",
     "text": [
      "[20:33:12] WARNING: ../src/learner.cc:1115: Starting in XGBoost 1.3.0, the default evaluation metric used with the objective 'binary:logistic' was changed from 'error' to 'logloss'. Explicitly set eval_metric if you'd like to restore the old behavior.\n"
     ]
    },
    {
     "name": "stderr",
     "output_type": "stream",
     "text": [
      "/opt/conda/lib/python3.9/site-packages/xgboost/sklearn.py:1224: UserWarning: The use of label encoder in XGBClassifier is deprecated and will be removed in a future release. To remove this warning, do the following: 1) Pass option use_label_encoder=False when constructing XGBClassifier object; and 2) Encode your labels (y) as integers starting with 0, i.e. 0, 1, 2, ..., [num_class - 1].\n",
      "  warnings.warn(label_encoder_deprecation_msg, UserWarning)\n"
     ]
    },
    {
     "name": "stdout",
     "output_type": "stream",
     "text": [
      "CPU times: user 3.76 s, sys: 45.9 ms, total: 3.81 s\n",
      "Wall time: 3.81 s\n"
     ]
    },
    {
     "data": {
      "text/plain": [
       "XGBClassifier(base_score=0.5, booster='gbtree', colsample_bylevel=1,\n",
       "              colsample_bynode=1, colsample_bytree=1, enable_categorical=False,\n",
       "              gamma=0, gpu_id=-1, importance_type=None,\n",
       "              interaction_constraints='', learning_rate=0.300000012,\n",
       "              max_delta_step=0, max_depth=6, min_child_weight=1, missing=nan,\n",
       "              monotone_constraints='()', n_estimators=100, n_jobs=4,\n",
       "              num_parallel_tree=1, predictor='auto', random_state=7,\n",
       "              reg_alpha=0, reg_lambda=1, scale_pos_weight=1, subsample=1,\n",
       "              tree_method='exact', validate_parameters=1, verbosity=None)"
      ]
     },
     "execution_count": 148,
     "metadata": {},
     "output_type": "execute_result"
    }
   ],
   "source": [
    "%%time\n",
    "\n",
    "xgbc_downsampled.fit(train_features_downsampled, train_target_downsampled)"
   ]
  },
  {
   "cell_type": "code",
   "execution_count": 149,
   "metadata": {},
   "outputs": [
    {
     "name": "stdout",
     "output_type": "stream",
     "text": [
      "Validation Set AUC-ROC Value = 0.917\n"
     ]
    }
   ],
   "source": [
    "xgbc_downsampled_valid_pred_proba = xgbc_downsampled.predict_proba(valid_features)\n",
    "xgbc_downsampled_valid_pred_proba = xgbc_downsampled_valid_pred_proba[:, 1]\n",
    "\n",
    "print('Validation Set AUC-ROC Value =', round(roc_auc_score(valid_target, xgbc_downsampled_valid_pred_proba), 3))"
   ]
  },
  {
   "cell_type": "code",
   "execution_count": 150,
   "metadata": {},
   "outputs": [],
   "source": [
    "#grid_search_xgbc_downsampled = GridSearchCV(estimator = XGBClassifier(), scoring = 'roc_auc',\n",
    "#                                            param_grid = hyperparameters_xgbc_model)\n",
    "\n",
    "#grid_search_xgbc_downsampled.fit(train_features_downsampled, train_target_downsampled)\n",
    "\n",
    "#print(grid_search_xgbc_downsampled.best_params_)"
   ]
  },
  {
   "cell_type": "code",
   "execution_count": 151,
   "metadata": {},
   "outputs": [],
   "source": [
    "xgbc_downsampled_tuned = XGBClassifier(learning_rate = 0.01, max_depth = 3, n_estimators = 400, random_state = 7)"
   ]
  },
  {
   "cell_type": "code",
   "execution_count": 152,
   "metadata": {},
   "outputs": [
    {
     "name": "stdout",
     "output_type": "stream",
     "text": [
      "[20:33:16] WARNING: ../src/learner.cc:1115: Starting in XGBoost 1.3.0, the default evaluation metric used with the objective 'binary:logistic' was changed from 'error' to 'logloss'. Explicitly set eval_metric if you'd like to restore the old behavior.\n"
     ]
    },
    {
     "name": "stderr",
     "output_type": "stream",
     "text": [
      "/opt/conda/lib/python3.9/site-packages/xgboost/sklearn.py:1224: UserWarning: The use of label encoder in XGBClassifier is deprecated and will be removed in a future release. To remove this warning, do the following: 1) Pass option use_label_encoder=False when constructing XGBClassifier object; and 2) Encode your labels (y) as integers starting with 0, i.e. 0, 1, 2, ..., [num_class - 1].\n",
      "  warnings.warn(label_encoder_deprecation_msg, UserWarning)\n"
     ]
    },
    {
     "name": "stdout",
     "output_type": "stream",
     "text": [
      "CPU times: user 15.4 s, sys: 58.2 ms, total: 15.4 s\n",
      "Wall time: 15.5 s\n"
     ]
    },
    {
     "data": {
      "text/plain": [
       "XGBClassifier(base_score=0.5, booster='gbtree', colsample_bylevel=1,\n",
       "              colsample_bynode=1, colsample_bytree=1, enable_categorical=False,\n",
       "              gamma=0, gpu_id=-1, importance_type=None,\n",
       "              interaction_constraints='', learning_rate=0.01, max_delta_step=0,\n",
       "              max_depth=3, min_child_weight=1, missing=nan,\n",
       "              monotone_constraints='()', n_estimators=400, n_jobs=4,\n",
       "              num_parallel_tree=1, predictor='auto', random_state=7,\n",
       "              reg_alpha=0, reg_lambda=1, scale_pos_weight=1, subsample=1,\n",
       "              tree_method='exact', validate_parameters=1, verbosity=None)"
      ]
     },
     "execution_count": 152,
     "metadata": {},
     "output_type": "execute_result"
    }
   ],
   "source": [
    "%%time\n",
    "\n",
    "xgbc_downsampled_tuned.fit(train_features_downsampled, train_target_downsampled)"
   ]
  },
  {
   "cell_type": "code",
   "execution_count": 153,
   "metadata": {},
   "outputs": [
    {
     "name": "stdout",
     "output_type": "stream",
     "text": [
      "Validation Set AUC-ROC Value = 0.933\n"
     ]
    }
   ],
   "source": [
    "xgbc_downsampled_tuned_valid_pred_proba = xgbc_downsampled_tuned.predict_proba(valid_features)\n",
    "xgbc_downsampled_tuned_valid_pred_proba = xgbc_downsampled_tuned_valid_pred_proba[:, 1]\n",
    "\n",
    "print('Validation Set AUC-ROC Value =', round(roc_auc_score(valid_target, xgbc_downsampled_tuned_valid_pred_proba), 3))"
   ]
  },
  {
   "cell_type": "markdown",
   "metadata": {},
   "source": [
    "This is a good improvement! However, the tuned model trained using the upsampled training set is a tiny bit better."
   ]
  },
  {
   "cell_type": "markdown",
   "metadata": {},
   "source": [
    "**CatBoostClassifier – Upsampled** <a id = 8.11></a>"
   ]
  },
  {
   "cell_type": "code",
   "execution_count": 154,
   "metadata": {},
   "outputs": [],
   "source": [
    "cat_boost_upsampled = CatBoostClassifier(random_state = 7)"
   ]
  },
  {
   "cell_type": "code",
   "execution_count": 155,
   "metadata": {},
   "outputs": [
    {
     "name": "stdout",
     "output_type": "stream",
     "text": [
      "Learning rate set to 0.022851\n",
      "0:\tlearn: 0.6760343\ttotal: 59.3ms\tremaining: 59.2s\n",
      "100:\tlearn: 0.2987192\ttotal: 479ms\tremaining: 4.26s\n",
      "200:\tlearn: 0.2587049\ttotal: 919ms\tremaining: 3.65s\n",
      "300:\tlearn: 0.2311724\ttotal: 1.34s\tremaining: 3.11s\n",
      "400:\tlearn: 0.2110093\ttotal: 1.77s\tremaining: 2.65s\n",
      "500:\tlearn: 0.1921747\ttotal: 2.2s\tremaining: 2.19s\n",
      "600:\tlearn: 0.1762551\ttotal: 2.63s\tremaining: 1.75s\n",
      "700:\tlearn: 0.1613780\ttotal: 3.07s\tremaining: 1.31s\n",
      "800:\tlearn: 0.1481555\ttotal: 3.53s\tremaining: 877ms\n",
      "900:\tlearn: 0.1362261\ttotal: 3.97s\tremaining: 436ms\n",
      "999:\tlearn: 0.1265854\ttotal: 4.39s\tremaining: 0us\n",
      "CPU times: user 4.36 s, sys: 14.2 ms, total: 4.38 s\n",
      "Wall time: 4.65 s\n"
     ]
    },
    {
     "data": {
      "text/plain": [
       "<catboost.core.CatBoostClassifier at 0x7f14cd6e4760>"
      ]
     },
     "execution_count": 155,
     "metadata": {},
     "output_type": "execute_result"
    }
   ],
   "source": [
    "%%time\n",
    "\n",
    "cat_boost_upsampled.fit(train_features_upsampled, train_target_upsampled, verbose = 100)"
   ]
  },
  {
   "cell_type": "code",
   "execution_count": 156,
   "metadata": {},
   "outputs": [
    {
     "name": "stdout",
     "output_type": "stream",
     "text": [
      "{'random_state': 7}\n"
     ]
    }
   ],
   "source": [
    "print(cat_boost_upsampled.get_params())"
   ]
  },
  {
   "cell_type": "code",
   "execution_count": 157,
   "metadata": {},
   "outputs": [
    {
     "name": "stdout",
     "output_type": "stream",
     "text": [
      "Validation Set AUC-ROC Value = 0.932\n"
     ]
    }
   ],
   "source": [
    "cat_boost_upsampled_valid_pred_proba = cat_boost_upsampled.predict_proba(valid_features)\n",
    "cat_boost_upsampled_valid_pred_proba = cat_boost_upsampled_valid_pred_proba[:, 1]\n",
    "\n",
    "print('Validation Set AUC-ROC Value =', round(roc_auc_score(valid_target, cat_boost_upsampled_valid_pred_proba), 3))"
   ]
  },
  {
   "cell_type": "markdown",
   "metadata": {},
   "source": [
    "This model is very promising! In fact, I would not be surprised if it ends up being the best model after receiving some hyperparameter tuning."
   ]
  },
  {
   "cell_type": "code",
   "execution_count": 158,
   "metadata": {},
   "outputs": [],
   "source": [
    "#hyperparameters_cb_model = {'max_depth': [2, 4, 6, 8], 'n_estimators': [200, 300, 400, 500], 'learning_rate': [0.01, 0.1]}\n",
    "\n",
    "#grid_search_cb_upsampled = GridSearchCV(estimator = CatBoostClassifier(), scoring = 'roc_auc',\n",
    "#                                        param_grid = hyperparameters_cb_model)\n",
    "\n",
    "#grid_search_cb_upsampled.fit(train_features_upsampled, train_target_upsampled, verbose = 100)\n",
    "\n",
    "#print(grid_search_cb_upsampled.best_params_)"
   ]
  },
  {
   "cell_type": "code",
   "execution_count": 159,
   "metadata": {},
   "outputs": [],
   "source": [
    "cat_boost_upsampled_tuned = CatBoostClassifier(learning_rate = 0.01, max_depth = 6, n_estimators = 400, random_state = 7)"
   ]
  },
  {
   "cell_type": "code",
   "execution_count": 160,
   "metadata": {},
   "outputs": [
    {
     "name": "stdout",
     "output_type": "stream",
     "text": [
      "0:\tlearn: 0.6855855\ttotal: 4.12ms\tremaining: 1.64s\n",
      "100:\tlearn: 0.3619111\ttotal: 433ms\tremaining: 1.28s\n",
      "200:\tlearn: 0.3073049\ttotal: 863ms\tremaining: 854ms\n",
      "300:\tlearn: 0.2831438\ttotal: 1.3s\tremaining: 428ms\n",
      "399:\tlearn: 0.2646971\ttotal: 1.73s\tremaining: 0us\n",
      "CPU times: user 1.76 s, sys: 495 µs, total: 1.76 s\n",
      "Wall time: 1.91 s\n"
     ]
    },
    {
     "data": {
      "text/plain": [
       "<catboost.core.CatBoostClassifier at 0x7f14cd66eac0>"
      ]
     },
     "execution_count": 160,
     "metadata": {},
     "output_type": "execute_result"
    }
   ],
   "source": [
    "%%time\n",
    "\n",
    "cat_boost_upsampled_tuned.fit(train_features_upsampled, train_target_upsampled, verbose = 100)"
   ]
  },
  {
   "cell_type": "code",
   "execution_count": 161,
   "metadata": {},
   "outputs": [
    {
     "name": "stdout",
     "output_type": "stream",
     "text": [
      "Validation Set AUC-ROC Value = 0.935\n"
     ]
    }
   ],
   "source": [
    "cat_boost_upsampled_tuned_valid_pred_proba = cat_boost_upsampled_tuned.predict_proba(valid_features)\n",
    "cat_boost_upsampled_tuned_valid_pred_proba = cat_boost_upsampled_tuned_valid_pred_proba[:, 1]\n",
    "\n",
    "print('Validation Set AUC-ROC Value =', round(roc_auc_score(valid_target, cat_boost_upsampled_tuned_valid_pred_proba), 3))"
   ]
  },
  {
   "cell_type": "markdown",
   "metadata": {},
   "source": [
    "Though hyperparameter tuning only improved this model a tiny bit, it is now tied for best AUC-ROC value with the tuned XGBClassifier that was training using the upsampled training set. Furthermore, this model has a considerably shorter wall time than the XGBClassifier."
   ]
  },
  {
   "cell_type": "markdown",
   "metadata": {},
   "source": [
    "**CatBoostClassifier – Downsampled** <a id = 8.12></a>"
   ]
  },
  {
   "cell_type": "code",
   "execution_count": 162,
   "metadata": {},
   "outputs": [],
   "source": [
    "cat_boost_downsampled = CatBoostClassifier(random_state = 7)"
   ]
  },
  {
   "cell_type": "code",
   "execution_count": 163,
   "metadata": {},
   "outputs": [
    {
     "name": "stdout",
     "output_type": "stream",
     "text": [
      "Learning rate set to 0.014543\n",
      "0:\tlearn: 0.6822646\ttotal: 2.85ms\tremaining: 2.85s\n",
      "100:\tlearn: 0.3337539\ttotal: 304ms\tremaining: 2.71s\n",
      "200:\tlearn: 0.2880536\ttotal: 599ms\tremaining: 2.38s\n",
      "300:\tlearn: 0.2619447\ttotal: 895ms\tremaining: 2.08s\n",
      "400:\tlearn: 0.2427485\ttotal: 1.18s\tremaining: 1.76s\n",
      "500:\tlearn: 0.2252696\ttotal: 1.47s\tremaining: 1.46s\n",
      "600:\tlearn: 0.2101341\ttotal: 1.76s\tremaining: 1.17s\n",
      "700:\tlearn: 0.1979096\ttotal: 2.07s\tremaining: 884ms\n",
      "800:\tlearn: 0.1867562\ttotal: 2.38s\tremaining: 590ms\n",
      "900:\tlearn: 0.1762123\ttotal: 2.67s\tremaining: 293ms\n",
      "999:\tlearn: 0.1658657\ttotal: 2.96s\tremaining: 0us\n",
      "CPU times: user 2.96 s, sys: 10.5 ms, total: 2.97 s\n",
      "Wall time: 3.17 s\n"
     ]
    },
    {
     "data": {
      "text/plain": [
       "<catboost.core.CatBoostClassifier at 0x7f14cd67afd0>"
      ]
     },
     "execution_count": 163,
     "metadata": {},
     "output_type": "execute_result"
    }
   ],
   "source": [
    "%%time\n",
    "\n",
    "cat_boost_downsampled.fit(train_features_downsampled, train_target_downsampled, verbose = 100)"
   ]
  },
  {
   "cell_type": "code",
   "execution_count": 164,
   "metadata": {},
   "outputs": [
    {
     "name": "stdout",
     "output_type": "stream",
     "text": [
      "{'random_state': 7}\n"
     ]
    }
   ],
   "source": [
    "print(cat_boost_downsampled.get_params())"
   ]
  },
  {
   "cell_type": "code",
   "execution_count": 165,
   "metadata": {},
   "outputs": [
    {
     "name": "stdout",
     "output_type": "stream",
     "text": [
      "Validation Set AUC-ROC Value = 0.931\n"
     ]
    }
   ],
   "source": [
    "cat_boost_downsampled_valid_pred_proba = cat_boost_downsampled.predict_proba(valid_features)\n",
    "cat_boost_downsampled_valid_pred_proba = cat_boost_downsampled_valid_pred_proba[:, 1]\n",
    "\n",
    "print('Validation Set AUC-ROC Value =', round(roc_auc_score(valid_target, cat_boost_downsampled_valid_pred_proba), 3))"
   ]
  },
  {
   "cell_type": "markdown",
   "metadata": {},
   "source": [
    "This model is even more promising than the CatBoostClassifier trained using the upsampled training set!"
   ]
  },
  {
   "cell_type": "code",
   "execution_count": 166,
   "metadata": {},
   "outputs": [],
   "source": [
    "#grid_search_cb_downsampled = GridSearchCV(estimator = CatBoostClassifier(), scoring = 'roc_auc',\n",
    "#                                          param_grid = hyperparameters_cb_model)\n",
    "\n",
    "#grid_search_cb_downsampled.fit(train_features_downsampled, train_target_downsampled, verbose = 100)\n",
    "\n",
    "#print(grid_search_cb_downsampled.best_params_)"
   ]
  },
  {
   "cell_type": "code",
   "execution_count": 167,
   "metadata": {},
   "outputs": [],
   "source": [
    "cat_boost_downsampled_tuned = CatBoostClassifier(learning_rate = 0.01, max_depth = 6, n_estimators = 400, random_state = 7)"
   ]
  },
  {
   "cell_type": "code",
   "execution_count": 168,
   "metadata": {},
   "outputs": [
    {
     "name": "stdout",
     "output_type": "stream",
     "text": [
      "0:\tlearn: 0.6856372\ttotal: 2.77ms\tremaining: 1.11s\n",
      "25:\tlearn: 0.5332799\ttotal: 83.5ms\tremaining: 1.2s\n",
      "50:\tlearn: 0.4491271\ttotal: 158ms\tremaining: 1.08s\n",
      "75:\tlearn: 0.3994364\ttotal: 222ms\tremaining: 946ms\n",
      "100:\tlearn: 0.3688253\ttotal: 298ms\tremaining: 883ms\n",
      "125:\tlearn: 0.3472239\ttotal: 373ms\tremaining: 811ms\n",
      "150:\tlearn: 0.3312767\ttotal: 454ms\tremaining: 748ms\n",
      "175:\tlearn: 0.3204630\ttotal: 527ms\tremaining: 670ms\n",
      "200:\tlearn: 0.3115900\ttotal: 596ms\tremaining: 590ms\n",
      "225:\tlearn: 0.3039507\ttotal: 667ms\tremaining: 514ms\n",
      "250:\tlearn: 0.2966064\ttotal: 740ms\tremaining: 439ms\n",
      "275:\tlearn: 0.2907793\ttotal: 817ms\tremaining: 367ms\n",
      "300:\tlearn: 0.2858949\ttotal: 887ms\tremaining: 292ms\n",
      "325:\tlearn: 0.2806240\ttotal: 963ms\tremaining: 219ms\n",
      "350:\tlearn: 0.2760981\ttotal: 1.04s\tremaining: 146ms\n",
      "375:\tlearn: 0.2724966\ttotal: 1.12s\tremaining: 71.2ms\n",
      "399:\tlearn: 0.2680483\ttotal: 1.18s\tremaining: 0us\n",
      "CPU times: user 1.18 s, sys: 10.4 ms, total: 1.19 s\n",
      "Wall time: 1.35 s\n"
     ]
    },
    {
     "data": {
      "text/plain": [
       "<catboost.core.CatBoostClassifier at 0x7f14cd67aaf0>"
      ]
     },
     "execution_count": 168,
     "metadata": {},
     "output_type": "execute_result"
    }
   ],
   "source": [
    "%%time\n",
    "\n",
    "cat_boost_downsampled_tuned.fit(train_features_downsampled, train_target_downsampled, verbose = 25)"
   ]
  },
  {
   "cell_type": "code",
   "execution_count": 169,
   "metadata": {},
   "outputs": [
    {
     "name": "stdout",
     "output_type": "stream",
     "text": [
      "Validation Set AUC-ROC Value = 0.933\n"
     ]
    }
   ],
   "source": [
    "cat_boost_downsampled_tuned_valid_pred_proba = cat_boost_downsampled_tuned.predict_proba(valid_features)\n",
    "cat_boost_downsampled_tuned_valid_pred_proba = cat_boost_downsampled_tuned_valid_pred_proba[:, 1]\n",
    "\n",
    "print('Validation Set AUC-ROC Value =', round(roc_auc_score(valid_target, cat_boost_downsampled_tuned_valid_pred_proba), 3))"
   ]
  },
  {
   "cell_type": "markdown",
   "metadata": {},
   "source": [
    "Though this model has potential, hyperparameter tuning, unfortunately, does not improve it as much as the model trained using the upsampled training set."
   ]
  },
  {
   "cell_type": "markdown",
   "metadata": {},
   "source": [
    "# Model Testing <a id = 9></a>"
   ]
  },
  {
   "cell_type": "markdown",
   "metadata": {},
   "source": [
    "I have decided to pick the model named **cat_boost_upsampled_tuned**. This model is the one that strikes the balance between having a large AUC-ROC value and also having a very short wall time. Let's see if it is able to get a sufficiently large AUC-ROC value on the test set."
   ]
  },
  {
   "cell_type": "code",
   "execution_count": 170,
   "metadata": {},
   "outputs": [
    {
     "name": "stdout",
     "output_type": "stream",
     "text": [
      "Test Set AUC-ROC Value = 0.947\n"
     ]
    }
   ],
   "source": [
    "cat_boost_upsampled_tuned_test_pred_proba = cat_boost_upsampled_tuned.predict_proba(test_features)\n",
    "cat_boost_upsampled_tuned_test_pred_proba = cat_boost_upsampled_tuned_test_pred_proba[:, 1]\n",
    "\n",
    "print('Test Set AUC-ROC Value =', round(roc_auc_score(test_target, cat_boost_upsampled_tuned_test_pred_proba), 3))"
   ]
  },
  {
   "cell_type": "markdown",
   "metadata": {},
   "source": [
    "Excellent! I have successfully built a machine learning model that acquired an AUC-ROC value that is at least (and in fact, well over) 0.85 on both the validation set and the test set."
   ]
  },
  {
   "cell_type": "markdown",
   "metadata": {},
   "source": [
    "I would like to plot the ROC curve of the validation set and that of the test set so that Interconnect stakeholders may have visuals of my find."
   ]
  },
  {
   "cell_type": "code",
   "execution_count": 171,
   "metadata": {},
   "outputs": [
    {
     "data": {
      "image/png": "[encoded data removed]",
      "text/plain": [
       "<Figure size 792x792 with 1 Axes>"
      ]
     },
     "metadata": {
      "needs_background": "light"
     },
     "output_type": "display_data"
    }
   ],
   "source": [
    "fpr_valid, tpr_valid, thresholds_valid = roc_curve(valid_target, cat_boost_upsampled_tuned_valid_pred_proba)\n",
    "\n",
    "plt.figure(figsize = (11, 11))\n",
    "plt.plot(fpr_valid, tpr_valid)\n",
    "plt.plot([0, 1], [0, 1], linestyle = '-')\n",
    "plt.title('ROC Curve of the Upsampled & Tuned Cat Boost Machine Learning Model Applied to the Validation Set')\n",
    "plt.xlabel('False Positive Rate')\n",
    "plt.xlim([0.0, 1.0])\n",
    "plt.xticks([0.0, 0.1, 0.2, 0.3, 0.4, 0.5, 0.6, 0.7, 0.8, 0.9, 1.0])\n",
    "plt.ylabel('True Positive Rate')\n",
    "plt.ylim([0.0, 1.0])\n",
    "plt.yticks([0.0, 0.1, 0.2, 0.3, 0.4, 0.5, 0.6, 0.7, 0.8, 0.9, 1.0])\n",
    "\n",
    "for xtick_value in [0.0, 0.1, 0.2, 0.3, 0.4, 0.5, 0.6, 0.7, 0.8, 0.9, 1.0]:\n",
    "    plt.axvline(x = xtick_value, color = 'grey', linestyle = '-', lw = 0.25)\n",
    "    \n",
    "for ytick_value in [0.0, 0.1, 0.2, 0.3, 0.4, 0.5, 0.6, 0.7, 0.8, 0.9, 1.0]:\n",
    "    plt.axhline(y = ytick_value, color = 'grey', linestyle = '-', lw = 0.25)\n",
    "\n",
    "plt.show()"
   ]
  },
  {
   "cell_type": "code",
   "execution_count": 172,
   "metadata": {},
   "outputs": [
    {
     "data": {
      "image/png": "[encoded data removed]",
      "text/plain": [
       "<Figure size 792x792 with 1 Axes>"
      ]
     },
     "metadata": {
      "needs_background": "light"
     },
     "output_type": "display_data"
    }
   ],
   "source": [
    "fpr_test, tpr_test, thresholds_test = roc_curve(test_target, cat_boost_upsampled_tuned_test_pred_proba)\n",
    "\n",
    "plt.figure(figsize = (11, 11))\n",
    "plt.plot(fpr_test, tpr_test)\n",
    "plt.plot([0, 1], [0, 1], linestyle = '-')\n",
    "plt.title('ROC Curve of the Upsampled & Tuned Cat Boost Machine Learning Model Applied to the Test Set')\n",
    "plt.xlabel('False Positive Rate')\n",
    "plt.xlim([0.0, 1.0])\n",
    "plt.xticks([0.0, 0.1, 0.2, 0.3, 0.4, 0.5, 0.6, 0.7, 0.8, 0.9, 1.0])\n",
    "plt.ylabel('True Positive Rate')\n",
    "plt.ylim([0.0, 1.0])\n",
    "plt.yticks([0.0, 0.1, 0.2, 0.3, 0.4, 0.5, 0.6, 0.7, 0.8, 0.9, 1.0])\n",
    "\n",
    "for xtick_value in [0.0, 0.1, 0.2, 0.3, 0.4, 0.5, 0.6, 0.7, 0.8, 0.9, 1.0]:\n",
    "    plt.axvline(x = xtick_value, color = 'grey', linestyle = '-', lw = 0.25)\n",
    "    \n",
    "for ytick_value in [0.0, 0.1, 0.2, 0.3, 0.4, 0.5, 0.6, 0.7, 0.8, 0.9, 1.0]:\n",
    "    plt.axhline(y = ytick_value, color = 'grey', linestyle = '-', lw = 0.25)\n",
    "\n",
    "plt.show()"
   ]
  },
  {
   "cell_type": "markdown",
   "metadata": {},
   "source": [
    "One of the reasons why ROC curves are useful is because they are a convenient way to give a machine learning model a sanity check.\n",
    "\n",
    "Hypothetically, if the AUC-ROC value is exactly 0.5, that would mean the model is no better at classifying outcomes than random chance. Furthermore, if the AUC-ROC value is less than 0.5, that would mean the model is even worse at classifying than random chance. \n",
    "\n",
    "Since I got an AUC-ROC value that is much closer to 1 than it is to 0.5, I may be confident that my model is much better at classifying than random chance.\n",
    "\n",
    "It is worth mentioning how promising the thresholds on the ROC curves are. Both curves have a point located at approximately (0.2, 0.9) [though it is more like (0.15, 0.9) for the test set], which means that about 20% (15%) of customers who have not left Interconnect were mistakingly classified as having left (false positives), and about 90% of customers who did leave Interconnect were correctly classified as having left (true positives).\n",
    "\n",
    "If Interconnect stakeholders happen to conclude that 90% is not a high enough percentage for the true positives, and they would prefer 95% even though this would increase the percentage of false positives, then another approximate point on the ROC curve is (0.4, 0.95) [more like (0.3, 0.95) for the test set]."
   ]
  },
  {
   "cell_type": "markdown",
   "metadata": {},
   "source": [
    "# Solution Report <a id = 10></a>"
   ]
  },
  {
   "cell_type": "markdown",
   "metadata": {},
   "source": [
    "My team leader would like for me to answer the following questions: \n",
    "\n",
    "(1) What steps of the plan were performed and what steps were skipped (explain why)?\n",
    "\n",
    "(2) What difficulties did you encounter and how did you manage to solve them?\n",
    "\n",
    "(3) What were some of the key steps to solving the task?\n",
    "\n",
    "(4) What is your final model and what quality score does it have?\n",
    "\n",
    "Furthermore, it would be good to comment on what I think are some of the main reasons why some customers churn.\n",
    "\n",
    "I will respond to these questions one at a time."
   ]
  },
  {
   "cell_type": "markdown",
   "metadata": {},
   "source": [
    "(1) What steps of the plan were performed and what steps were skipped (explain why)?\n",
    "\n",
    "I performed all of the steps of my work plan. I acquired answers to the questions I had from either my team leader or my code reviewer. Furthermore, I used all of the <u>numerical</u> columns in the **all_info** dataframe to train different learning models. Speaking of the models, with the exception of the logisitic regression, all of them are boosting algorithms, just as I intended. All of them managed to acquire an AUC-ROC value on the validation set that was well over 0.85, and I used **GridSearchCV** to find hyperparameter values that further increased the AUC-ROC values. Finally, the report I said I would write is found at the very end of this section.\n",
    "\n",
    "(<u>SIDE NOTE</u>: I deliberately did not use the **customer_id**, **begin_date**, and **end_date** columns when training the models. Each **customer_id** value is unique, and therefore would not help the models. As for **begin_date** and **end_date**, I did not need them because I used the **left_interconnect** and **duration_months** columns instead.)"
   ]
  },
  {
   "cell_type": "markdown",
   "metadata": {},
   "source": [
    "(2) What difficulties did you encounter and how did you manage to solve them?\n",
    "\n",
    "There were two difficulties I encountered as a result of silly mistakes on my part.\n",
    "\n",
    "(I) At first, I had a lot of trouble with the **internet_info** dataframe. \n",
    "\n",
    "When I first opened it, I saw that there were **A LOT** more rows than I was expecting, and the dataframe did not have a **customer_id** column, unlike the others. Hence, I had a hard time coming up with a way to merge **internet_info** with the other dataframes. It did have an **id** column, but I found it impossible to find out which **id** values went with which **customer_id** values.\n",
    "\n",
    "My code reviewer helped me realize that I simply took the **internet_info** from the wrong directory. It turns out that all of the four data files are located in the `/datasets/final_provider/` directory, and I mistakingly used the `/datasets/` directory for all four, which, oddly enough, has a copy of all the files except **internet_info**.\n",
    "\n",
    "(II) The other mistake is when I initially calculated the AUC-ROC values of my models, I mistakingly used the **predict** method instead of the **predict_proba**. \n",
    "\n",
    "My code reviewer taught me that the **predict** method uses binary predictions instead of probabilities, and using binary predictions underestimates the real AUC-ROC values. This makes a lot of sense because I was really struggling to get sufficiently high AUC-ROC values using the **predict** method. \n",
    "\n",
    "At one point when I was still using the **predict** method, I had a model that got an AUC-ROC value of 0.866 on the validation set, which I perceived to be sufficiently large, only for it to get an AUC-ROC value of about 0.82 on the test set. Needless to say, this was frustrating. However, once I switched to the correct method I easily acquired AUC-ROC values that were greater than 0.9."
   ]
  },
  {
   "cell_type": "markdown",
   "metadata": {},
   "source": [
    "(3) What were some of the key steps to solving the task?\n",
    "\n",
    "Before I began training models, I did some feature engineering, namely I created the following columns: **left_interconnect**, **duration_months**, **total_fines**, **monthly_fines_avg**. It was a great idea to make create the **left_interconnect** and **duration_months** columns because they have Dtype int64, which is much easier for machine learning models to handle than datetime values like those found in **begin_date** and **end_date**. Furthermore, I'm glad I created the **total_fines** column because this turned out to be the most important feature (more on this below). Furthermore, **monthly_fines_avg** turned out to be the fifth most important feature.\n",
    "\n",
    "After doing feature engineering, I split the **all_info** dataframe into three sets: training, validation, and test. In theory, I could have split it into only two sets, training and test, but three sets is better because having the validation set allowed me to compare the AUC-ROC values of the models in an unbiased way. I could have compared the models using the training set, but this would not have been a good idea because models often overfit the training set. Another step I took that likely helped improve the models is I used stratification to ensure that the three sets received the same percentage of each possible target value.\n",
    "\n",
    "My team leader pointed out that there is a class imbalance with the target column, **left_interconnect**, and in response I created two new versions of the training set, one that is upsampled and another that is downsampled. The downsampled version has the exact same number of each possible target value, and the upsampled version is much closer to a 1:1 ratio than the original training set (52% and 48% compared to 27% and 73%). I used both versions of the training set to train the models, and I acquired similar AUC-ROC values with each (though the upsampled training set usually acquired slightly higher values).\n",
    "\n",
    "Lastly, I will mention that **GridSearchCV** was very helpful for this task. It would be extremely time consuming to toy around with every possible hyperparameter of each model, so to help **GridSearchCV** run as efficiently as possible, while also ensuring it improved the models, I chose to explore a set of possible values for only the hyperparameters that, to my understanding, are the most important ones. To give just one example, it is my understanding that four of the most important hyperparameters for the LGBMClassifier model are **learning_rate**, **max_depth**, **n_estimators**, and **num_leaves**, so I used **GridSearchCV** on only those hyperparameters."
   ]
  },
  {
   "cell_type": "markdown",
   "metadata": {},
   "source": [
    "(4) What is your final model and what quality score does it have?"
   ]
  },
  {
   "cell_type": "markdown",
   "metadata": {},
   "source": [
    "When it came time to decide which model would be my final one, it was between the tuned **CatBoostClassifier** that was trained using the upsampled training set and the tuned **XGBClassifier** that was trained using the upsampled training set. Both models acquired an AUC-ROC value of 0.935 on the validation set, but I picked the **CatBoostClassifier** because of its significantly shorter wall time. I assessed the **CatBoostClassifier** one last time using the test set, and it acquired an AUC-ROC value of 0.947. These two AUC-ROC values are fantastic results, since they are both well over 0.88, the minimum value needed to acquire all 6 story points for the solution code part of this task."
   ]
  },
  {
   "cell_type": "markdown",
   "metadata": {},
   "source": [
    "(5) Why do some customers churn?"
   ]
  },
  {
   "cell_type": "markdown",
   "metadata": {},
   "source": [
    "During my EDA, I discovered the following about customers who have churned:\n",
    "- Nearly 90% of them had a month-by-month contract instead of a one-year or a two-year contract. I wonder if it would be a good idea if Interconnect stopped offering month-by-month contracts, and instead offered only one-year and two-year contracts. Alternatively, maybe Interconnect should make the month-by-month contracts much more expensive than the others, something that I personally have seen gyms do. For example, I have heard of a gym where a month-by-month membership costs 29.99 USD per month whereas with a one-year contract, members would pay only 19.99 USD per month.\n",
    "- Nearly 70% of them used the fiber optic internet service. It is possible that at least some of these customers perceived the fiber optic internet service as being low-quality, possibly because it was too slow. This is only a guess on my part, however, and to know for sure it would be a good idea if Interconnect had current internet service users complete an occasional survey about how they perceive the quality of the service. I suppose Interconnect can also ask customers who have churned or who will soon churn to complete an \"exit survey\", but in my experience such surveys have a low response rate.\n",
    "- About 60% of them are single with no dependents. This makes sense because single people with no dependents have a much easier time leaving a company than others. I wonder if Interconnect should focus its advertising efforts on people who have a partner and/or dependents, because these people appear to be more likely to stay with Interconnect, even if they are not 100% satisified by the services. Maybe Interconnect should, on occasion, offer coupons to people with a partner and/or dependents in order to attract new customers, e.g. \"Sign up this week and get the first month free!\".\n",
    "- Over 55% of them paid using electronic checks when they were still Interconnect customers. I honestly do not know if there is a reason for this, or if this is due to mere random chance. Could it be that customers who used this payment method had to pay a processing fee, and this frustrated at least some of them? Whatever the case, I encourage Interconnect stakeholders to investigate this observation to see if paying by electronic check to some extent causes a customer to want to churn.\n",
    "\n",
    "It would be a good idea to quantify the importance of each feature in order to determine which ones are the most important. \n",
    "\n",
    "In the next line, I use a method called **get_feature_importance** that assigns an importance value between 0 and 1 (inclusive) to each feature. The bigger the value, the more important the feature is."
   ]
  },
  {
   "cell_type": "code",
   "execution_count": 173,
   "metadata": {},
   "outputs": [
    {
     "name": "stdout",
     "output_type": "stream",
     "text": [
      "[2.20232358e-02 6.17949984e-03 1.16022975e-02 7.65308777e-03\n",
      " 1.22997637e-01 3.74109336e-02 9.51582984e-04 5.46654702e-03\n",
      " 4.83354399e-04 1.67536869e-03 2.21133593e-04 1.66963088e-04\n",
      " 1.67128186e-02 3.16026466e-03 2.65332388e-03 2.00001478e-03\n",
      " 2.62012708e-03 3.79263756e-03 3.91181386e-03 6.73337808e-05\n",
      " 2.14981515e-03]\n"
     ]
    }
   ],
   "source": [
    "train_pool = Pool(data = train_features_upsampled, label = train_target_upsampled)\n",
    "\n",
    "print(cat_boost_upsampled_tuned.get_feature_importance(data = train_pool, type = 'LossFunctionChange'))"
   ]
  },
  {
   "cell_type": "markdown",
   "metadata": {},
   "source": [
    "It is difficult to tell which importance values go with which features, so in the next two lines I store the names of the features and their corresponding importance values into a dataframe. I purposely sort the dataframe in descending order of importance values."
   ]
  },
  {
   "cell_type": "code",
   "execution_count": 174,
   "metadata": {},
   "outputs": [],
   "source": [
    "feature_names = ['duration_months', 'monthly_fee', 'monthly_fines_avg', 'total_charges', 'total_fines', \n",
    "                 'contract_type', 'paperless_billing', 'payment_method', 'gender', 'dependents', 'partner', \n",
    "                 'senior_citizen', 'internet_service', 'online_security', 'online_backup', 'device_protection', \n",
    "                 'tech_support', 'streaming_tv', 'streaming_movies', 'has_phone_line', 'multiple_lines']\n",
    "\n",
    "feature_importance_values = [2.20232358e-02, 6.17949984e-03, 1.16022975e-02, 7.65308777e-03, 1.22997637e-01, \n",
    "                             3.74109336e-02, 9.51582984e-04, 5.46654702e-03, 4.83354399e-04, 1.67536869e-03, \n",
    "                             2.21133593e-04, 1.66963088e-04, 1.67128186e-02, 3.16026466e-03, 2.65332388e-03, \n",
    "                             2.00001478e-03, 2.62012708e-03, 3.79263756e-03, 3.91181386e-03, 6.73337808e-05, 2.14981515e-03]"
   ]
  },
  {
   "cell_type": "code",
   "execution_count": 175,
   "metadata": {},
   "outputs": [
    {
     "data": {
      "text/html": [
       "<div>\n",
       "<style scoped>\n",
       "    .dataframe tbody tr th:only-of-type {\n",
       "        vertical-align: middle;\n",
       "    }\n",
       "\n",
       "    .dataframe tbody tr th {\n",
       "        vertical-align: top;\n",
       "    }\n",
       "\n",
       "    .dataframe thead th {\n",
       "        text-align: right;\n",
       "    }\n",
       "</style>\n",
       "<table border=\"1\" class=\"dataframe\">\n",
       "  <thead>\n",
       "    <tr style=\"text-align: right;\">\n",
       "      <th></th>\n",
       "      <th>feature</th>\n",
       "      <th>importance</th>\n",
       "    </tr>\n",
       "  </thead>\n",
       "  <tbody>\n",
       "    <tr>\n",
       "      <th>0</th>\n",
       "      <td>total_fines</td>\n",
       "      <td>0.122998</td>\n",
       "    </tr>\n",
       "    <tr>\n",
       "      <th>1</th>\n",
       "      <td>contract_type</td>\n",
       "      <td>0.037411</td>\n",
       "    </tr>\n",
       "    <tr>\n",
       "      <th>2</th>\n",
       "      <td>duration_months</td>\n",
       "      <td>0.022023</td>\n",
       "    </tr>\n",
       "    <tr>\n",
       "      <th>3</th>\n",
       "      <td>internet_service</td>\n",
       "      <td>0.016713</td>\n",
       "    </tr>\n",
       "    <tr>\n",
       "      <th>4</th>\n",
       "      <td>monthly_fines_avg</td>\n",
       "      <td>0.011602</td>\n",
       "    </tr>\n",
       "    <tr>\n",
       "      <th>5</th>\n",
       "      <td>total_charges</td>\n",
       "      <td>0.007653</td>\n",
       "    </tr>\n",
       "    <tr>\n",
       "      <th>6</th>\n",
       "      <td>monthly_fee</td>\n",
       "      <td>0.006179</td>\n",
       "    </tr>\n",
       "    <tr>\n",
       "      <th>7</th>\n",
       "      <td>payment_method</td>\n",
       "      <td>0.005467</td>\n",
       "    </tr>\n",
       "    <tr>\n",
       "      <th>8</th>\n",
       "      <td>streaming_movies</td>\n",
       "      <td>0.003912</td>\n",
       "    </tr>\n",
       "    <tr>\n",
       "      <th>9</th>\n",
       "      <td>streaming_tv</td>\n",
       "      <td>0.003793</td>\n",
       "    </tr>\n",
       "    <tr>\n",
       "      <th>10</th>\n",
       "      <td>online_security</td>\n",
       "      <td>0.003160</td>\n",
       "    </tr>\n",
       "    <tr>\n",
       "      <th>11</th>\n",
       "      <td>online_backup</td>\n",
       "      <td>0.002653</td>\n",
       "    </tr>\n",
       "    <tr>\n",
       "      <th>12</th>\n",
       "      <td>tech_support</td>\n",
       "      <td>0.002620</td>\n",
       "    </tr>\n",
       "    <tr>\n",
       "      <th>13</th>\n",
       "      <td>multiple_lines</td>\n",
       "      <td>0.002150</td>\n",
       "    </tr>\n",
       "    <tr>\n",
       "      <th>14</th>\n",
       "      <td>device_protection</td>\n",
       "      <td>0.002000</td>\n",
       "    </tr>\n",
       "    <tr>\n",
       "      <th>15</th>\n",
       "      <td>dependents</td>\n",
       "      <td>0.001675</td>\n",
       "    </tr>\n",
       "    <tr>\n",
       "      <th>16</th>\n",
       "      <td>paperless_billing</td>\n",
       "      <td>0.000952</td>\n",
       "    </tr>\n",
       "    <tr>\n",
       "      <th>17</th>\n",
       "      <td>gender</td>\n",
       "      <td>0.000483</td>\n",
       "    </tr>\n",
       "    <tr>\n",
       "      <th>18</th>\n",
       "      <td>partner</td>\n",
       "      <td>0.000221</td>\n",
       "    </tr>\n",
       "    <tr>\n",
       "      <th>19</th>\n",
       "      <td>senior_citizen</td>\n",
       "      <td>0.000167</td>\n",
       "    </tr>\n",
       "    <tr>\n",
       "      <th>20</th>\n",
       "      <td>has_phone_line</td>\n",
       "      <td>0.000067</td>\n",
       "    </tr>\n",
       "  </tbody>\n",
       "</table>\n",
       "</div>"
      ],
      "text/plain": [
       "              feature  importance\n",
       "0         total_fines    0.122998\n",
       "1       contract_type    0.037411\n",
       "2     duration_months    0.022023\n",
       "3    internet_service    0.016713\n",
       "4   monthly_fines_avg    0.011602\n",
       "5       total_charges    0.007653\n",
       "6         monthly_fee    0.006179\n",
       "7      payment_method    0.005467\n",
       "8    streaming_movies    0.003912\n",
       "9        streaming_tv    0.003793\n",
       "10    online_security    0.003160\n",
       "11      online_backup    0.002653\n",
       "12       tech_support    0.002620\n",
       "13     multiple_lines    0.002150\n",
       "14  device_protection    0.002000\n",
       "15         dependents    0.001675\n",
       "16  paperless_billing    0.000952\n",
       "17             gender    0.000483\n",
       "18            partner    0.000221\n",
       "19     senior_citizen    0.000167\n",
       "20     has_phone_line    0.000067"
      ]
     },
     "metadata": {},
     "output_type": "display_data"
    }
   ],
   "source": [
    "feature_importance_df = pd.DataFrame({'feature': feature_names, 'importance': feature_importance_values})\n",
    "feature_importance_df = feature_importance_df.sort_values(by = 'importance', ascending = False)\n",
    "feature_importance_df = feature_importance_df.reset_index(drop = True)\n",
    "\n",
    "display(feature_importance_df)"
   ]
  },
  {
   "cell_type": "markdown",
   "metadata": {},
   "source": [
    "As mentioned earlier, the most important feature is **total_fines**, a feature that I engineered into the **all_info** dataframe. Intuitively, this makes sense because it is very common for a person to leave a company if they think they are not getting their money's worth.\n",
    "\n",
    "Furthermore, I am not surprised that **contract_type** is the second most important feature because I discovered earlier that the overwhelming majority of customers who churned had a month-by-month contract. That said, it is good to have an objective number to support my realization.\n",
    "\n",
    "I think it is worth pointing out that **internet_service** is the fourth most important feature, which I see as evidence that the perceived quality of Interconnect's internet services is a major contributing factor when it comes to a customer deciding whether to churn or stay.\n",
    "\n",
    "With all that being said, notice that none of the features have an importance value that is anywhere near 1. The largest importance value is 0.122998, which is much closer to 0 than 1. This implies that no one feature matters very much to the machine learning models, but perhaps the ***interaction*** between the features does. I print the importance scores, in descending order, of each feature interaction pairing in the next line."
   ]
  },
  {
   "cell_type": "code",
   "execution_count": 176,
   "metadata": {},
   "outputs": [
    {
     "name": "stdout",
     "output_type": "stream",
     "text": [
      "duration_months & total_fines\n",
      "Importance Score = 8.2819\n",
      "\n",
      "total_fines & contract_type\n",
      "Importance Score = 7.82\n",
      "\n",
      "total_fines & internet_service\n",
      "Importance Score = 3.9773\n",
      "\n",
      "duration_months & monthly_fines_avg\n",
      "Importance Score = 3.5911\n",
      "\n",
      "total_charges & total_fines\n",
      "Importance Score = 3.4005\n",
      "\n",
      "monthly_fee & total_fines\n",
      "Importance Score = 3.1126\n",
      "\n",
      "monthly_fines_avg & total_fines\n",
      "Importance Score = 2.7333\n",
      "\n",
      "duration_months & contract_type\n",
      "Importance Score = 2.4714\n",
      "\n",
      "monthly_fines_avg & contract_type\n",
      "Importance Score = 2.4077\n",
      "\n",
      "total_fines & streaming_tv\n",
      "Importance Score = 1.7582\n",
      "\n",
      "total_fines & streaming_movies\n",
      "Importance Score = 1.7036\n",
      "\n",
      "total_fines & device_protection\n",
      "Importance Score = 1.6212\n",
      "\n",
      "duration_months & payment_method\n",
      "Importance Score = 1.6197\n",
      "\n",
      "total_fines & online_security\n",
      "Importance Score = 1.5933\n",
      "\n",
      "total_fines & online_backup\n",
      "Importance Score = 1.3366\n",
      "\n",
      "duration_months & total_charges\n",
      "Importance Score = 1.26\n",
      "\n",
      "monthly_fines_avg & payment_method\n",
      "Importance Score = 1.2564\n",
      "\n",
      "monthly_fines_avg & total_charges\n",
      "Importance Score = 1.2448\n",
      "\n",
      "total_fines & payment_method\n",
      "Importance Score = 1.2116\n",
      "\n",
      "duration_months & monthly_fee\n",
      "Importance Score = 1.1454\n",
      "\n",
      "total_fines & tech_support\n",
      "Importance Score = 1.1451\n",
      "\n",
      "duration_months & internet_service\n",
      "Importance Score = 1.1072\n",
      "\n",
      "monthly_fee & contract_type\n",
      "Importance Score = 1.0976\n",
      "\n",
      "total_charges & contract_type\n",
      "Importance Score = 1.0858\n",
      "\n",
      "duration_months & online_security\n",
      "Importance Score = 1.0657\n",
      "\n",
      "contract_type & internet_service\n",
      "Importance Score = 1.0561\n",
      "\n",
      "duration_months & streaming_movies\n",
      "Importance Score = 1.0061\n",
      "\n",
      "monthly_fines_avg & internet_service\n",
      "Importance Score = 1.006\n",
      "\n",
      "total_fines & multiple_lines\n",
      "Importance Score = 0.992\n",
      "\n",
      "monthly_fee & monthly_fines_avg\n",
      "Importance Score = 0.9914\n",
      "\n",
      "duration_months & online_backup\n",
      "Importance Score = 0.976\n",
      "\n",
      "duration_months & tech_support\n",
      "Importance Score = 0.9576\n",
      "\n",
      "contract_type & streaming_movies\n",
      "Importance Score = 0.8626\n",
      "\n",
      "duration_months & streaming_tv\n",
      "Importance Score = 0.8305\n",
      "\n",
      "contract_type & streaming_tv\n",
      "Importance Score = 0.824\n",
      "\n",
      "duration_months & multiple_lines\n",
      "Importance Score = 0.8008\n",
      "\n",
      "duration_months & device_protection\n",
      "Importance Score = 0.8001\n",
      "\n",
      "monthly_fines_avg & online_security\n",
      "Importance Score = 0.7646\n",
      "\n",
      "monthly_fines_avg & streaming_tv\n",
      "Importance Score = 0.6889\n",
      "\n",
      "monthly_fines_avg & tech_support\n",
      "Importance Score = 0.6171\n",
      "\n",
      "contract_type & online_security\n",
      "Importance Score = 0.6131\n",
      "\n",
      "contract_type & tech_support\n",
      "Importance Score = 0.6087\n",
      "\n",
      "monthly_fines_avg & online_backup\n",
      "Importance Score = 0.6079\n",
      "\n",
      "total_charges & internet_service\n",
      "Importance Score = 0.5747\n",
      "\n",
      "monthly_fines_avg & streaming_movies\n",
      "Importance Score = 0.5561\n",
      "\n",
      "contract_type & online_backup\n",
      "Importance Score = 0.5475\n",
      "\n",
      "contract_type & device_protection\n",
      "Importance Score = 0.5295\n",
      "\n",
      "monthly_fee & total_charges\n",
      "Importance Score = 0.5285\n",
      "\n",
      "payment_method & tech_support\n",
      "Importance Score = 0.527\n",
      "\n",
      "payment_method & online_backup\n",
      "Importance Score = 0.4947\n",
      "\n",
      "monthly_fines_avg & multiple_lines\n",
      "Importance Score = 0.4865\n",
      "\n",
      "internet_service & online_security\n",
      "Importance Score = 0.4849\n",
      "\n",
      "contract_type & multiple_lines\n",
      "Importance Score = 0.4743\n",
      "\n",
      "total_charges & payment_method\n",
      "Importance Score = 0.4669\n",
      "\n",
      "monthly_fines_avg & device_protection\n",
      "Importance Score = 0.4615\n",
      "\n",
      "total_charges & online_backup\n",
      "Importance Score = 0.4442\n",
      "\n",
      "online_security & tech_support\n",
      "Importance Score = 0.4384\n",
      "\n",
      "contract_type & payment_method\n",
      "Importance Score = 0.4379\n",
      "\n",
      "total_charges & streaming_movies\n",
      "Importance Score = 0.4347\n",
      "\n",
      "total_charges & streaming_tv\n",
      "Importance Score = 0.4321\n",
      "\n",
      "monthly_fee & online_security\n",
      "Importance Score = 0.4164\n",
      "\n",
      "online_security & streaming_movies\n",
      "Importance Score = 0.4153\n",
      "\n",
      "total_fines & dependents\n",
      "Importance Score = 0.408\n",
      "\n",
      "monthly_fee & streaming_movies\n",
      "Importance Score = 0.3843\n",
      "\n",
      "monthly_fee & payment_method\n",
      "Importance Score = 0.3816\n",
      "\n",
      "total_charges & tech_support\n",
      "Importance Score = 0.3628\n",
      "\n",
      "duration_months & dependents\n",
      "Importance Score = 0.36\n",
      "\n",
      "monthly_fee & streaming_tv\n",
      "Importance Score = 0.3595\n",
      "\n",
      "payment_method & internet_service\n",
      "Importance Score = 0.3562\n",
      "\n",
      "monthly_fee & tech_support\n",
      "Importance Score = 0.3544\n",
      "\n",
      "payment_method & multiple_lines\n",
      "Importance Score = 0.3491\n",
      "\n",
      "monthly_fee & online_backup\n",
      "Importance Score = 0.3452\n",
      "\n",
      "streaming_tv & streaming_movies\n",
      "Importance Score = 0.3401\n",
      "\n",
      "monthly_fines_avg & dependents\n",
      "Importance Score = 0.3255\n",
      "\n",
      "total_charges & online_security\n",
      "Importance Score = 0.3244\n",
      "\n",
      "monthly_fee & device_protection\n",
      "Importance Score = 0.3016\n",
      "\n",
      "payment_method & streaming_tv\n",
      "Importance Score = 0.3004\n",
      "\n",
      "payment_method & streaming_movies\n",
      "Importance Score = 0.2926\n",
      "\n",
      "monthly_fee & multiple_lines\n",
      "Importance Score = 0.2901\n",
      "\n",
      "contract_type & dependents\n",
      "Importance Score = 0.29\n",
      "\n",
      "online_backup & streaming_tv\n",
      "Importance Score = 0.2799\n",
      "\n",
      "total_charges & multiple_lines\n",
      "Importance Score = 0.2737\n",
      "\n",
      "total_fines & paperless_billing\n",
      "Importance Score = 0.2631\n",
      "\n",
      "internet_service & streaming_tv\n",
      "Importance Score = 0.261\n",
      "\n",
      "internet_service & streaming_movies\n",
      "Importance Score = 0.2525\n",
      "\n",
      "tech_support & streaming_movies\n",
      "Importance Score = 0.239\n",
      "\n",
      "online_security & device_protection\n",
      "Importance Score = 0.2362\n",
      "\n",
      "payment_method & online_security\n",
      "Importance Score = 0.2348\n",
      "\n",
      "total_charges & device_protection\n",
      "Importance Score = 0.2315\n",
      "\n",
      "paperless_billing & online_security\n",
      "Importance Score = 0.2314\n",
      "\n",
      "online_security & online_backup\n",
      "Importance Score = 0.2278\n",
      "\n",
      "tech_support & streaming_tv\n",
      "Importance Score = 0.224\n",
      "\n",
      "internet_service & online_backup\n",
      "Importance Score = 0.2136\n",
      "\n",
      "online_backup & multiple_lines\n",
      "Importance Score = 0.208\n",
      "\n",
      "paperless_billing & tech_support\n",
      "Importance Score = 0.2035\n",
      "\n",
      "internet_service & tech_support\n",
      "Importance Score = 0.2021\n",
      "\n",
      "payment_method & device_protection\n",
      "Importance Score = 0.1923\n",
      "\n",
      "duration_months & gender\n",
      "Importance Score = 0.1898\n",
      "\n",
      "monthly_fee & internet_service\n",
      "Importance Score = 0.179\n",
      "\n",
      "streaming_movies & multiple_lines\n",
      "Importance Score = 0.1745\n",
      "\n",
      "device_protection & streaming_tv\n",
      "Importance Score = 0.1739\n",
      "\n",
      "total_charges & gender\n",
      "Importance Score = 0.1709\n",
      "\n",
      "online_security & streaming_tv\n",
      "Importance Score = 0.1652\n",
      "\n",
      "internet_service & device_protection\n",
      "Importance Score = 0.1638\n",
      "\n",
      "monthly_fee & paperless_billing\n",
      "Importance Score = 0.1636\n",
      "\n",
      "payment_method & dependents\n",
      "Importance Score = 0.159\n",
      "\n",
      "online_security & multiple_lines\n",
      "Importance Score = 0.1508\n",
      "\n",
      "online_backup & tech_support\n",
      "Importance Score = 0.1503\n",
      "\n",
      "internet_service & multiple_lines\n",
      "Importance Score = 0.1501\n",
      "\n",
      "total_fines & gender\n",
      "Importance Score = 0.1498\n",
      "\n",
      "paperless_billing & payment_method\n",
      "Importance Score = 0.1485\n",
      "\n",
      "monthly_fines_avg & paperless_billing\n",
      "Importance Score = 0.1483\n",
      "\n",
      "device_protection & tech_support\n",
      "Importance Score = 0.14\n",
      "\n",
      "dependents & internet_service\n",
      "Importance Score = 0.1398\n",
      "\n",
      "duration_months & paperless_billing\n",
      "Importance Score = 0.1391\n",
      "\n",
      "online_backup & streaming_movies\n",
      "Importance Score = 0.1368\n",
      "\n",
      "streaming_tv & multiple_lines\n",
      "Importance Score = 0.1367\n",
      "\n",
      "contract_type & paperless_billing\n",
      "Importance Score = 0.1307\n",
      "\n",
      "monthly_fee & dependents\n",
      "Importance Score = 0.1198\n",
      "\n",
      "total_fines & has_phone_line\n",
      "Importance Score = 0.1118\n",
      "\n",
      "monthly_fines_avg & gender\n",
      "Importance Score = 0.1114\n",
      "\n",
      "dependents & multiple_lines\n",
      "Importance Score = 0.106\n",
      "\n",
      "tech_support & multiple_lines\n",
      "Importance Score = 0.1033\n",
      "\n",
      "online_backup & device_protection\n",
      "Importance Score = 0.1027\n",
      "\n",
      "contract_type & senior_citizen\n",
      "Importance Score = 0.0956\n",
      "\n",
      "device_protection & has_phone_line\n",
      "Importance Score = 0.0928\n",
      "\n",
      "monthly_fee & gender\n",
      "Importance Score = 0.0926\n",
      "\n",
      "dependents & device_protection\n",
      "Importance Score = 0.0869\n",
      "\n",
      "total_charges & dependents\n",
      "Importance Score = 0.0867\n",
      "\n",
      "dependents & streaming_movies\n",
      "Importance Score = 0.0852\n",
      "\n",
      "duration_months & partner\n",
      "Importance Score = 0.0829\n",
      "\n",
      "dependents & online_backup\n",
      "Importance Score = 0.0828\n",
      "\n",
      "device_protection & multiple_lines\n",
      "Importance Score = 0.0806\n",
      "\n",
      "payment_method & gender\n",
      "Importance Score = 0.0774\n",
      "\n",
      "paperless_billing & streaming_movies\n",
      "Importance Score = 0.0721\n",
      "\n",
      "online_security & has_phone_line\n",
      "Importance Score = 0.067\n",
      "\n",
      "total_charges & paperless_billing\n",
      "Importance Score = 0.0658\n",
      "\n",
      "monthly_fee & partner\n",
      "Importance Score = 0.0654\n",
      "\n",
      "duration_months & senior_citizen\n",
      "Importance Score = 0.0648\n",
      "\n",
      "internet_service & has_phone_line\n",
      "Importance Score = 0.0642\n",
      "\n",
      "senior_citizen & internet_service\n",
      "Importance Score = 0.0618\n",
      "\n",
      "dependents & online_security\n",
      "Importance Score = 0.0608\n",
      "\n",
      "gender & streaming_tv\n",
      "Importance Score = 0.0594\n",
      "\n",
      "total_fines & senior_citizen\n",
      "Importance Score = 0.0558\n",
      "\n",
      "gender & tech_support\n",
      "Importance Score = 0.0543\n",
      "\n",
      "total_fines & partner\n",
      "Importance Score = 0.0537\n",
      "\n",
      "contract_type & gender\n",
      "Importance Score = 0.052\n",
      "\n",
      "senior_citizen & streaming_tv\n",
      "Importance Score = 0.0497\n",
      "\n",
      "paperless_billing & internet_service\n",
      "Importance Score = 0.0488\n",
      "\n",
      "paperless_billing & gender\n",
      "Importance Score = 0.0478\n",
      "\n",
      "monthly_fee & senior_citizen\n",
      "Importance Score = 0.0446\n",
      "\n",
      "dependents & streaming_tv\n",
      "Importance Score = 0.0443\n",
      "\n",
      "payment_method & senior_citizen\n",
      "Importance Score = 0.0426\n",
      "\n",
      "contract_type & has_phone_line\n",
      "Importance Score = 0.0423\n",
      "\n",
      "dependents & tech_support\n",
      "Importance Score = 0.0402\n",
      "\n",
      "gender & online_backup\n",
      "Importance Score = 0.0392\n",
      "\n",
      "monthly_fines_avg & senior_citizen\n",
      "Importance Score = 0.0371\n",
      "\n",
      "gender & internet_service\n",
      "Importance Score = 0.0361\n",
      "\n",
      "gender & device_protection\n",
      "Importance Score = 0.0359\n",
      "\n",
      "partner & multiple_lines\n",
      "Importance Score = 0.0329\n",
      "\n",
      "gender & streaming_movies\n",
      "Importance Score = 0.0325\n",
      "\n",
      "device_protection & streaming_movies\n",
      "Importance Score = 0.0316\n",
      "\n",
      "monthly_fines_avg & has_phone_line\n",
      "Importance Score = 0.028\n",
      "\n",
      "dependents & senior_citizen\n",
      "Importance Score = 0.0271\n",
      "\n",
      "partner & streaming_movies\n",
      "Importance Score = 0.0266\n",
      "\n",
      "paperless_billing & streaming_tv\n",
      "Importance Score = 0.0253\n",
      "\n",
      "paperless_billing & dependents\n",
      "Importance Score = 0.0247\n",
      "\n",
      "paperless_billing & online_backup\n",
      "Importance Score = 0.0233\n",
      "\n",
      "partner & online_backup\n",
      "Importance Score = 0.023\n",
      "\n",
      "gender & online_security\n",
      "Importance Score = 0.0229\n",
      "\n",
      "gender & multiple_lines\n",
      "Importance Score = 0.0222\n",
      "\n",
      "senior_citizen & online_backup\n",
      "Importance Score = 0.0215\n",
      "\n",
      "monthly_fines_avg & partner\n",
      "Importance Score = 0.0212\n",
      "\n",
      "partner & streaming_tv\n",
      "Importance Score = 0.0198\n",
      "\n",
      "contract_type & partner\n",
      "Importance Score = 0.0181\n",
      "\n",
      "partner & device_protection\n",
      "Importance Score = 0.0175\n",
      "\n",
      "has_phone_line & multiple_lines\n",
      "Importance Score = 0.0168\n",
      "\n",
      "paperless_billing & multiple_lines\n",
      "Importance Score = 0.0164\n",
      "\n",
      "monthly_fee & has_phone_line\n",
      "Importance Score = 0.0157\n",
      "\n",
      "payment_method & partner\n",
      "Importance Score = 0.0143\n",
      "\n",
      "partner & internet_service\n",
      "Importance Score = 0.014\n",
      "\n",
      "gender & partner\n",
      "Importance Score = 0.014\n",
      "\n",
      "senior_citizen & streaming_movies\n",
      "Importance Score = 0.0138\n",
      "\n",
      "tech_support & has_phone_line\n",
      "Importance Score = 0.0121\n",
      "\n",
      "paperless_billing & device_protection\n",
      "Importance Score = 0.0114\n",
      "\n",
      "total_charges & has_phone_line\n",
      "Importance Score = 0.0112\n",
      "\n",
      "senior_citizen & device_protection\n",
      "Importance Score = 0.0105\n",
      "\n",
      "payment_method & has_phone_line\n",
      "Importance Score = 0.0103\n",
      "\n",
      "partner & online_security\n",
      "Importance Score = 0.0085\n",
      "\n",
      "dependents & has_phone_line\n",
      "Importance Score = 0.0084\n",
      "\n",
      "senior_citizen & tech_support\n",
      "Importance Score = 0.008\n",
      "\n",
      "partner & tech_support\n",
      "Importance Score = 0.0042\n",
      "\n",
      "total_charges & partner\n",
      "Importance Score = 0.004\n",
      "\n",
      "total_charges & senior_citizen\n",
      "Importance Score = 0.0008\n",
      "\n"
     ]
    }
   ],
   "source": [
    "importance_matrix = cat_boost_upsampled_tuned.get_feature_importance(data = train_pool, type = 'Interaction')\n",
    "\n",
    "importance_matrix_tuples_sorted = sorted(importance_matrix, key = lambda x: x[2], reverse = True)\n",
    "\n",
    "for trio in importance_matrix_tuples_sorted:\n",
    "    feature1_index = int(trio[0])\n",
    "    feature2_index = int(trio[1])\n",
    "    importance_score = trio[2]\n",
    "    \n",
    "    feature1_name = feature_names[feature1_index]\n",
    "    feature2_name = feature_names[feature2_index]\n",
    "    \n",
    "    print(f\"{feature1_name} & {feature2_name}\")\n",
    "    print(f\"Importance Score = {round(importance_score, 4)}\")\n",
    "    print()"
   ]
  },
  {
   "cell_type": "markdown",
   "metadata": {},
   "source": [
    "The two largest importance scores, by far, belong to the pairings **duration_months & total_fines** (8.2819) and **total_fines & contract_type** (7.82). These scores are in harmony with the fact that **total_fines** is the feature with the highest importance score. \n",
    "\n",
    "Since **total_fines** includes not only the total sum of every monthly fee but also any other fee a customer paid, it could be that some customers churned because they were fed up with the additional fees. It is possible that these additional fees were the consequence of the customers going over the limits of their package, such as spending too much time on the internet. If this is true, then maybe Interconnect should consider offering new packages, including ones that come with unlimited internet usage (assuming they don't already offer such packages).\n",
    "\n",
    "Though there is a big drop from the second highest importance score (7.82) to the third highest (3.9773), I think it is worth adding that when it comes to the top 10 highest importance scores, 7 of them include **total_fines** in the pairing. Furthermore, of the 3 that do not, 2 of them have **monthly_fines_avg** in the pairing, which is another feature I engineered. These results, I think, provide strong evidence to support Interconnect's desire to want to offer promotional codes and special plan options to customers who are expected to churn."
   ]
  },
  {
   "cell_type": "markdown",
   "metadata": {},
   "source": [
    "For reference, the top 10 highest scoring interaction pairs are as follows:\n",
    "\n",
    "(1) duration_months & total_fines →\n",
    "Importance Score = 8.2819\n",
    "\n",
    "(2) total_fines & contract_type →\n",
    "Importance Score = 7.82\n",
    "\n",
    "(3) total_fines & internet_service →\n",
    "Importance Score = 3.9773\n",
    "\n",
    "(4) duration_months & monthly_fines_avg →\n",
    "Importance Score = 3.5911\n",
    "\n",
    "(5) total_charges & total_fines →\n",
    "Importance Score = 3.4005\n",
    "\n",
    "(6) monthly_fee & total_fines →\n",
    "Importance Score = 3.1126\n",
    "\n",
    "(7) monthly_fines_avg & total_fines →\n",
    "Importance Score = 2.7333\n",
    "\n",
    "(8) duration_months & contract_type →\n",
    "Importance Score = 2.4714\n",
    "\n",
    "(9) monthly_fines_avg & contract_type →\n",
    "Importance Score = 2.4077\n",
    "\n",
    "(10) total_fines & streaming_tv →\n",
    "Importance Score = 1.7582"
   ]
  }
 ],
 "metadata": {
  "kernelspec": {
   "display_name": "Python 3 (ipykernel)",
   "language": "python",
   "name": "python3"
  },
  "language_info": {
   "codemirror_mode": {
    "name": "ipython",
    "version": 3
   },
   "file_extension": ".py",
   "mimetype": "text/x-python",
   "name": "python",
   "nbconvert_exporter": "python",
   "pygments_lexer": "ipython3",
   "version": "3.9.5"
  },
  "toc": {
   "base_numbering": 1,
   "nav_menu": {},
   "number_sections": true,
   "sideBar": true,
   "skip_h1_title": true,
   "title_cell": "Table of Contents",
   "title_sidebar": "Contents",
   "toc_cell": false,
   "toc_position": {},
   "toc_section_display": true,
   "toc_window_display": false
  }
 },
 "nbformat": 4,
 "nbformat_minor": 2
}
